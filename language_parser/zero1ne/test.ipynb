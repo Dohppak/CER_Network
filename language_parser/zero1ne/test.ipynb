{
 "cells": [
  {
   "cell_type": "code",
   "execution_count": 1,
   "metadata": {},
   "outputs": [
    {
     "name": "stderr",
     "output_type": "stream",
     "text": [
      "Duplicate key in file '/Users/seungheondoh/.matplotlib/matplotlibrc' line #2.\n"
     ]
    },
    {
     "name": "stdout",
     "output_type": "stream",
     "text": [
      "gensim  version = 3.8.1\n",
      "sklearn version = 0.21.2\n"
     ]
    }
   ],
   "source": [
    "import gensim\n",
    "import sklearn\n",
    "import numpy as np\n",
    "import pandas as pd\n",
    "from gensim.models import Doc2Vec\n",
    "from gensim.models.doc2vec import TaggedDocument\n",
    "from random import shuffle\n",
    "import pandas as pd\n",
    "from konlpy.tag import Okt\n",
    "print('gensim  version = {}'.format(gensim.__version__))\n",
    "print('sklearn version = {}'.format(sklearn.__version__))"
   ]
  },
  {
   "cell_type": "code",
   "execution_count": 2,
   "metadata": {},
   "outputs": [],
   "source": [
    "dataset_path = 'kor_data.csv'\n",
    "remove_item = ('','Conjunction','Verb','Determiner', 'Exclamation','Josa','Punctuation','Suffix', 'Foreign', 'Number','Adverb')\n",
    "pos_tagger = Okt()"
   ]
  },
  {
   "cell_type": "code",
   "execution_count": 3,
   "metadata": {
    "scrolled": false
   },
   "outputs": [],
   "source": [
    "df = pd.read_csv('./kor_data.csv')"
   ]
  },
  {
   "cell_type": "code",
   "execution_count": 4,
   "metadata": {},
   "outputs": [],
   "source": [
    "def tokenize(doc):\n",
    "    return ['/'.join(t) for t in pos_tagger.pos(doc, norm=True, stem=True)]\n",
    "\n",
    "def main(dataset_path, remove_item):\n",
    "    df = pd.read_csv(dataset_path)\n",
    "    docs = list(df['디스크립션'])\n",
    "    train_docs = [tokenize(row) for row in docs]\n",
    "    trained_docs_list = []\n",
    "    for item in train_docs:\n",
    "        dummy = []\n",
    "        for indi in item:\n",
    "            if (indi.split('/')[1] not in remove_item):\n",
    "                dummy.append(indi.split('/')[0])\n",
    "        trained_docs_list.append(dummy)\n",
    "    \n",
    "    df['text'] = trained_docs_list\n",
    "    return df\n",
    "df = main(dataset_path, remove_item)"
   ]
  },
  {
   "cell_type": "code",
   "execution_count": 5,
   "metadata": {},
   "outputs": [],
   "source": [
    "zipdata = zip(df['프로젝트명'],df['text'])"
   ]
  },
  {
   "cell_type": "code",
   "execution_count": 6,
   "metadata": {},
   "outputs": [],
   "source": [
    "tagged_data = [TaggedDocument(words=_d, tags=[str(i)]) for i, _d in zipdata]"
   ]
  },
  {
   "cell_type": "code",
   "execution_count": 7,
   "metadata": {},
   "outputs": [],
   "source": [
    "model = gensim.models.Doc2Vec(vector_size=100, window=10, min_count=1, workers=8, alpha=0.025, min_alpha=0.015, \n",
    "                              epochs=500)\n",
    "#sample=1e-4, negative=5\n",
    "#shuffling is better (ot needed at each trianing epoch\n",
    "shuffle(tagged_data)\n",
    "#Build vocabulary from a sequence of sentences \n",
    "model.build_vocab(tagged_data)\n",
    "#Update the model’s neural weights from a sequence of sentences\n",
    "model.train(tagged_data, epochs=model.epochs, total_examples=model.corpus_count)"
   ]
  },
  {
   "cell_type": "code",
   "execution_count": 41,
   "metadata": {},
   "outputs": [],
   "source": [
    "import pickle\n",
    "# with open('model.pkl', 'wb') as f:\n",
    "#     pickle.dump(model, f)\n",
    "with open('model.pkl', 'rb') as f:\n",
    "    model = pickle.load(f)"
   ]
  },
  {
   "cell_type": "markdown",
   "metadata": {},
   "source": [
    "# Json"
   ]
  },
  {
   "cell_type": "code",
   "execution_count": 42,
   "metadata": {},
   "outputs": [
    {
     "data": {
      "text/plain": [
       "['김정태', '박승순', '양아치', '이장원', '조호영', '최진훈', '최병일', '현박']"
      ]
     },
     "execution_count": 42,
     "metadata": {},
     "output_type": "execute_result"
    }
   ],
   "source": [
    "artist = list(df['작가명'].unique())\n",
    "artist"
   ]
  },
  {
   "cell_type": "code",
   "execution_count": 43,
   "metadata": {},
   "outputs": [],
   "source": [
    "def artist_vec(artist, df, dv, wv, idx_to_doc, idx_to_vocab, tagged_data):\n",
    "    project = pd.DataFrame(dv, index=idx_to_doc)\n",
    "    word = pd.DataFrame(wv, index=idx_to_vocab)\n",
    "    allvector = []\n",
    "    for i in list(df[df['작가명'] == artist]['프로젝트명']):\n",
    "        allvector.append(project.loc[str(i)])\n",
    "#         for word_vec, name in tagged_data:\n",
    "#             if i == name[0]:\n",
    "#                 for j in word_vec:\n",
    "#                     allvector.append(word.loc[str(j)])\n",
    "    np_all = np.array(allvector)\n",
    "    artist_vec = np.mean(np_all, axis=0)\n",
    "    return artist_vec"
   ]
  },
  {
   "cell_type": "code",
   "execution_count": 44,
   "metadata": {},
   "outputs": [],
   "source": [
    "wv = model.wv.vectors\n",
    "dv = model.docvecs.vectors_docs\n",
    "\n",
    "idx_to_doc = model.docvecs.index2entity\n",
    "idx_to_vocab = model.wv.index2word"
   ]
  },
  {
   "cell_type": "code",
   "execution_count": 45,
   "metadata": {},
   "outputs": [],
   "source": [
    "artist_100 = []\n",
    "for i in artist:\n",
    "    artist_100.append(artist_vec(i, df, dv, wv, idx_to_doc, idx_to_vocab, tagged_data))"
   ]
  },
  {
   "cell_type": "code",
   "execution_count": 46,
   "metadata": {},
   "outputs": [],
   "source": [
    "av = np.array(artist_100)"
   ]
  },
  {
   "cell_type": "code",
   "execution_count": 47,
   "metadata": {},
   "outputs": [
    {
     "data": {
      "text/plain": [
       "'P_Sally'"
      ]
     },
     "execution_count": 47,
     "metadata": {},
     "output_type": "execute_result"
    }
   ],
   "source": [
    "# Project =, word, Key충돌\n",
    "\n",
    "new_doc = []\n",
    "for i in idx_to_doc:\n",
    "    projectName = 'P_'+i\n",
    "    new_doc.append(projectName)\n",
    "    \n",
    "new_doc[0]"
   ]
  },
  {
   "cell_type": "code",
   "execution_count": 48,
   "metadata": {},
   "outputs": [],
   "source": [
    "def makeUniqe(doc,docType='Project'):\n",
    "    new_doc = []\n",
    "    for i in doc:\n",
    "        new_name =docType + '_' + i\n",
    "        new_doc.append(new_name)\n",
    "    return new_doc"
   ]
  },
  {
   "cell_type": "code",
   "execution_count": 49,
   "metadata": {},
   "outputs": [],
   "source": [
    "new_doc = makeUniqe(idx_to_doc,'Project')\n",
    "new_art = makeUniqe(artist,'Artist')"
   ]
  },
  {
   "cell_type": "code",
   "execution_count": 50,
   "metadata": {},
   "outputs": [],
   "source": [
    "artist_index = len(new_art)\n",
    "doc_index = len(idx_to_doc)\n",
    "word_index = len(idx_to_vocab)\n",
    "entity_list = new_art + new_doc + idx_to_vocab\n",
    "vec100 = np.vstack([av, dv, wv])\n",
    "df_total = pd.DataFrame(vec100, index=entity_list)"
   ]
  },
  {
   "cell_type": "code",
   "execution_count": 51,
   "metadata": {},
   "outputs": [],
   "source": [
    "from sklearn.metrics.pairwise import cosine_similarity\n",
    "temp = cosine_similarity(df_total)\n",
    "df_similarity = pd.DataFrame(temp, columns=entity_list)"
   ]
  },
  {
   "cell_type": "code",
   "execution_count": 52,
   "metadata": {},
   "outputs": [],
   "source": [
    "def get_similarity(df_similarity, query, new_art, new_doc, idx_to_vocab, top_n = 5):\n",
    "    artist_index = len(new_art)\n",
    "    doc_index = len(new_doc)\n",
    "    word_index = len(idx_to_vocab)\n",
    "\n",
    "    artist_top5 = df_similarity[query].iloc[:artist_index].sort_values(ascending=False)[1:top_n+1]\n",
    "    artist_result = []\n",
    "    for idx,sim in zip(artist_top5.index,artist_top5.values):\n",
    "        documents = {}\n",
    "        documents['key'] = new_art[idx]\n",
    "        documents['similarity'] = sim\n",
    "        artist_result.append(documents)\n",
    "        \n",
    "    doc_top5 = df_similarity[query].iloc[artist_index:artist_index+doc_index].sort_values(ascending=False)[1:top_n+1]\n",
    "    doc_result = []\n",
    "    for idx,sim in zip(doc_top5.index, doc_top5.values):\n",
    "        documents = {}\n",
    "        documents['key'] = new_doc[idx-artist_index]\n",
    "        documents['similarity'] = sim\n",
    "        doc_result.append(documents)\n",
    "        \n",
    "    word_top5 = df_similarity[query].iloc[artist_index+doc_index:].sort_values(ascending=False)[1:top_n+1]\n",
    "    word_result = []\n",
    "    for idx,sim in zip(word_top5.index, word_top5.values):\n",
    "        documents = {}\n",
    "        documents['key'] = idx_to_vocab[idx-artist_index-doc_index]\n",
    "        documents['similarity'] = sim\n",
    "        word_result.append(documents)\n",
    "    \n",
    "    return artist_result, doc_result, word_result"
   ]
  },
  {
   "cell_type": "code",
   "execution_count": 53,
   "metadata": {},
   "outputs": [
    {
     "data": {
      "text/plain": [
       "'Artist_양아치'"
      ]
     },
     "execution_count": 53,
     "metadata": {},
     "output_type": "execute_result"
    }
   ],
   "source": [
    "new_art[2]"
   ]
  },
  {
   "cell_type": "code",
   "execution_count": 118,
   "metadata": {},
   "outputs": [
    {
     "data": {
      "text/plain": [
       "([{'key': 'Artist_최진훈', 'similarity': 0.68887335},\n",
       "  {'key': 'Artist_조호영', 'similarity': 0.68617564},\n",
       "  {'key': 'Artist_김정태', 'similarity': 0.6452769},\n",
       "  {'key': 'Artist_이장원', 'similarity': 0.6113128},\n",
       "  {'key': 'Artist_박승순', 'similarity': 0.60041225}],\n",
       " [{'key': 'Project_Screen Screen Screen', 'similarity': 0.662458},\n",
       "  {'key': 'Project_ZER01NE MAGAZINE', 'similarity': 0.6278928},\n",
       "  {'key': 'Project_엠알랩', 'similarity': 0.6218226},\n",
       "  {'key': 'Project_어디가 프로젝트', 'similarity': 0.6168661},\n",
       "  {'key': 'Project_아름다운 비행', 'similarity': 0.58710253}],\n",
       " [{'key': '조형', 'similarity': 0.74239916},\n",
       "  {'key': '미리', 'similarity': 0.74176913},\n",
       "  {'key': '자살', 'similarity': 0.7363745},\n",
       "  {'key': '어렵다', 'similarity': 0.71748704},\n",
       "  {'key': '매혹', 'similarity': 0.7170589}])"
      ]
     },
     "execution_count": 118,
     "metadata": {},
     "output_type": "execute_result"
    }
   ],
   "source": [
    "get_similarity(df_similarity, 'Project_비 독창적 비 적층식 액상 조형장치', new_art, new_doc, idx_to_vocab)"
   ]
  },
  {
   "cell_type": "code",
   "execution_count": 55,
   "metadata": {},
   "outputs": [],
   "source": [
    "from sklearn.decomposition import PCA\n",
    "from sklearn.manifold import TSNE\n",
    "\n",
    "def embedding(x, method='tsne', perplexity=10):\n",
    "    if method == 'pca':\n",
    "        trainer = PCA(n_components=2)\n",
    "    else:\n",
    "        trainer = TSNE(n_components=2, perplexity=perplexity)\n",
    "    return trainer.fit_transform(x)"
   ]
  },
  {
   "cell_type": "code",
   "execution_count": 56,
   "metadata": {},
   "outputs": [
    {
     "data": {
      "text/plain": [
       "(8, 1124, 22)"
      ]
     },
     "execution_count": 56,
     "metadata": {},
     "output_type": "execute_result"
    }
   ],
   "source": [
    "av.shape[0],wv.shape[0],dv.shape[0]"
   ]
  },
  {
   "cell_type": "code",
   "execution_count": 57,
   "metadata": {},
   "outputs": [],
   "source": [
    "z_merge = embedding(np.vstack([wv, dv]), 'tsne')\n",
    "z_wv = z_merge[:wv.shape[0]]\n",
    "z_dv = z_merge[wv.shape[0]:]"
   ]
  },
  {
   "cell_type": "code",
   "execution_count": 58,
   "metadata": {},
   "outputs": [
    {
     "data": {
      "text/plain": [
       "['김정태', '박승순', '양아치', '이장원', '조호영', '최진훈', '최병일', '현박']"
      ]
     },
     "execution_count": 58,
     "metadata": {},
     "output_type": "execute_result"
    }
   ],
   "source": [
    "artist"
   ]
  },
  {
   "cell_type": "code",
   "execution_count": 59,
   "metadata": {},
   "outputs": [],
   "source": [
    "z_av = []\n",
    "for i in artist:\n",
    "    z_av.append(artist_vec(i, df, z_dv, z_wv, idx_to_doc, idx_to_vocab, tagged_data))"
   ]
  },
  {
   "cell_type": "code",
   "execution_count": 60,
   "metadata": {},
   "outputs": [],
   "source": [
    "z_av = np.array(z_av)"
   ]
  },
  {
   "cell_type": "code",
   "execution_count": 61,
   "metadata": {},
   "outputs": [
    {
     "data": {
      "text/plain": [
       "(8, 1124, 22)"
      ]
     },
     "execution_count": 61,
     "metadata": {},
     "output_type": "execute_result"
    }
   ],
   "source": [
    "len(z_av), len(z_wv), len(z_dv)"
   ]
  },
  {
   "cell_type": "code",
   "execution_count": 62,
   "metadata": {},
   "outputs": [],
   "source": [
    "doc_index = len(idx_to_doc)\n",
    "word_index = len(idx_to_vocab)"
   ]
  },
  {
   "cell_type": "code",
   "execution_count": 63,
   "metadata": {},
   "outputs": [],
   "source": [
    "group_a = []\n",
    "for i in range(len(artist)):\n",
    "    group_a.append('artist')\n",
    "group_w = []\n",
    "for i in range(len(idx_to_vocab)):\n",
    "    group_w.append('word')\n",
    "group_p = []\n",
    "for i in range(len(new_doc)):\n",
    "    group_p.append('project')"
   ]
  },
  {
   "cell_type": "code",
   "execution_count": 64,
   "metadata": {},
   "outputs": [],
   "source": [
    "col = ['key','id','x','y','Group']\n",
    "artist_data = {'key':new_art,'id':artist, 'x':z_av.T[0],'y':z_av.T[1],'Group': group_a}\n",
    "doc_data = {'key':new_doc,'id':idx_to_doc,'x':z_dv.T[0],'y':z_dv.T[1],'Group': group_p}\n",
    "word_data = {'key':idx_to_vocab,'id':idx_to_vocab,'x':z_wv.T[0],'y':z_wv.T[1],'Group': group_w}"
   ]
  },
  {
   "cell_type": "code",
   "execution_count": 65,
   "metadata": {},
   "outputs": [],
   "source": [
    "a = pd.DataFrame(artist_data, columns=col)\n",
    "b = pd.DataFrame(word_data, columns=col)\n",
    "c = pd.DataFrame(doc_data, columns=col)"
   ]
  },
  {
   "cell_type": "code",
   "execution_count": 66,
   "metadata": {},
   "outputs": [
    {
     "data": {
      "text/html": [
       "<div>\n",
       "<style scoped>\n",
       "    .dataframe tbody tr th:only-of-type {\n",
       "        vertical-align: middle;\n",
       "    }\n",
       "\n",
       "    .dataframe tbody tr th {\n",
       "        vertical-align: top;\n",
       "    }\n",
       "\n",
       "    .dataframe thead th {\n",
       "        text-align: right;\n",
       "    }\n",
       "</style>\n",
       "<table border=\"1\" class=\"dataframe\">\n",
       "  <thead>\n",
       "    <tr style=\"text-align: right;\">\n",
       "      <th></th>\n",
       "      <th>key</th>\n",
       "      <th>id</th>\n",
       "      <th>x</th>\n",
       "      <th>y</th>\n",
       "      <th>Group</th>\n",
       "    </tr>\n",
       "  </thead>\n",
       "  <tbody>\n",
       "    <tr>\n",
       "      <th>0</th>\n",
       "      <td>Artist_김정태</td>\n",
       "      <td>김정태</td>\n",
       "      <td>-25.856247</td>\n",
       "      <td>4.081685</td>\n",
       "      <td>artist</td>\n",
       "    </tr>\n",
       "    <tr>\n",
       "      <th>1</th>\n",
       "      <td>Artist_박승순</td>\n",
       "      <td>박승순</td>\n",
       "      <td>12.920586</td>\n",
       "      <td>6.756471</td>\n",
       "      <td>artist</td>\n",
       "    </tr>\n",
       "    <tr>\n",
       "      <th>2</th>\n",
       "      <td>Artist_양아치</td>\n",
       "      <td>양아치</td>\n",
       "      <td>20.153425</td>\n",
       "      <td>-16.116323</td>\n",
       "      <td>artist</td>\n",
       "    </tr>\n",
       "    <tr>\n",
       "      <th>3</th>\n",
       "      <td>Artist_이장원</td>\n",
       "      <td>이장원</td>\n",
       "      <td>35.738045</td>\n",
       "      <td>-15.674254</td>\n",
       "      <td>artist</td>\n",
       "    </tr>\n",
       "    <tr>\n",
       "      <th>4</th>\n",
       "      <td>Artist_조호영</td>\n",
       "      <td>조호영</td>\n",
       "      <td>22.023046</td>\n",
       "      <td>13.988201</td>\n",
       "      <td>artist</td>\n",
       "    </tr>\n",
       "  </tbody>\n",
       "</table>\n",
       "</div>"
      ],
      "text/plain": [
       "          key   id          x          y   Group\n",
       "0  Artist_김정태  김정태 -25.856247   4.081685  artist\n",
       "1  Artist_박승순  박승순  12.920586   6.756471  artist\n",
       "2  Artist_양아치  양아치  20.153425 -16.116323  artist\n",
       "3  Artist_이장원  이장원  35.738045 -15.674254  artist\n",
       "4  Artist_조호영  조호영  22.023046  13.988201  artist"
      ]
     },
     "execution_count": 66,
     "metadata": {},
     "output_type": "execute_result"
    }
   ],
   "source": [
    "total = pd.concat([a,b,c])\n",
    "total.head()"
   ]
  },
  {
   "cell_type": "code",
   "execution_count": 69,
   "metadata": {},
   "outputs": [],
   "source": [
    "def get_artist_db(df, query):\n",
    "    query = query.split('_')[1]\n",
    "    project = list(df[df['작가명']== query]['프로젝트명'])\n",
    "    inside = list(df[df['작가명']==query]['내부파트너'].dropna().unique())\n",
    "    outside = list(df[df['작가명']==query]['외부파트너'].dropna().unique())\n",
    "    media = list(df[df['작가명']==query]['매체'].dropna().unique())\n",
    "    \n",
    "    key_list = []\n",
    "    keyword = \"\"\n",
    "    for i in list(df[df['작가명']==query]['키워드'])[0]:\n",
    "        if i != '#':\n",
    "            keyword = keyword + i\n",
    "        elif len(keyword) > 1:\n",
    "            key_list.append(keyword.strip())\n",
    "            keyword = \"\"\n",
    "    \n",
    "    documents = {}\n",
    "    documents['id'] = query\n",
    "    documents['project'] = project\n",
    "    documents['key_list'] = key_list\n",
    "    documents['media'] = media\n",
    "    documents['inside'] = inside\n",
    "    documents['outside'] = outside\n",
    "    return documents"
   ]
  },
  {
   "cell_type": "code",
   "execution_count": 70,
   "metadata": {},
   "outputs": [
    {
     "data": {
      "text/plain": [
       "{'id': '박승순',\n",
       " 'project': ['모멘텀',\n",
       "  '인터미디어 모빌리티 R&D',\n",
       "  '창의R&d',\n",
       "  'NeuroScape for Mobility(N4M)',\n",
       "  'Music for Vehicles'],\n",
       " 'key_list': ['아쿠아포닉스', '물의 연주', '딥러닝 알고리즘', '이미지와 사운드'],\n",
       " 'media': ['음악/사운드 설치',\n",
       "  '아카이브 및 프레젠테이션, 비디오, 사운드, 키노트 프리젠테이션',\n",
       "  '혼합매체, 가변설치',\n",
       "  '퍼포먼스, 8채널 사운드, 8채널 비디오, 가변설치'],\n",
       " 'inside': ['박승순, 전형산', '창의생태연구모임(박승순, 우아름, 임서진)', '박성민, 박승순'],\n",
       " 'outside': ['서지혜, 도승헌']}"
      ]
     },
     "execution_count": 70,
     "metadata": {},
     "output_type": "execute_result"
    }
   ],
   "source": [
    "get_artist_db(df, 'Artist_박승순')"
   ]
  },
  {
   "cell_type": "code",
   "execution_count": 119,
   "metadata": {},
   "outputs": [],
   "source": [
    "import collections\n",
    "\n",
    "\n",
    "def get_project_db(df, query):\n",
    "    sim_query = query\n",
    "    query = query.split('_')[1]\n",
    "    artist = df[df['프로젝트명']== query]['작가명'].values[0]\n",
    "    descrtibe = list(df[df['프로젝트명']== query]['디스크립션'])[0]\n",
    "    inside = list(df[df['프로젝트명']== query]['내부파트너'])\n",
    "    outside = list(df[df['프로젝트명']== query]['외부파트너'])\n",
    "    keyword_list = df[df['프로젝트명']== query]['text'].values[0]\n",
    "    keyword = collections.Counter(keyword_list).most_common(5)\n",
    "    year = df[df['프로젝트명']== query]['년도'].values[0]\n",
    "    sim_art,sim_doc,sim_word = get_similarity(df_similarity, sim_query , new_art, new_doc, idx_to_vocab)\n",
    "    \n",
    "    documents = {}\n",
    "    documents['id'] = query\n",
    "    documents['artist'] = artist\n",
    "    documents['descrtibe'] = descrtibe\n",
    "    documents['inside'] = inside\n",
    "    documents['outside'] = outside\n",
    "    documents['keyword'] = keyword\n",
    "    documents['year'] = year\n",
    "    documents['sim_doc'] = sim_doc\n",
    "    documents['sim_word'] = sim_word\n",
    "    \n",
    "    return documents"
   ]
  },
  {
   "cell_type": "code",
   "execution_count": 120,
   "metadata": {},
   "outputs": [],
   "source": [
    "def get_keyword_db(df, query):\n",
    "    use_artist = []\n",
    "    use_project = []\n",
    "\n",
    "    for idx,i in enumerate(df['text']):\n",
    "        if query in i:\n",
    "            use_artist.append(df.iloc[idx]['작가명'])\n",
    "            use_project.append(df.iloc[idx]['프로젝트명'])\n",
    "    \n",
    "    sim_art,sim_doc,sim_word = get_similarity(df_similarity, query , new_art, new_doc, idx_to_vocab)\n",
    "    \n",
    "    documents = {}\n",
    "    documents['id'] = query\n",
    "    documents['use_artist'] = list(set(use_artist))\n",
    "    documents['use_project'] = list(set(use_project))\n",
    "    documents['sim_art'] = sim_art\n",
    "    documents['sim_doc'] = sim_doc\n",
    "    documents['sim_word'] = sim_word\n",
    "    \n",
    "    return documents"
   ]
  },
  {
   "cell_type": "code",
   "execution_count": 122,
   "metadata": {},
   "outputs": [],
   "source": [
    "attribute_a = []\n",
    "for i in new_art:\n",
    "    attribute_a.append(get_artist_db(df, i))\n",
    "    \n",
    "attribute_d = []\n",
    "for i in new_doc:\n",
    "    attribute_d.append(get_project_db(df, i))\n",
    "    \n",
    "attribute_w = []\n",
    "for i in idx_to_vocab:\n",
    "    attribute_w.append(get_keyword_db(df, i))"
   ]
  },
  {
   "cell_type": "code",
   "execution_count": 126,
   "metadata": {},
   "outputs": [],
   "source": [
    "attribute = attribute_a + attribute_d + attribute_w"
   ]
  },
  {
   "cell_type": "code",
   "execution_count": 127,
   "metadata": {},
   "outputs": [],
   "source": [
    "total['attritube'] = attribute"
   ]
  },
  {
   "cell_type": "code",
   "execution_count": 128,
   "metadata": {},
   "outputs": [
    {
     "data": {
      "text/html": [
       "<div>\n",
       "<style scoped>\n",
       "    .dataframe tbody tr th:only-of-type {\n",
       "        vertical-align: middle;\n",
       "    }\n",
       "\n",
       "    .dataframe tbody tr th {\n",
       "        vertical-align: top;\n",
       "    }\n",
       "\n",
       "    .dataframe thead th {\n",
       "        text-align: right;\n",
       "    }\n",
       "</style>\n",
       "<table border=\"1\" class=\"dataframe\">\n",
       "  <thead>\n",
       "    <tr style=\"text-align: right;\">\n",
       "      <th></th>\n",
       "      <th>key</th>\n",
       "      <th>id</th>\n",
       "      <th>x</th>\n",
       "      <th>y</th>\n",
       "      <th>Group</th>\n",
       "      <th>attritube</th>\n",
       "    </tr>\n",
       "  </thead>\n",
       "  <tbody>\n",
       "    <tr>\n",
       "      <th>0</th>\n",
       "      <td>Artist_김정태</td>\n",
       "      <td>김정태</td>\n",
       "      <td>-25.856247</td>\n",
       "      <td>4.081685</td>\n",
       "      <td>artist</td>\n",
       "      <td>{'id': '김정태', 'project': ['팀잇', '어디가 프로젝트'], '...</td>\n",
       "    </tr>\n",
       "    <tr>\n",
       "      <th>1</th>\n",
       "      <td>Artist_박승순</td>\n",
       "      <td>박승순</td>\n",
       "      <td>12.920586</td>\n",
       "      <td>6.756471</td>\n",
       "      <td>artist</td>\n",
       "      <td>{'id': '박승순', 'project': ['모멘텀', '인터미디어 모빌리티 R...</td>\n",
       "    </tr>\n",
       "    <tr>\n",
       "      <th>2</th>\n",
       "      <td>Artist_양아치</td>\n",
       "      <td>양아치</td>\n",
       "      <td>20.153425</td>\n",
       "      <td>-16.116323</td>\n",
       "      <td>artist</td>\n",
       "      <td>{'id': '양아치', 'project': ['Screen Screen Scree...</td>\n",
       "    </tr>\n",
       "    <tr>\n",
       "      <th>3</th>\n",
       "      <td>Artist_이장원</td>\n",
       "      <td>이장원</td>\n",
       "      <td>35.738045</td>\n",
       "      <td>-15.674254</td>\n",
       "      <td>artist</td>\n",
       "      <td>{'id': '이장원', 'project': ['아르키메데스 구멍 - 149,597...</td>\n",
       "    </tr>\n",
       "    <tr>\n",
       "      <th>4</th>\n",
       "      <td>Artist_조호영</td>\n",
       "      <td>조호영</td>\n",
       "      <td>22.023046</td>\n",
       "      <td>13.988201</td>\n",
       "      <td>artist</td>\n",
       "      <td>{'id': '조호영', 'project': ['랜드스케이프데이터프로젝트', '엠알...</td>\n",
       "    </tr>\n",
       "  </tbody>\n",
       "</table>\n",
       "</div>"
      ],
      "text/plain": [
       "          key   id          x          y   Group  \\\n",
       "0  Artist_김정태  김정태 -25.856247   4.081685  artist   \n",
       "1  Artist_박승순  박승순  12.920586   6.756471  artist   \n",
       "2  Artist_양아치  양아치  20.153425 -16.116323  artist   \n",
       "3  Artist_이장원  이장원  35.738045 -15.674254  artist   \n",
       "4  Artist_조호영  조호영  22.023046  13.988201  artist   \n",
       "\n",
       "                                           attritube  \n",
       "0  {'id': '김정태', 'project': ['팀잇', '어디가 프로젝트'], '...  \n",
       "1  {'id': '박승순', 'project': ['모멘텀', '인터미디어 모빌리티 R...  \n",
       "2  {'id': '양아치', 'project': ['Screen Screen Scree...  \n",
       "3  {'id': '이장원', 'project': ['아르키메데스 구멍 - 149,597...  \n",
       "4  {'id': '조호영', 'project': ['랜드스케이프데이터프로젝트', '엠알...  "
      ]
     },
     "execution_count": 128,
     "metadata": {},
     "output_type": "execute_result"
    }
   ],
   "source": [
    "total.head()"
   ]
  },
  {
   "cell_type": "code",
   "execution_count": 139,
   "metadata": {},
   "outputs": [],
   "source": [
    "total_dic = total.to_dict('record')"
   ]
  },
  {
   "cell_type": "code",
   "execution_count": 148,
   "metadata": {},
   "outputs": [
    {
     "data": {
      "text/plain": [
       "({'key': 'Artist_박승순',\n",
       "  'id': '박승순',\n",
       "  'x': 12.920585632324219,\n",
       "  'y': 6.756471157073975,\n",
       "  'Group': 'artist',\n",
       "  'attritube': {'id': '박승순',\n",
       "   'project': ['모멘텀',\n",
       "    '인터미디어 모빌리티 R&D',\n",
       "    '창의R&d',\n",
       "    'NeuroScape for Mobility(N4M)',\n",
       "    'Music for Vehicles'],\n",
       "   'key_list': ['아쿠아포닉스', '물의 연주', '딥러닝 알고리즘', '이미지와 사운드'],\n",
       "   'media': ['음악/사운드 설치',\n",
       "    '아카이브 및 프레젠테이션, 비디오, 사운드, 키노트 프리젠테이션',\n",
       "    '혼합매체, 가변설치',\n",
       "    '퍼포먼스, 8채널 사운드, 8채널 비디오, 가변설치'],\n",
       "   'inside': ['박승순, 전형산', '창의생태연구모임(박승순, 우아름, 임서진)', '박성민, 박승순'],\n",
       "   'outside': ['서지혜, 도승헌']}},\n",
       " {'key': '크리에이터',\n",
       "  'id': '크리에이터',\n",
       "  'x': -60.22866439819336,\n",
       "  'y': 44.926177978515625,\n",
       "  'Group': 'word',\n",
       "  'attritube': {'id': '있다',\n",
       "   'use_artist': ['양아치', '최진훈', '박승순', '김정태', '조호영', '최병일', '이장원', '현박'],\n",
       "   'use_project': ['아름다운 비행',\n",
       "    'Music for Vehicles',\n",
       "    'WILSON',\n",
       "    '소프트로봇 연구',\n",
       "    '아르키메데스 구멍 - 149,597,870,700, 2018',\n",
       "    '랜드스케이프데이터프로젝트',\n",
       "    '하얀 방 ',\n",
       "    'Screen; Less is More',\n",
       "    '비 독창적 비 적층식 액상 조형장치',\n",
       "    '창의R&d',\n",
       "    '인터미디어 모빌리티 R&D',\n",
       "    '모멘텀',\n",
       "    '팀잇',\n",
       "    'Sally'],\n",
       "   'sim_art': [{'key': 'Artist_박승순', 'similarity': 0.1199295},\n",
       "    {'key': 'Artist_현박', 'similarity': 0.11498305},\n",
       "    {'key': 'Artist_조호영', 'similarity': 0.10710942},\n",
       "    {'key': 'Artist_김정태', 'similarity': 0.102193534},\n",
       "    {'key': 'Artist_양아치', 'similarity': 0.06607934}],\n",
       "   'sim_doc': [{'key': 'Project_창의R&d', 'similarity': 0.18199943},\n",
       "    {'key': 'Project_아르키메데스 구멍 - 149,597,870,700, 2018',\n",
       "     'similarity': 0.18163452},\n",
       "    {'key': 'Project_아름다운 비행', 'similarity': 0.16591838},\n",
       "    {'key': 'Project_ZER01NE MAGAZINE', 'similarity': 0.1630673},\n",
       "    {'key': 'Project_🌐.FM, 웹, 2018', 'similarity': 0.13320918}],\n",
       "   'sim_word': [{'key': '현주소', 'similarity': 0.3335848},\n",
       "    {'key': '이자', 'similarity': 0.33240196},\n",
       "    {'key': '디자이너', 'similarity': 0.32646158},\n",
       "    {'key': '영상', 'similarity': 0.3247249},\n",
       "    {'key': '지시', 'similarity': 0.32356176}]}},\n",
       " {'key': '이미지',\n",
       "  'id': '이미지',\n",
       "  'x': -5.758208751678467,\n",
       "  'y': 44.36125564575195,\n",
       "  'Group': 'word',\n",
       "  'attritube': {'id': '안료',\n",
       "   'use_artist': ['최진훈', '이장원', '조호영', '현박'],\n",
       "   'use_project': ['엠알랩'],\n",
       "   'sim_art': [{'key': 'Artist_양아치', 'similarity': 0.6207671},\n",
       "    {'key': 'Artist_이장원', 'similarity': 0.617094},\n",
       "    {'key': 'Artist_최진훈', 'similarity': 0.59163284},\n",
       "    {'key': 'Artist_조호영', 'similarity': 0.590586},\n",
       "    {'key': 'Artist_최병일', 'similarity': 0.5236848}],\n",
       "   'sim_doc': [{'key': 'Project_WILSON', 'similarity': 0.61671287},\n",
       "    {'key': 'Project_엠알랩', 'similarity': 0.5894154},\n",
       "    {'key': 'Project_소프트로봇 연구', 'similarity': 0.54893196},\n",
       "    {'key': 'Project_아름다운 비행', 'similarity': 0.54816175},\n",
       "    {'key': 'Project_Screen Screen Screen', 'similarity': 0.53521276}],\n",
       "   'sim_word': [{'key': '탄소', 'similarity': 0.941037},\n",
       "    {'key': '전도성', 'similarity': 0.8557418},\n",
       "    {'key': '플루오르', 'similarity': 0.827308},\n",
       "    {'key': '서킷', 'similarity': 0.80672914},\n",
       "    {'key': '케톤', 'similarity': 0.787498}]}})"
      ]
     },
     "execution_count": 148,
     "metadata": {},
     "output_type": "execute_result"
    }
   ],
   "source": [
    "total_dic[1],total_dic[30],total_dic[100] "
   ]
  },
  {
   "cell_type": "code",
   "execution_count": 149,
   "metadata": {},
   "outputs": [],
   "source": [
    "import json\n",
    "import numpy as np\n",
    "\n",
    "class NpEncoder(json.JSONEncoder):\n",
    "    def default(self, obj):\n",
    "        if isinstance(obj, np.integer):\n",
    "            return int(obj)\n",
    "        elif isinstance(obj, np.floating):\n",
    "            return float(obj)\n",
    "        elif isinstance(obj, np.ndarray):\n",
    "            return obj.tolist()\n",
    "        else:\n",
    "            return super(NpEncoder, self).default(obj)\n",
    "\n",
    "# Your codes .... \n",
    "with open('total_dic.json', 'w', encoding='UTF-8') as outfile:\n",
    "    outfile.write(json.dumps(total_dic, cls=NpEncoder, ensure_ascii=False))"
   ]
  },
  {
   "cell_type": "code",
   "execution_count": 150,
   "metadata": {},
   "outputs": [
    {
     "data": {
      "text/html": [
       "\n",
       "    <div class=\"bk-root\">\n",
       "        <a href=\"https://bokeh.org\" target=\"_blank\" class=\"bk-logo bk-logo-small bk-logo-notebook\"></a>\n",
       "        <span id=\"1327\">Loading BokehJS ...</span>\n",
       "    </div>"
      ]
     },
     "metadata": {},
     "output_type": "display_data"
    },
    {
     "data": {
      "application/javascript": [
       "\n",
       "(function(root) {\n",
       "  function now() {\n",
       "    return new Date();\n",
       "  }\n",
       "\n",
       "  var force = true;\n",
       "\n",
       "  if (typeof root._bokeh_onload_callbacks === \"undefined\" || force === true) {\n",
       "    root._bokeh_onload_callbacks = [];\n",
       "    root._bokeh_is_loading = undefined;\n",
       "  }\n",
       "\n",
       "  var JS_MIME_TYPE = 'application/javascript';\n",
       "  var HTML_MIME_TYPE = 'text/html';\n",
       "  var EXEC_MIME_TYPE = 'application/vnd.bokehjs_exec.v0+json';\n",
       "  var CLASS_NAME = 'output_bokeh rendered_html';\n",
       "\n",
       "  /**\n",
       "   * Render data to the DOM node\n",
       "   */\n",
       "  function render(props, node) {\n",
       "    var script = document.createElement(\"script\");\n",
       "    node.appendChild(script);\n",
       "  }\n",
       "\n",
       "  /**\n",
       "   * Handle when an output is cleared or removed\n",
       "   */\n",
       "  function handleClearOutput(event, handle) {\n",
       "    var cell = handle.cell;\n",
       "\n",
       "    var id = cell.output_area._bokeh_element_id;\n",
       "    var server_id = cell.output_area._bokeh_server_id;\n",
       "    // Clean up Bokeh references\n",
       "    if (id != null && id in Bokeh.index) {\n",
       "      Bokeh.index[id].model.document.clear();\n",
       "      delete Bokeh.index[id];\n",
       "    }\n",
       "\n",
       "    if (server_id !== undefined) {\n",
       "      // Clean up Bokeh references\n",
       "      var cmd = \"from bokeh.io.state import curstate; print(curstate().uuid_to_server['\" + server_id + \"'].get_sessions()[0].document.roots[0]._id)\";\n",
       "      cell.notebook.kernel.execute(cmd, {\n",
       "        iopub: {\n",
       "          output: function(msg) {\n",
       "            var id = msg.content.text.trim();\n",
       "            if (id in Bokeh.index) {\n",
       "              Bokeh.index[id].model.document.clear();\n",
       "              delete Bokeh.index[id];\n",
       "            }\n",
       "          }\n",
       "        }\n",
       "      });\n",
       "      // Destroy server and session\n",
       "      var cmd = \"import bokeh.io.notebook as ion; ion.destroy_server('\" + server_id + \"')\";\n",
       "      cell.notebook.kernel.execute(cmd);\n",
       "    }\n",
       "  }\n",
       "\n",
       "  /**\n",
       "   * Handle when a new output is added\n",
       "   */\n",
       "  function handleAddOutput(event, handle) {\n",
       "    var output_area = handle.output_area;\n",
       "    var output = handle.output;\n",
       "\n",
       "    // limit handleAddOutput to display_data with EXEC_MIME_TYPE content only\n",
       "    if ((output.output_type != \"display_data\") || (!output.data.hasOwnProperty(EXEC_MIME_TYPE))) {\n",
       "      return\n",
       "    }\n",
       "\n",
       "    var toinsert = output_area.element.find(\".\" + CLASS_NAME.split(' ')[0]);\n",
       "\n",
       "    if (output.metadata[EXEC_MIME_TYPE][\"id\"] !== undefined) {\n",
       "      toinsert[toinsert.length - 1].firstChild.textContent = output.data[JS_MIME_TYPE];\n",
       "      // store reference to embed id on output_area\n",
       "      output_area._bokeh_element_id = output.metadata[EXEC_MIME_TYPE][\"id\"];\n",
       "    }\n",
       "    if (output.metadata[EXEC_MIME_TYPE][\"server_id\"] !== undefined) {\n",
       "      var bk_div = document.createElement(\"div\");\n",
       "      bk_div.innerHTML = output.data[HTML_MIME_TYPE];\n",
       "      var script_attrs = bk_div.children[0].attributes;\n",
       "      for (var i = 0; i < script_attrs.length; i++) {\n",
       "        toinsert[toinsert.length - 1].firstChild.setAttribute(script_attrs[i].name, script_attrs[i].value);\n",
       "      }\n",
       "      // store reference to server id on output_area\n",
       "      output_area._bokeh_server_id = output.metadata[EXEC_MIME_TYPE][\"server_id\"];\n",
       "    }\n",
       "  }\n",
       "\n",
       "  function register_renderer(events, OutputArea) {\n",
       "\n",
       "    function append_mime(data, metadata, element) {\n",
       "      // create a DOM node to render to\n",
       "      var toinsert = this.create_output_subarea(\n",
       "        metadata,\n",
       "        CLASS_NAME,\n",
       "        EXEC_MIME_TYPE\n",
       "      );\n",
       "      this.keyboard_manager.register_events(toinsert);\n",
       "      // Render to node\n",
       "      var props = {data: data, metadata: metadata[EXEC_MIME_TYPE]};\n",
       "      render(props, toinsert[toinsert.length - 1]);\n",
       "      element.append(toinsert);\n",
       "      return toinsert\n",
       "    }\n",
       "\n",
       "    /* Handle when an output is cleared or removed */\n",
       "    events.on('clear_output.CodeCell', handleClearOutput);\n",
       "    events.on('delete.Cell', handleClearOutput);\n",
       "\n",
       "    /* Handle when a new output is added */\n",
       "    events.on('output_added.OutputArea', handleAddOutput);\n",
       "\n",
       "    /**\n",
       "     * Register the mime type and append_mime function with output_area\n",
       "     */\n",
       "    OutputArea.prototype.register_mime_type(EXEC_MIME_TYPE, append_mime, {\n",
       "      /* Is output safe? */\n",
       "      safe: true,\n",
       "      /* Index of renderer in `output_area.display_order` */\n",
       "      index: 0\n",
       "    });\n",
       "  }\n",
       "\n",
       "  // register the mime type if in Jupyter Notebook environment and previously unregistered\n",
       "  if (root.Jupyter !== undefined) {\n",
       "    var events = require('base/js/events');\n",
       "    var OutputArea = require('notebook/js/outputarea').OutputArea;\n",
       "\n",
       "    if (OutputArea.prototype.mime_types().indexOf(EXEC_MIME_TYPE) == -1) {\n",
       "      register_renderer(events, OutputArea);\n",
       "    }\n",
       "  }\n",
       "\n",
       "  \n",
       "  if (typeof (root._bokeh_timeout) === \"undefined\" || force === true) {\n",
       "    root._bokeh_timeout = Date.now() + 5000;\n",
       "    root._bokeh_failed_load = false;\n",
       "  }\n",
       "\n",
       "  var NB_LOAD_WARNING = {'data': {'text/html':\n",
       "     \"<div style='background-color: #fdd'>\\n\"+\n",
       "     \"<p>\\n\"+\n",
       "     \"BokehJS does not appear to have successfully loaded. If loading BokehJS from CDN, this \\n\"+\n",
       "     \"may be due to a slow or bad network connection. Possible fixes:\\n\"+\n",
       "     \"</p>\\n\"+\n",
       "     \"<ul>\\n\"+\n",
       "     \"<li>re-rerun `output_notebook()` to attempt to load from CDN again, or</li>\\n\"+\n",
       "     \"<li>use INLINE resources instead, as so:</li>\\n\"+\n",
       "     \"</ul>\\n\"+\n",
       "     \"<code>\\n\"+\n",
       "     \"from bokeh.resources import INLINE\\n\"+\n",
       "     \"output_notebook(resources=INLINE)\\n\"+\n",
       "     \"</code>\\n\"+\n",
       "     \"</div>\"}};\n",
       "\n",
       "  function display_loaded() {\n",
       "    var el = document.getElementById(\"1327\");\n",
       "    if (el != null) {\n",
       "      el.textContent = \"BokehJS is loading...\";\n",
       "    }\n",
       "    if (root.Bokeh !== undefined) {\n",
       "      if (el != null) {\n",
       "        el.textContent = \"BokehJS \" + root.Bokeh.version + \" successfully loaded.\";\n",
       "      }\n",
       "    } else if (Date.now() < root._bokeh_timeout) {\n",
       "      setTimeout(display_loaded, 100)\n",
       "    }\n",
       "  }\n",
       "\n",
       "\n",
       "  function run_callbacks() {\n",
       "    try {\n",
       "      root._bokeh_onload_callbacks.forEach(function(callback) {\n",
       "        if (callback != null)\n",
       "          callback();\n",
       "      });\n",
       "    } finally {\n",
       "      delete root._bokeh_onload_callbacks\n",
       "    }\n",
       "    console.debug(\"Bokeh: all callbacks have finished\");\n",
       "  }\n",
       "\n",
       "  function load_libs(css_urls, js_urls, callback) {\n",
       "    if (css_urls == null) css_urls = [];\n",
       "    if (js_urls == null) js_urls = [];\n",
       "\n",
       "    root._bokeh_onload_callbacks.push(callback);\n",
       "    if (root._bokeh_is_loading > 0) {\n",
       "      console.debug(\"Bokeh: BokehJS is being loaded, scheduling callback at\", now());\n",
       "      return null;\n",
       "    }\n",
       "    if (js_urls == null || js_urls.length === 0) {\n",
       "      run_callbacks();\n",
       "      return null;\n",
       "    }\n",
       "    console.debug(\"Bokeh: BokehJS not loaded, scheduling load and callback at\", now());\n",
       "    root._bokeh_is_loading = css_urls.length + js_urls.length;\n",
       "\n",
       "    function on_load() {\n",
       "      root._bokeh_is_loading--;\n",
       "      if (root._bokeh_is_loading === 0) {\n",
       "        console.debug(\"Bokeh: all BokehJS libraries/stylesheets loaded\");\n",
       "        run_callbacks()\n",
       "      }\n",
       "    }\n",
       "\n",
       "    function on_error() {\n",
       "      console.error(\"failed to load \" + url);\n",
       "    }\n",
       "\n",
       "    for (var i = 0; i < css_urls.length; i++) {\n",
       "      var url = css_urls[i];\n",
       "      const element = document.createElement(\"link\");\n",
       "      element.onload = on_load;\n",
       "      element.onerror = on_error;\n",
       "      element.rel = \"stylesheet\";\n",
       "      element.type = \"text/css\";\n",
       "      element.href = url;\n",
       "      console.debug(\"Bokeh: injecting link tag for BokehJS stylesheet: \", url);\n",
       "      document.body.appendChild(element);\n",
       "    }\n",
       "\n",
       "    for (var i = 0; i < js_urls.length; i++) {\n",
       "      var url = js_urls[i];\n",
       "      var element = document.createElement('script');\n",
       "      element.onload = on_load;\n",
       "      element.onerror = on_error;\n",
       "      element.async = false;\n",
       "      element.src = url;\n",
       "      console.debug(\"Bokeh: injecting script tag for BokehJS library: \", url);\n",
       "      document.head.appendChild(element);\n",
       "    }\n",
       "  };var element = document.getElementById(\"1327\");\n",
       "  if (element == null) {\n",
       "    console.error(\"Bokeh: ERROR: autoload.js configured with elementid '1327' but no matching script tag was found. \")\n",
       "    return false;\n",
       "  }\n",
       "\n",
       "  function inject_raw_css(css) {\n",
       "    const element = document.createElement(\"style\");\n",
       "    element.appendChild(document.createTextNode(css));\n",
       "    document.body.appendChild(element);\n",
       "  }\n",
       "\n",
       "  \n",
       "  var js_urls = [\"https://cdn.pydata.org/bokeh/release/bokeh-1.4.0.min.js\", \"https://cdn.pydata.org/bokeh/release/bokeh-widgets-1.4.0.min.js\", \"https://cdn.pydata.org/bokeh/release/bokeh-tables-1.4.0.min.js\", \"https://cdn.pydata.org/bokeh/release/bokeh-gl-1.4.0.min.js\"];\n",
       "  var css_urls = [];\n",
       "  \n",
       "\n",
       "  var inline_js = [\n",
       "    function(Bokeh) {\n",
       "      Bokeh.set_log_level(\"info\");\n",
       "    },\n",
       "    function(Bokeh) {\n",
       "    \n",
       "    \n",
       "    }\n",
       "  ];\n",
       "\n",
       "  function run_inline_js() {\n",
       "    \n",
       "    if (root.Bokeh !== undefined || force === true) {\n",
       "      \n",
       "    for (var i = 0; i < inline_js.length; i++) {\n",
       "      inline_js[i].call(root, root.Bokeh);\n",
       "    }\n",
       "    if (force === true) {\n",
       "        display_loaded();\n",
       "      }} else if (Date.now() < root._bokeh_timeout) {\n",
       "      setTimeout(run_inline_js, 100);\n",
       "    } else if (!root._bokeh_failed_load) {\n",
       "      console.log(\"Bokeh: BokehJS failed to load within specified timeout.\");\n",
       "      root._bokeh_failed_load = true;\n",
       "    } else if (force !== true) {\n",
       "      var cell = $(document.getElementById(\"1327\")).parents('.cell').data().cell;\n",
       "      cell.output_area.append_execute_result(NB_LOAD_WARNING)\n",
       "    }\n",
       "\n",
       "  }\n",
       "\n",
       "  if (root._bokeh_is_loading === 0) {\n",
       "    console.debug(\"Bokeh: BokehJS loaded, going straight to plotting\");\n",
       "    run_inline_js();\n",
       "  } else {\n",
       "    load_libs(css_urls, js_urls, function() {\n",
       "      console.debug(\"Bokeh: BokehJS plotting callback run at\", now());\n",
       "      run_inline_js();\n",
       "    });\n",
       "  }\n",
       "}(window));"
      ],
      "application/vnd.bokehjs_load.v0+json": "\n(function(root) {\n  function now() {\n    return new Date();\n  }\n\n  var force = true;\n\n  if (typeof root._bokeh_onload_callbacks === \"undefined\" || force === true) {\n    root._bokeh_onload_callbacks = [];\n    root._bokeh_is_loading = undefined;\n  }\n\n  \n\n  \n  if (typeof (root._bokeh_timeout) === \"undefined\" || force === true) {\n    root._bokeh_timeout = Date.now() + 5000;\n    root._bokeh_failed_load = false;\n  }\n\n  var NB_LOAD_WARNING = {'data': {'text/html':\n     \"<div style='background-color: #fdd'>\\n\"+\n     \"<p>\\n\"+\n     \"BokehJS does not appear to have successfully loaded. If loading BokehJS from CDN, this \\n\"+\n     \"may be due to a slow or bad network connection. Possible fixes:\\n\"+\n     \"</p>\\n\"+\n     \"<ul>\\n\"+\n     \"<li>re-rerun `output_notebook()` to attempt to load from CDN again, or</li>\\n\"+\n     \"<li>use INLINE resources instead, as so:</li>\\n\"+\n     \"</ul>\\n\"+\n     \"<code>\\n\"+\n     \"from bokeh.resources import INLINE\\n\"+\n     \"output_notebook(resources=INLINE)\\n\"+\n     \"</code>\\n\"+\n     \"</div>\"}};\n\n  function display_loaded() {\n    var el = document.getElementById(\"1327\");\n    if (el != null) {\n      el.textContent = \"BokehJS is loading...\";\n    }\n    if (root.Bokeh !== undefined) {\n      if (el != null) {\n        el.textContent = \"BokehJS \" + root.Bokeh.version + \" successfully loaded.\";\n      }\n    } else if (Date.now() < root._bokeh_timeout) {\n      setTimeout(display_loaded, 100)\n    }\n  }\n\n\n  function run_callbacks() {\n    try {\n      root._bokeh_onload_callbacks.forEach(function(callback) {\n        if (callback != null)\n          callback();\n      });\n    } finally {\n      delete root._bokeh_onload_callbacks\n    }\n    console.debug(\"Bokeh: all callbacks have finished\");\n  }\n\n  function load_libs(css_urls, js_urls, callback) {\n    if (css_urls == null) css_urls = [];\n    if (js_urls == null) js_urls = [];\n\n    root._bokeh_onload_callbacks.push(callback);\n    if (root._bokeh_is_loading > 0) {\n      console.debug(\"Bokeh: BokehJS is being loaded, scheduling callback at\", now());\n      return null;\n    }\n    if (js_urls == null || js_urls.length === 0) {\n      run_callbacks();\n      return null;\n    }\n    console.debug(\"Bokeh: BokehJS not loaded, scheduling load and callback at\", now());\n    root._bokeh_is_loading = css_urls.length + js_urls.length;\n\n    function on_load() {\n      root._bokeh_is_loading--;\n      if (root._bokeh_is_loading === 0) {\n        console.debug(\"Bokeh: all BokehJS libraries/stylesheets loaded\");\n        run_callbacks()\n      }\n    }\n\n    function on_error() {\n      console.error(\"failed to load \" + url);\n    }\n\n    for (var i = 0; i < css_urls.length; i++) {\n      var url = css_urls[i];\n      const element = document.createElement(\"link\");\n      element.onload = on_load;\n      element.onerror = on_error;\n      element.rel = \"stylesheet\";\n      element.type = \"text/css\";\n      element.href = url;\n      console.debug(\"Bokeh: injecting link tag for BokehJS stylesheet: \", url);\n      document.body.appendChild(element);\n    }\n\n    for (var i = 0; i < js_urls.length; i++) {\n      var url = js_urls[i];\n      var element = document.createElement('script');\n      element.onload = on_load;\n      element.onerror = on_error;\n      element.async = false;\n      element.src = url;\n      console.debug(\"Bokeh: injecting script tag for BokehJS library: \", url);\n      document.head.appendChild(element);\n    }\n  };var element = document.getElementById(\"1327\");\n  if (element == null) {\n    console.error(\"Bokeh: ERROR: autoload.js configured with elementid '1327' but no matching script tag was found. \")\n    return false;\n  }\n\n  function inject_raw_css(css) {\n    const element = document.createElement(\"style\");\n    element.appendChild(document.createTextNode(css));\n    document.body.appendChild(element);\n  }\n\n  \n  var js_urls = [\"https://cdn.pydata.org/bokeh/release/bokeh-1.4.0.min.js\", \"https://cdn.pydata.org/bokeh/release/bokeh-widgets-1.4.0.min.js\", \"https://cdn.pydata.org/bokeh/release/bokeh-tables-1.4.0.min.js\", \"https://cdn.pydata.org/bokeh/release/bokeh-gl-1.4.0.min.js\"];\n  var css_urls = [];\n  \n\n  var inline_js = [\n    function(Bokeh) {\n      Bokeh.set_log_level(\"info\");\n    },\n    function(Bokeh) {\n    \n    \n    }\n  ];\n\n  function run_inline_js() {\n    \n    if (root.Bokeh !== undefined || force === true) {\n      \n    for (var i = 0; i < inline_js.length; i++) {\n      inline_js[i].call(root, root.Bokeh);\n    }\n    if (force === true) {\n        display_loaded();\n      }} else if (Date.now() < root._bokeh_timeout) {\n      setTimeout(run_inline_js, 100);\n    } else if (!root._bokeh_failed_load) {\n      console.log(\"Bokeh: BokehJS failed to load within specified timeout.\");\n      root._bokeh_failed_load = true;\n    } else if (force !== true) {\n      var cell = $(document.getElementById(\"1327\")).parents('.cell').data().cell;\n      cell.output_area.append_execute_result(NB_LOAD_WARNING)\n    }\n\n  }\n\n  if (root._bokeh_is_loading === 0) {\n    console.debug(\"Bokeh: BokehJS loaded, going straight to plotting\");\n    run_inline_js();\n  } else {\n    load_libs(css_urls, js_urls, function() {\n      console.debug(\"Bokeh: BokehJS plotting callback run at\", now());\n      run_inline_js();\n    });\n  }\n}(window));"
     },
     "metadata": {},
     "output_type": "display_data"
    },
    {
     "data": {
      "text/html": [
       "\n",
       "\n",
       "\n",
       "\n",
       "\n",
       "\n",
       "  <div class=\"bk-root\" id=\"bd82d111-7b58-4921-b046-2c14196a7a83\" data-root-id=\"1273\"></div>\n"
      ]
     },
     "metadata": {},
     "output_type": "display_data"
    },
    {
     "data": {
      "application/javascript": [
       "(function(root) {\n",
       "  function embed_document(root) {\n",
       "    \n",
       "  var docs_json = {\"89bd5bbe-4601-4eff-bc09-40297e1d8ff0\":{\"roots\":{\"references\":[{\"attributes\":{\"background_fill_color\":{\"value\":\"black\"},\"below\":[{\"id\":\"1284\",\"type\":\"LinearAxis\"}],\"center\":[{\"id\":\"1288\",\"type\":\"Grid\"},{\"id\":\"1293\",\"type\":\"Grid\"}],\"height\":1000,\"left\":[{\"id\":\"1289\",\"type\":\"LinearAxis\"}],\"renderers\":[{\"id\":\"1313\",\"type\":\"GlyphRenderer\"},{\"id\":\"1319\",\"type\":\"GlyphRenderer\"},{\"id\":\"1325\",\"type\":\"GlyphRenderer\"}],\"title\":{\"id\":\"1274\",\"type\":\"Title\"},\"toolbar\":{\"id\":\"1301\",\"type\":\"Toolbar\"},\"width\":1500,\"x_range\":{\"id\":\"1276\",\"type\":\"DataRange1d\"},\"x_scale\":{\"id\":\"1280\",\"type\":\"LinearScale\"},\"y_range\":{\"id\":\"1278\",\"type\":\"DataRange1d\"},\"y_scale\":{\"id\":\"1282\",\"type\":\"LinearScale\"}},\"id\":\"1273\",\"subtype\":\"Figure\",\"type\":\"Plot\"},{\"attributes\":{\"source\":{\"id\":\"1315\",\"type\":\"ColumnDataSource\"}},\"id\":\"1320\",\"type\":\"CDSView\"},{\"attributes\":{\"fill_alpha\":{\"value\":0.1},\"fill_color\":{\"value\":\"#1f77b4\"},\"line_alpha\":{\"value\":0.1},\"line_color\":{\"value\":\"#1f77b4\"},\"size\":{\"units\":\"screen\",\"value\":7},\"x\":{\"field\":\"x\"},\"y\":{\"field\":\"y\"}},\"id\":\"1324\",\"type\":\"Scatter\"},{\"attributes\":{},\"id\":\"1338\",\"type\":\"UnionRenderers\"},{\"attributes\":{\"fill_alpha\":{\"value\":0.1},\"fill_color\":{\"value\":\"#1f77b4\"},\"line_alpha\":{\"value\":0.1},\"line_color\":{\"value\":\"#1f77b4\"},\"size\":{\"units\":\"screen\",\"value\":6},\"x\":{\"field\":\"x\"},\"y\":{\"field\":\"y\"}},\"id\":\"1312\",\"type\":\"Scatter\"},{\"attributes\":{},\"id\":\"1330\",\"type\":\"BasicTickFormatter\"},{\"attributes\":{},\"id\":\"1295\",\"type\":\"WheelZoomTool\"},{\"attributes\":{},\"id\":\"1299\",\"type\":\"HelpTool\"},{\"attributes\":{\"formatter\":{\"id\":\"1330\",\"type\":\"BasicTickFormatter\"},\"ticker\":{\"id\":\"1290\",\"type\":\"BasicTicker\"}},\"id\":\"1289\",\"type\":\"LinearAxis\"},{\"attributes\":{},\"id\":\"1335\",\"type\":\"Selection\"},{\"attributes\":{\"text\":\"Joint visualization of words and docs t_sne\"},\"id\":\"1274\",\"type\":\"Title\"},{\"attributes\":{\"fill_alpha\":{\"value\":0.1},\"fill_color\":{\"value\":\"#1f77b4\"},\"line_alpha\":{\"value\":0.1},\"line_color\":{\"value\":\"#1f77b4\"},\"size\":{\"units\":\"screen\",\"value\":6},\"x\":{\"field\":\"x\"},\"y\":{\"field\":\"y\"}},\"id\":\"1318\",\"type\":\"Scatter\"},{\"attributes\":{\"fill_color\":{\"value\":\"red\"},\"line_color\":{\"value\":\"white\"},\"size\":{\"units\":\"screen\",\"value\":7},\"x\":{\"field\":\"x\"},\"y\":{\"field\":\"y\"}},\"id\":\"1323\",\"type\":\"Scatter\"},{\"attributes\":{\"callback\":null,\"data\":{\"desc\":[\"Sally\",\"\\ube44 \\ub3c5\\ucc3d\\uc801 \\ube44 \\uc801\\uce35\\uc2dd \\uc561\\uc0c1 \\uc870\\ud615\\uc7a5\\uce58\",\"\\ucc3d\\uc758R&d\",\"\\ubaa8\\uba58\\ud140\",\"\\uc5e0\\uc54c\\ub7a9\",\"WILSON\",\"\\uc5b4\\ub514\\uac00 \\ud504\\ub85c\\uc81d\\ud2b8\",\"NeuroScape for Mobility(N4M)\",\"\\uc544\\ub984\\ub2e4\\uc6b4 \\ube44\\ud589\",\"ZER01NE MAGAZINE\",\"\\uc18c\\ud504\\ud2b8\\ub85c\\ubd07 \\uc5f0\\uad6c\",\"\\ud558\\uc580 \\ubc29 \",\"\\ub79c\\ub4dc\\uc2a4\\ucf00\\uc774\\ud504\\ub370\\uc774\\ud130\\ud504\\ub85c\\uc81d\\ud2b8\",\"\\ud300\\uc787\",\"Music for Vehicles\",\"Screen Screen Screen\",\"\\uc778\\ud130\\ubbf8\\ub514\\uc5b4 \\ubaa8\\ube4c\\ub9ac\\ud2f0 R&D\",\"\\uc544\\ub974\\ud0a4\\uba54\\ub370\\uc2a4 \\uad6c\\uba4d - 149,597,870,700, 2018\",\"Screen; Less is More\",\"\\uac80\\uc740\\ubc29\",\"\\uc11c\\uc6b8\\ub77c\\uc774\\ub2e4\\uc988\",\"\\ud83c\\udf10.FM, \\uc6f9, 2018\"],\"x\":[-33.54473114013672,50.81674575805664,30.180686950683594,19.284568786621094,47.00459671020508,45.82822799682617,-21.133056640625,-43.8475341796875,-19.731849670410156,47.522037506103516,27.819664001464844,-44.16728973388672,40.197601318359375,-30.579439163208008,22.909860610961914,48.17677307128906,36.07534408569336,25.574846267700195,24.544506072998047,-9.708792686462402,47.917274475097656,26.072202682495117],\"y\":[-32.218360900878906,-14.624617576599121,27.21199607849121,-64.82855987548828,-6.225468158721924,-6.103443145751953,11.896452903747559,4.7713189125061035,10.807157516479492,0.33044612407684326,-48.81663513183594,-21.837602615356445,36.293617248535156,-3.733083963394165,18.88758659362793,-10.027165412902832,47.74001693725586,6.194068908691406,-56.56217575073242,27.872812271118164,-6.329588413238525,-1.9446401596069336]},\"selected\":{\"id\":\"1335\",\"type\":\"Selection\"},\"selection_policy\":{\"id\":\"1336\",\"type\":\"UnionRenderers\"}},\"id\":\"1315\",\"type\":\"ColumnDataSource\"},{\"attributes\":{},\"id\":\"1294\",\"type\":\"PanTool\"},{\"attributes\":{\"callback\":null,\"data\":{\"desc\":[\"\\uc788\\ub2e4\",\"\\ud504\\ub85c\\uc81d\\ud2b8\",\"\\uc74c\\uc545\",\"\\uc774\\ub3d9\",\"\\uc758\",\"\\uac83\",\"\\uc774\",\"\\ud1b5\\ud574\",\"\\uac10\\uac01\",\"\\ubbf8\\ub798\",\"\\uc218\",\"\\uae30\\uc220\",\"\\uc2e4\\ud5d8\",\"\\uc7a5\\uce58\",\"\\uadf8\",\"\\ud48d\\uacbd\",\"\\uc2dc\\uac01\",\"\\uacf5\\uac04\",\"ZER\",\"NE\",\"\\uc6b0\\ub9ac\",\"\\uc0c8\\ub86d\\ub2e4\",\"\\ud06c\\ub9ac\\uc5d0\\uc774\\ud130\",\"\\uac1c\\ub150\",\"\\uad6c\\uc131\",\"\\uc778\\uac04\",\"\\ub300\\ud55c\",\"\\uc778\\ub958\",\"\\ub77c\\uc774\",\"\\uc601\\uc0c1\",\"\\ubb3c\\uc9c8\",\"\\uc0c1\\uc0c1\",\"\\uc5f0\\uad6c\",\"\\uc791\\uc5c5\",\"\\ub2e4\\uc591\\ud558\\ub2e4\",\"\\uc81c\\ub85c\\uc6d0\",\"\\ud658\\uacbd\",\"\\uc790\\ub3d9\\ucc28\",\"\\uad00\\uac1d\",\"\\uc740\",\"\\uc790\\uc2e0\",\"\\ubbf8\\ub514\\uc5b4\",\"\\ub3d9\\uc2dc\",\"\\ubc29\\uc2dd\",\"\\ub4f1\",\"\\ub97c\",\"\\ubc0f\",\"\\uc6b4\\ub3d9\",\"\\uc131\\uacfc\",\"\\ud655\\uc7a5\",\"\\ud65c\\uc6a9\",\"\\uc2a4\\ud06c\\ub9b0\",\"\\uc77c\",\"\\uc5c6\\ub2e4\",\"\\uc9c0\\uc18d\",\"\\uc18c\\ub9ac\",\"\\uad6c\\uc870\",\"\\ub54c\",\"\\ub2e4\\ub978\",\"\\ubc29\",\"\\uc704\\ud574\",\"\\uc810\",\"Lab\",\"\\uc77c\\uc6d0\",\"\\ubaa8\\ube4c\\ub9ac\\ud2f0\",\"\\uc9c4\\ud589\",\"\\uacfc\\uc815\",\"\\ub9ac\\uc11c\\uce58\",\"\\uc791\\uac00\",\"\\uc5e0\\uc54c\\ub7a9\",\"\\uc548\\ub8cc\",\"\\ube5b\",\"\\uc2a4\\ud0c0\\ud2b8\\uc5c5\",\"\\ud611\\uc5c5\",\"\\uc2dd\\ud0c1\",\"\\ub370\\uc774\\ud130\",\"\\uc218\\ub2e8\",\"\\ub354\",\"\\ud604\",\"\\uc18d\",\"\\uc0ac\\ud68c\",\"\\uc138\\uacc4\",\"\\ub3d9\",\"\\uacbd\\ud5d8\",\"\\uac1c\",\"\\ubcf4\\ud3b8\",\"\\uc778\",\"\\uc870\\ud638\",\"\\uc601\",\"\\uc774\\uc7a5\\uc6d0\",\"\\ucd5c\\uc9c4\\ud6c8\",\"M\",\"\\uc774\\ubbf8\\uc9c0\",\"\\uac1c\\uc778\",\"\\ud0dc\\uc591\",\"\\uc778\\uacf5\",\"\\uc81c\\uc791\",\"\\uadfc\",\"\\uc548\",\"\\ud615\\uc2dd\",\"\\uc815\\ubcf4\",\"\\uae30\\ubc18\",\"\\uc874\\uc7ac\",\"\\uac00\\ub2a5\\ud558\\ub2e4\",\"\\uc601\\uac10\",\"\\uad6c\\ucd95\",\"\\ub9e4\\uccb4\",\"\\ubc15\\uc2b9\",\"\\uae30\\ub85d\",\"\\ubc15\",\"\\ud50c\\ub808\\uc774\",\"\\uce74\\uba54\\ub77c\",\"TRIPLE\",\"CORE\",\"\\uac12\",\"\\uc8fc\\uc81c\",\"\\ubaa9\\uc801\\uc9c0\",\"\\uc0ac\\uc774\",\"\\ud604\\uc7ac\",\"\\uc7a5\\uc18c\",\"\\ub85c\\ubd07\",\"\\uac00\\ub2a5\\uc131\",\"\\ub2a5\\ub825\",\"Sally\",\"\\uc9c0\\ub2a5\",\"\\uc0b6\",\"\\ud0d1\\uc2b9\",\"\\uc544\\ub2c8\\ub2e4\",\"\\uadf8\\ub807\\ub2e4\",\"\\uc5b4\\ub835\\ub2e4\",\"\\ud615\\ud0dc\",\"\\ubc1c\\ud45c\",\"\\uac19\\ub2e4\",\"\\uacf5\\uac1c\",\"\\uc124\\uce58\",\"\\uc0dd\\uac01\",\"\\uc77c\\uc0c1\",\"\\uc720\\uc9c0\",\"\\ubaa8\\ub4e0\",\"\\uc624\\ud508\\uc18c\\uc2a4\",\"\\ucc3d\\uc758\",\"\\uc608\\uc220\",\"\\ubd84\\uc57c\",\"\\ubc14\\ud0d5\",\"\\uc138\\uc0c1\",\"\\uc6b0\\uc8fc\",\"\\uc5d0\\ub108\\uc9c0\",\"\\uc704\",\"\\ubc29\\ud5a5\",\"\\uc5b4\\ub5bb\\ub2e4\",\"\\uad00\\ucc30\",\"\\uc18c\\uc7ac\",\"\\uc720\\ub2db\",\"\\uace1\",\"\\ud6a8\\uacfc\",\"\\uc7ac\\uc0dd\",\"\\uc2dc\\ub300\",\"\\uc2dc\\uac04\",\"\\ub3d9\\uc548\",\"\\uc790\\uc5f0\",\"\\ub300\\uc0c1\",\"\\uc8fc\\ud589\",\"\\uc778\\uc2dd\",\"OS\",\"\\uc2dc\\uac01\\uc608\\uc220\",\"\\uc791\\ud488\",\"\\uc774\\uc0c1\",\"\\ubc18\\uc601\",\"\\ucc28\\uc6d0\",\"\\uc678\",\"\\uc911\\uc2ec\",\"\\ubaa8\\ubc29\",\"\\ud601\\uc2e0\",\"\\uc0dd\\ud0dc\\uacc4\",\"\\uac01\\uc790\",\"\\uc77c\\uc885\",\"\\ub85c\\uc11c\",\"\\ub450\",\"\\uc0ac\\uc6b4\\ub4dc\",\"\\ud2b9\\uc815\",\"\\uc704\\uce58\",\"\\ubcc0\\ud658\",\"\\ubc1c\\uc0dd\",\"\\uc81c\",\"\\ud2b9\\uc131\",\"\\uc790\\uccb4\",\"\\uac00\\uce58\",\"\\uc0dd\",\"MATERIAL\",\"RESEARCH\",\"LAB\",\"\\uce21\\uba74\",\"\\uc608\\uc220\\uac00\",\"\\uc591\\uc219\\ud604\",\"\\ub2e5\\ub4dc\\uc815\",\"\\ud6c4\\ub2c8\",\"\\ud0b4\",\"\\uae40\\uc131\",\"\\uad00\\uc2ec\\uc0ac\",\"\\uc774\\ub4dc\",\"\\uac94\",\"\\uc790\\uc131\",\"\\uc720\\uccb4\",\"\\ucd08\\uc18c\",\"\\uc218\\uc131\",\"\\uc138\\ub77c\\ubbf9\",\"\\uc11c\\ud0b7\",\"\\uc804\\ub3c4\\uc131\",\"\\ud0c4\\uc18c\",\"\\ud50c\\ub8e8\\uc624\\ub974\",\"\\ucf00\\ud1a4\",\"\\uac01\\uc591\\uac01\\uc0c9\",\"\\ud638\\uae30\\uc2ec\",\"O\",\"P\",\"\\ub300\\ud45c\",\"\\ucd5c\",\"\\ucee4\\ubba4\\ub2c8\\ucf00\\uc774\\uc158\",\"\\ub0b4\\uae30\",\"\\ub9cc\\ucc2c\",\"\\uac01\",\"\\uc5b4\\ud50c\\ub9ac\\ucf00\\uc774\\uc158\",\"\\ud305\",\"\\ud5a5\",\"\\uc5ec\\uae30\",\"\\ucde8\\ud5a5\",\"\\ubba4\\uc9c1\\ube44\\ub514\\uc624\",\"\\uad00\",\"\\ubaa8\\ub2c8\\ud130\",\"\\uc74c\\uc545\\uac00\",\"for\",\"\\uac1c\\uc778\\ud654\",\"\\uc778\\ud130\",\"\\uc81c\\uc548\",\"\\uc2dc\\uc2a4\\ud15c\",\"\\uac10\\uc0c1\",\"\\uc2e0\\uccb4\",\"\\uc18c\\ud504\\ud2b8\",\"\\uc6c0\\uc9c1\\uc784\",\"\\ud6a8\\uc728\",\"\\uc678\\ubd80\",\"\\uc81c\\uacf5\",\"\\uc5ec\\ub7ec\",\"\\ub610\",\"\\uc694\\uc18c\",\"\\uc804\\uc2dc\",\"\\ubaa8\\uc2b5\",\"\\uc6b4\\uc1a1\",\"\\ud37c\\ud3ec\\uba3c\\uc2a4\",\"\\uc0b0\\uc5c5\",\"\\ud14c\\ud06c\\ub180\\ub85c\\uc9c0\",\"\\uc11c\\uc6b8\",\"\\uc988\",\"\\uc218\\ud589\",\"\\uc591\",\"\\uc544\\uce58\",\"\\ubaa8\\uc0c9\",\"\\uc2a4\\ub9c8\\ud2b8\",\"\\uc2dc\\ud2f0\",\"\\uad11\\uace0\",\"\\uac00\\uc9c0\",\"\\uc804\\ud658\",\"\\ubabb\",\"\\ucd5c\\ucd08\",\"\\uc561\",\"\\ube44\",\"\\uc870\\ud615\",\"\\uc0ac\\uc2e4\",\"\\uc911\\uc694\\ud558\\ub2e4\",\"\\uc0dd\\ubb3c\",\"\\uc124\\uacc4\",\"\\ud558\\ub098\",\"\\uc774\\uc6a9\",\"\\uac1c\\ubc1c\",\"\\uc791\\ub3d9\",\"\\ud654\\ub824\\ud558\\ub2e4\",\"\\uc0ac\\ub78c\",\"\\ub2e4\\uc790\",\"\\ud3ec\\ucc29\",\"\\ud65c\\ub3d9\",\"\\uc870\\uc0ac\",\"\\uc790\\ub8cc\",\"DAY\",\"\\ubb3c\\ub9ac\",\"\\ud0d0\\uad6c\",\"\\uccad\\uac01\",\"\\ucc44\\ub110\",\"\\ud45c\\ud604\",\"\\ud589\\uc131\",\"\\uadf8\\uac83\",\"\\ud654\\ud558\\ub2e4\",\"\\uc18d\\ub3c4\",\"\\ucd08\",\"\\ub85c\\ubd80\\ud130\",\"\\ud615\\uc131\",\"\\uc120\\ud0dd\",\"THE\",\"OF\",\"\\ub514\\uc2a4\\ud50c\\ub808\\uc774\",\"\\ub179\\uc0c9\",\"\\ucc3d\",\"\\uc774\\ubc88\",\"\\uc8fc\",\"\\uae40\\uc815\\ud0dc\",\"\\ud300\",\"\\uc5b4\\ub514\\uac00\",\"\\uc0ac\\uc6a9\",\"\\ub3c4\\ucd9c\",\"\\uba5c\\ub85c\\ub514\",\"\\uc911\\uac04\",\"AI\",\"\\uc791\\uace1\",\"\\ud504\\ub85c\\uadf8\\ub7a8\",\"\\uc785\\ub825\",\"\\uacf5\\ud1b5\",\"\\uc804\\ub2ec\",\"\\ud3b8\\uc774\",\"\\uc644\\uc131\",\"\\uac1c\\ubcc4\",\"\\ucd9c\\ubc1c\",\"\\uac70\\ub9ac\",\"\\uc774\\ud574\",\"\\ub2ec\\ub9ac\",\"\\uaf2d\",\"\\ud544\\uc694\",\"\\ucd94\\uc0c1\",\"\\uc0c1\\ud0dc\",\"\\uc720\\ub3d9\",\"\\uc720\\ub791\",\"\\uc608\\uce21\",\"\\uc131\\ud558\\ub2e4\",\"\\uc54c\\uace0\\ub9ac\\uc998\",\"\\ub4dc\\ub860\",\"\\uc13c\\uc11c\",\"\\uc9c4\\ud654\",\"\\uae30\\uacc4\",\"\\ucd09\\ubc1c\",\"\\uc774\\uc790\",\"\\ud558\\uc597\\ub2e4\",\"\\uc790\\uc728\",\"\\ucd09\\uac01\",\"\\uc2e4\\uc2dc\\uac04\",\"\\ub0b4\\ubd80\",\"\\uc13c\\uc2f1\",\"\\uc801\",\"\\ub3c4\\uc2dc\",\"\\ubcc0\\ud654\",\"\\uccab\",\"\\uacf3\",\"\\uc5f0\\ucd9c\",\"Music\",\"SCREEN\",\"G\",\"\\uc544\\uc774\\ub514\",\"\\uc158\",\"\\uc544\\ub974\\ud0a4\\uba54\\ub370\\uc2a4\",\"\\uc9c0\\uad6c\",\"ms\",\"ERA\",\"\\uc0ac\\uc6a9\\uc790\",\"\\uc2a4\\uc2a4\\ub85c\",\"\\ubaa8\\ub450\",\"\\uc8fc\\uc694\",\"\\ubaa8\\ud2f0\\ud504\",\"\\ub178\\ub3d9\",\"\\uadf9\\uc7a5\",\"\\ub2e4\\uc218\",\"\\uc774\\ub984\",\"\\ud3ec\\uc7a5\",\"\\uc758\\ubbf8\",\"\\ubd88\\uac00\\ub2a5\\ud558\\ub2e4\",\"\\ube44\\uad50\",\"\\uc791\",\"\\ucf54\\ub4dc\",\"\\uc778\\ud130\\ub137\",\"\\ud3b8\\uc7ac\",\"\\uc6b4\\uc804\\uc790\",\"\\ub2f9\\uc5f0\\ud558\\ub2e4\",\"\\ubb34\\uac00\\uce58\\ud558\\ub2e4\",\"\\ub04a\\uc784\\uc5c6\\ub2e4\",\"\\uc790\\uadf9\",\"\\uc0c8\",\"\\uc9c0\\uae08\",\"\\ucc3d\\uc758\\uc131\",\"\\ud658\\uc0c1\",\"R\",\"\\ud68d\\ub4dd\",\"\\uc544\\uc774\\ub514\\uc5b4\",\"\\uace0\\ubbfc\",\"\\uad00\\ub828\",\"\\uc0ac\\ub840\",\"\\uc55e\\uc11c\",\"\\uc18c\\ud1b5\",\"\\ud574\",\"\\ud0a4\",\"\\uc624\\uc2a4\",\"\\uc18c\\uac1c\",\"\\uc54c\",\"\\ud574\\uc11d\",\"MUSIC\",\"\\uc778\\uc2a4\\ud1a8\\ub808\\uc774\\uc158\",\"\\uac89\\ubcf4\\uae30\",\"\\uc5ed\\ud589\",\"\\ucc9c\\uccb4\",\"\\uc911\",\"\\ud611\\ud654\",\"\\uc6d0\\ud615\",\"\\uc2a4\\ud53c\\ucee4\",\"\\uc77c\\uc815\\ud558\\ub2e4\",\"\\uc2dc\\ud55c\",\"\\uacc4\\uc18d\",\"\\ubaa8\\ub4dc\",\"\\uc2e0\",\"\\ubaa8\\ub358\",\"\\uccad\\uc0c9\",\"\\ud54f\",\"FIT\",\"\\uc21c\\uc740\",\"NeuroScape\",\"\\uc62c\\ud574\",\"\\ucc38\\uc5ec\",\"\\uac10\",\"\\uc5d4\\ud130\\ud14c\\uc778\\uba3c\\ud2b8\",\"\\ub9ac\\uc2a4\\ud2b8\",\"\\ubd84\\uc11d\",\"\\uc2a4\\ucf00\",\"\\uc774\\ud504\",\"\\uc2e0\\uacbd\\ub9dd\",\"\\uc21c\\uc758\",\"\\uc2a4\\ud2b8\\ub9ac\\ubc0d\",\"\\uae30\\ubd84\",\"\\uc21c\\uac04\",\"\\ud654\\uba74\",\"\\uc544\\ub984\\ub2f5\\ub2e4\",\"\\ucd2c\\uc601\",\"MAGAZINE\",\"\\uc6f9\",\"\\ub514\\uc790\\uc778\",\"\\uad00\\uc2ec\",\"\\uac70\\ub098\",\"\\uc775\\uc219\\ud558\\ub2e4\",\"\\ucd5c\\ubcd1\\uc77c\",\"\\uac80\\ub2e4\",\"\\uad00\\uacc4\",\"\\uc804\",\"\\uc8fc\\ubaa9\",\"\\ucc28\",\"\\ubaa8\\ub378\",\"\\uace0\\uc720\",\"\\uc778\\ud558\\ub2e4\",\"\\uc774\\ub807\\ub2e4\",\"\\uc8fc\\ub85c\",\"\\uac15\\ud558\\ub2e4\",\"\\ub2e4\\ub974\\ub2e4\",\"\\uc5b4\\ub5a0\\ud558\\ub2e4\",\"\\ub7ec\\ub2dd\",\"\\uc8fc\\ubcc0\",\"TRANSCAPE\",\"CHAIR\",\"\\uc758\\uc790\",\"\\uc624\\ub958\",\"\\uc218\\uba85\",\"\\uc5f0\\uc7a5\",\"\\ud638\\ucd9c\",\"\\ud3ec\\ud568\",\"\\uacf5\",\"\\uad8c\\ub2a5\",\"\\ud5c8\\uad6c\",\"\\uac70\\ub4ed\",\"\\ud55c\\ud3b8\",\"\\uc9d1\\ub2e8\",\"\\uc99d\\uc2dd\",\"\\uac8c\\uc784\",\"\\ubc15\\uc131\\ubbfc\",\"\\uacf5\\uc720\",\"\\ucc3d\\uc791\",\"Vehicles\",\"\\ucd1d\",\"\\uc0c1\\uc9d5\",\"\\uc5d0\\uc774\",\"\\uc544\\uce74\\uc774\\ube0c\",\"\\ud504\\ub9ac\\uc820\\ud14c\\uc774\\uc158\",\"\\uc5f0\",\"\\uacc4\",\"TO\",\"\\uc608\\uc815\",\"\\uc2dc\\ub3c4\",\"\\uadfc\\uc6d0\",\"\\ud2b9\\uc815\\ud558\\ub2e4\",\"\\ud604\\uc2e4\",\"\\ucc28\\ub2e8\",\"\\uc810\\uc810\",\"\\uc790\\uc544\",\"VOLUMETRIC\",\"DATA\",\"COLLECTOR\",\"\\uc0ac\\ubb3c\",\"\\uad6c\\ub984\",\"POINT\",\"CLOUD\",\"\\uad50\\ud658\",\"\\ud14c\\uc2a4\\ud2b8\",\"\\uacb0\\ud569\",\"\\ud0d0\\ubc29\",\"\\ub3d9\\ud589\",\"\\ub3c4\",\"\\uc751\\uc6a9\",\"\\uc81c\\uac70\",\"\\uacb0\\ud569\\ud568\",\"\\uc804\\ud600\",\"\\uae30\\uacc4\\ub85c\",\"\\ub300\\uc2e0\",\"\\uc790\\ucc98\",\"\\uaddc\\uc815\",\"\\uc9c0\\uac01\",\"\\ubbf8\\uce58\\ub2e4\",\"\\uc601\\ud5a5\",\"\\ube45\\ub370\\uc774\\ud130\",\"\\ub300\\ud574\",\"\\uc9c8\\ubb38\",\"\\uc544\\ub974\",\"\\uc2a4\",\"\\uc5d8\\ub809\\ud2b8\\ub85c\\ub2c8\\uce74\",\"\\ud398\\uc2a4\\ud2f0\\ubc8c\",\"PRACTICE\",\"ART\",\"TECHNOLOGY\",\"\\ub144\",\"\\ud3b8\\ub9ac\\ud558\\ub2e4\",\"\\ud3c9\\ub4f1\\ud558\\ub2e4\",\"\\ud574\\ub2f5\",\"\\uc0c1\\uc815\",\"\\ub300\",\"\\uadf8\\ub8f9\",\"\\uc138\",\"\\uad00\\uc810\",\"\\uc8fc\\uc778\\uacf5\",\"\\uadf9\\ub2e8\",\"\\uadfc\\uac70\",\"\\uacc4\\uae09\",\"\\ubb38\\uc81c\",\"\\uc18c\\uc218\",\"\\uc8fc\\uc9c0\",\"\\ucc28\\ub840\",\"\\ud5a5\\uc720\",\"\\uacc4\\uce35\",\"\\uc9c4\\ub2e8\",\"\\uacf5\\uc555\",\"\\ubcf4\\uc870\",\"\\uc801\\uce35\",\"\\uad6d\\ub0b4\",\"\\ubd99\\uc774\",\"\\uc544\\ubb34\\ub807\\ub2e4\",\"\\uc9c0\\uae08\\uaecf\",\"MIT\",\"RAPID\",\"LIQUID\",\"PRINTING\",\"\\ud30c\",\"DERIVATIVE\",\"\\uc138\\ubd80\",\"\\uc0c1\\uc774\",\"\\uc0c1\\ub2f9\\ud558\\ub2e4\",\"\\uc720\\uc0ac\\ud558\\ub2e4\",\"\\uc774\\uc804\",\"\\uc124\\uacc4\\ub3c4\",\"\\uc0c1\",\"\\uc9c0\",\"\\uc5fd\",\"\\uc870\\ud569\",\"\\uae30\\uc0ac\",\"\\ub9e4\\uc77c\",\"\\ud0c0\\uace0\",\"\\ub300\\uc911\\uad50\\ud1b5\",\"\\ud55c\\uad6d\",\"\\uc548\\uc815\",\"\\uac70\\uc8fc\",\"\\uba40\\ub2e4\",\"\\ub9cc\\ub4e4\\uae30\",\"\\ud574\\uac08\",\"\\uc9d1\\ucc29\",\"\\ub85c\\uc6c0\",\"\\ub2ec\\ucf64\\ud558\\ub2e4\",\"\\uc18c\\ube44\",\"\\ub9e4\\ub825\",\"\\ubcf4\\uc218\",\"\\uc811\\uadfc\\uc131\",\"\\ub9ce\\ub2e4\",\"\\uc9c4\\uc785\",\"\\uc7a5\\ubcbd\",\"\\ud604\\uc800\",\"\\ub3c5\\ucc3d\",\"\\uc131\\uc740\",\"\\uc5b4\\ub290\",\"\\uc815\\ub3c4\",\"\\ub77c\\uc774\\uc13c\\uc2a4\",\"\\uc758\\uac70\",\"ATTRIBUTION\",\"NONCOMMERCIAL\",\"SHAREALIKE\",\"INTERNATIONAL\",\"CC\",\"BY\",\"NC\",\"SA\",\"\\uc2e4\\ubb34\",\"\\uc0dd\\ud0dc\",\"\\ubaa8\\uc784\",\"Creative\",\"Ecosystem\",\"Research\",\"Network\",\"d\",\"\\uc624\\ud508\",\"\\uc774\\ub178\\ubca0\\uc774\\uc158\",\"\\ube44\\uc988\\ub2c8\\uc2a4\",\"\\uc0c1\\ud638\",\"\\uc758\\uc874\",\"\\uc591\\uc0c1\",\"\\uc9c0\\uc18d\\uac00\\ub2a5\\uc131\",\"\\ud5c8\\ube0c\",\"\\uc804\\ubc18\",\"\\uc21c\\ud658\",\"\\ubc29\\ubc95\",\"\\uad6c\\uccb4\",\"\\ub2e4\\uc74c\",\"\\uccab\\uc9f8\",\"\\uad00\\uacc4\\ub3c4\",\"\\ub458\\uc9f8\",\"\\ud611\\ub825\",\"\\uae30\\uad00\",\"\\uc14b\\uc9f8\",\"\\ub2f9\\uc0ac\\uc790\",\"\\uc778\\ud130\\ubdf0\",\"\\uc9d1\",\"\\ub370\",\"\\uac00\\uc774\\ub4dc\",\"\\uc5ed\\ud560\",\"\\uc904\",\"\\uae30\\ub300\",\"\\uadf8\\uac04\",\"\\ub0b4\\uc6a9\",\"\\uc774\\ub3d9\\uc2dd\",\"\\uac04\\ub7b5\\ud558\\ub2e4\",\"\\uc528\",\"\\ub124\\ud2b8\\uc6cc\\ud06c\",\"\\uc774\\ub3d9\\ud615\",\"\\ubaa8\\uba58\\ud140\",\"MOMENTUM\",\"\\uc7ac\",\"INSTALLATION\",\"\\uc21c\",\"\\uc804\\ud615\\uc0b0\",\"\\uc131\\uc758\",\"\\uc2dc\",\"\\uc21c\\ud589\",\"\\ucc28\\uc6a9\",\"\\uad00\\uce21\",\"\\ud589\\uc131\\uacc4\",\"\\ub0b4\",\"\\ubc18\\ub300\",\"\\ucc29\\uc2dc\\ud604\\uc0c1\",\"\\ud558\\ub098\\ub85c\",\"CONSONANCE\",\"\\ubd88\",\"DISSONANCE\",\"\\uc2ec\\uc0c1\",\"AUDITORY\",\"IMAGE\",\"\\uc11c\\ub77c\\uc6b4\\ub4dc\",\"\\uad6c\",\"\\uc870\\ubb3c\",\"\\uac00\\uc6b4\\ub370\",\"\\ud68c\\uc804\",\"\\uc9c0\\ud5a5\\uc131\",\"\\uc2e0\\ud638\",\"\\ub300\\ub9bd\",\"\\uc870\\ud654\",\"\\uacfc\\ud559\",\"\\uc2dc\\ud0b4\",\"\\uc74c\\ud5a5\",\"\\ub300\\ud558\",\"\\uad00\\uacc4\\uc131\",\"\\ub2e4\\uc2dc\\uae08\",\"\\ud33d\\ud33d\",\"\\uae34\\uc7a5\",\"\\uc2dc\\uc791\",\"JODK\",\"\\uacf5\\uc911\",\"\\uc2dc\\uac04\\ud45c\",\"\\ud6c4\",\"\\ubcc4\",\"\\uace0\\ud5a5\",\"\\uc57d\",\"\\ud5c8\\ub2c8\",\"\\ubc84\\ud130\",\"\\ud3ed\\ub825\",\"\\uc11c\\ud074\",\"\\ub2e4\\uc774\\uc5b4\\ud2b8\",\"\\uc0b4\",\"\\ub2f9\\uc2e0\",\"\\ucc98\\uc74c\",\"\\uc774\\ub2e4\",\"\\ud3c9\\ud654\",\"\\ub310\",\"\\uace0\\uc815\",\"\\ub354\\ud2f0\",\"\\ub304\\uc2f1\",\"\\ud504\\ub85c\",\"\\uc81d\\uc158\",\"\\uc77c\\ucd09\\uc989\\ubc1c\",\"\\ub0a8\\ubd81\\ud55c\",\"\\uae09\\ubcc0\",\"\\ub3d9\\ubd81\\uc544\",\"\\ud55c\\ubc18\\ub3c4\",\"\\uac00\\uc57c\",\"\\uae38\\ub2e4\",\"\\ucf5c\\ub4dc\",\"\\ud558\\ub4dc\",\"\\uce90\\uc2dc\",\"\\ud22c\\uc2dc\\ub3c4\",\"\\uc9c0\\uc815\\ud559\\uc801\",\"\\ub354\\uc6b1\\ub354\",\"\\uac15\\ub825\\ud558\\ub2e4\",\"\\uc724\\uc2ec\\ub355\",\"\\uc790\\uc0b4\",\"\\ubbf8\\ub9ac\",\"\\ub9e4\\ud639\",\"\\uc9c0\\uc911\\ud574\",\"\\uba54\\ub274\",\"\\ud2b8\\uc717\",\"\\uc218\\uc9c0\",\"\\uc6e1\",\"WORLD\",\"SUZIE\",\"WONG\",\"\\uad6d\\ubbfc\",\"\\uc5ec\\ub3d9\\uc0dd\",\"\\uc2ec\\ub9ac\",\"\\uc774\\uc6c3\",\"Y\",\"K\",\"\\uc138\\uae30\\ub9d0\",\"\\uacf5\\ud3ec\",\"\\uc720\\ub9ac\",\"\\uad6d\\uc801\",\"TRANSNATIONAL\",\"\\uce74\\uce74\\uc624\",\"\\ud0dd\\uc2dc\",\"\\uc9c4\\uc815\",\"\\uc624\\ub298\",\"\\ubc24\",\"\\uc1fc\",\"\\ud0b9\\ucf69\",\"\\uae00\\ub85c\\ubc8c\",\"\\ube44\\ub2c8\",\"\\ubca0\\uc774\\ube44\",\"\\ub208\",\"\\ubc8c\",\"\\uc5c5\",\"\\ud30c\\ub178\\ub77c\\ub9c8\",\"\\ud55c\\uc778\",\"\\ucc9c\\uc7ac\",\"\\uc18c\\ub140\",\"\\uace8\\ub4e0\",\"\\ud0c0\\uc784\",\"\\uc2ec\\uacbd\",\"\\uace0\\ubc31\",\"\\uc708\\ub3c4\\uc6b0\",\"\\uac15\\uc544\\uc9c0\",\"\\ub0a8\\ub2e4\\ub974\\ub2e4\",\"\\uac70\\uc2e4\",\"\\ud654\\uc7a5\\uc2e4\",\"\\ud669\\uae08\",\"\\ubd80\\uc5cc\",\"\\uc815\\uc6d0\",\"\\ubb34\\ub8cc\",\"\\ud3c9\\uac00\\ud310\",\"\\ub85c\\ub610\",\"\\ubc88\\ud638\",\"TRANSMEDIALITE\",\"\\uc544\\uc2dc\\uc548\",\"ASIAN\",\"\\ucf54\\ub9ac\\uc548\",\"KOREAN\",\"\\ub274\",\"\\ub85c\\uc2a4\",\"\\ucf00\\uc774\\ud504\",\"\\uc811\\ubaa9\",\"Mobility\",\"N\",\"\\uac00\\uc7a5\",\"\\ubab0\\uc785\",\"\\ub6f0\\uc5b4\\ub098\\ub2e4\",\"\\ucc29\\uc548\",\"\\uae30\\ubcf8\",\"\\uc804\\ub7b5\",\"\\ub9c8\\uc8fc\",\"\\ub799\\ud2f0\\ube0c\",\"\\ud2b9\\ud654\",\"\\ucd95\",\"\\ub098\",\"\\ucc3d\\uace0\",\"\\uad6c\\uc11d\",\"\\ubcbd\",\"\\ud750\\ub9bf\",\"\\ucc45\\uc0c1\",\"\\uc120\\uba85\\ud558\\ub2e4\",\"\\uc7a5\\ube44\",\"\\uc544\\ub0a0\\ub85c\\uadf8\",\"TV\",\"\\ucf67\\ub178\\ub798\",\"\\uc88b\\ub2e4\",\"\\ud478\\ub978\",\"\\ud558\\ub298\",\"\\ud65c\\uacf5\",\"\\uc790\\uc720\",\"\\ub9cc\\ub07d\",\"\\ub0a0\\uac1c\",\"\\ubbf8\\ub3d9\",\"\\uc2e4\\ud604\",\"\\ub300\\uc758\",\"\\uad50\\uc9c1\",\"\\uc9c0\\ud615\\ub3c4\",\"\\ub3d9\\ucc38\",\"\\uc5f0\\uccb4\\ub3d9\\ubb3c\",\"\\ucc38\\uc870\",\"\\ubd80\\ub4dc\\ub7fd\\ub2e4\",\"\\uc7ac\\ub8cc\",\"\\ud718\",\"\\uc720\\uc5f0\\ud558\\ub2e4\",\"\\ud559\\uc220\",\"\\uc0c1\\ud488\",\"\\ucd08\\uae30\",\"\\ub2e8\\uacc4\",\"\\ud615\\uc0c1\",\"\\uc6d0\\ub9ac\",\"\\uc758\\ub3c4\",\"\\uacbd\\uc6b0\",\"\\uac00\\ub839\",\"\\uc0dd\\uccb4\\ubaa8\\ubc29\",\"Bio\",\"Mimicry\",\"\\uc720\\uae30\\uccb4\",\"\\uc12c\\ub729\\ud558\\ub2e4\",\"\\ud765\\ubbf8\\ub86d\\ub2e4\",\"\\uc774\\ub7ec\\ud558\\ub2e4\",\"\\uc591\\uba74\",\"\\uc624\\ub978\",\"\\ubb3c\\uccb4\",\"\\ud604\\uc8fc\\uc18c\",\"\\ub514\\uc790\\uc774\\ub108\",\"\\uc544\\ud2b8\",\"\\uc601\\uc5ed\",\"\\uc628\",\"\\uc18c\\uac70\",\"\\uc55e\",\"\\ub3c4\\ub798\",\"\\uc811\\ucd09\",\"\\ub9e4\",\"\\uac1c\\uc810\",\"\\uc81c\\ub85c\",\"\\uc218\\uc9d1\",\"\\ucc28\\ub7c9\",\"\\uc804\\uba74\",\"\\ub530\\ub77c\\uc11c\",\"\\uacbd\\ub85c\",\"\\uc0c1\\ud669\",\"\\uc790\\uc720\\ub86d\\ub2e4\",\"\\uc778\\uc9c0\",\"\\ubd80\\uc870\\ud654\",\"\\ud604\\uc0c1\",\"\\ub300\\ucc45\",\"\\ube0c\\ub79c\\ub529\",\"\\uac00\\ub054\",\"\\uc5ec\\ud589\",\"\\ub0af\\uc120\",\"\\ud3c9\\uc18c\",\"\\ubcf4\\uace0\",\"\\uadf8\\ub85c\",\"\\uc2a4\\uc704\\uce58\",\"\\ub178\\ucd9c\",\"\\uc2b9\\uc6a9\\ucc28\",\"\\uc790\\uc804\\uac70\",\"\\uc0ac\\uc801\",\"\\uc0dd\\uae30\",\"\\ucd9c\\ud558\",\"\\uc758\\uc9c0\",\"\\ud6c4\\uac01\",\"\\ubcf5\\ud569\",\"\\uc791\\uc6a9\",\"\\ube44\\ub85c\\uc18c\",\"\\ub0bc\",\"\\uccad\",\"\\ud574\\uc0c1\\ub3c4\",\"\\uba38\\uc2e0\",\"\\ud559\\uc2b5\",\"\\ud1b5\",\"\\ub514\\uc9c0\\ud138\",\"\\ucc28\\uc774\",\"\\uc911\\uc778\",\"\\ub79c\\ub4dc\",\"\\uc5b4\\ud504\",\"\\ub85c\\uce58\",\"V\",\"\\ub85c\",\"\\uac01\\ub3c4\",\"\\ub808\\uc77c\",\"\\uc88c\\uc6b0\",\"\\uacc4\\uae30\",\"\\ubc1c\\uba85\\ud488\",\"\\uc218\\uc815\",\"\\ud575\\uc2ec\",\"\\uc815\\uc758\",\"\\ubcf4\\uc644\",\"\\uc99d\\uba85\",\"\\ubc18\\ubcf5\",\"\\uc77c\\ubd80\",\"\\uc774\\uc5b4\\ub3c4\",\"\\ub354\\uc6b1\",\"\\uc218\\ub3c4\",\"\\ubb38\\uc790\",\"\\ud55c\\uacc4\",\"\\ud798\\ub4e4\\ub2e4\",\"\\ubd80\\ub958\",\"\\uad8c\\ud55c\",\"\\ub824\\uace0\",\"\\ub178\\ub825\",\"\\uad8c\\ub825\",\"\\ubb34\\uc801\",\"\\ubd80\\uc5ec\",\"\\uc0dd\\uc0b0\",\"\\ubc1c\\uacac\",\"\\uac31\\uc2e0\",\"\\ubcf8\\uc9c8\",\"\\uc784\",\"\\uc5ed\\uc124\",\"\\uc2e4\\ud328\\ud558\\ub2e4\",\"\\uc720\",\"\\ub300\\uac10\",\"\\ubb34\\uc7a5\",\"\\ubcf4\\ud638\",\"\\uc544\\ub798\",\"\\uc885\",\"\\uc815\\uccb4\",\"\\uc2e4\\ud328\",\"\\uc790\\uc874\",\"\\uac04\\uadf9\",\"\\uacb0\\uc5ec\",\"\\uadf9\\ubcf5\",\"\\uc9c0\\uc2dc\",\"\\uadf8\\ub300\\ub85c\",\"\\ud30c\\ud3b8\",\"\\ubcf5\\uc81c\",\"\\uc774\\ub860\",\"\\ubb34\\ud55c\",\"\\ub098\\ub77c\\uace0\",\"\\uc6d0\\ubcf8\",\"\\ubcf4\\uc874\",\"\\ubb34\\uc5c7\",\"\\ucd94\\ucd9c\",\"\\uc5c5\\ub85c\\ub4dc\",\"\\uc774\\ud6c4\",\"\\ud654\\uc11d\",\"\\ub300\\ube44\",\"\\uc644\\uc804\\ud558\\ub2e4\",\"\\uc804\\uc790\\uc74c\\uc545\",\"\\uc9c0\\ud5a5\",\"\\ud14c\\ub9c8\",\"\\uc624\\ud1a0\\ubc14\\uc774\",\"\\ube44\\ud589\\uae30\",\"\\uac10\\ud765\",\"\\uc0c1\\uae30\",\"\\ube0c\\ub77c\\uc774\\uc5b8\",\"\\uc774\\ub178\",\"Brian\",\"Eno\",\"\\uc74c\\ubc18\",\"Airports\",\"\\uc21c\\uc774\",\"\\uac01\\uac01\",\"\\ub300\\uc911\",\"\\uc74c\\uc6d0\",\"\\uc0ac\\uc804\",\"\\ud589\\uc0ac\",\"\\ud604\\uc7a5\",\"\\ubc18\\uc751\",\"\\uc870\\uc815\",\"\\uc989\\ud765\",\"\\uc791\\uc790\",\"\\ub3d9\\ub4f1\",\"\\uc2dc\\uacf5\\uac04\",\"\\uc9d1\\uc911\",\"\\uc774\\uba74\",\"\\ubcc0\\ud601\",\"\\uc7ac\\ud604\",\"\\uac01\\uc885\",\"\\uc774\\uc288\",\"D\",\"\\uc8fc\\uc81c\\uac00\",\"\\ud22c\\uc601\",\"\\uae30\\uc874\",\"\\uae30\\ub2a5\",\"\\uac70\\ub300\\ud558\\ub2e4\",\"\\ub514\\ubc14\\uc774\\uc2a4\",\"COMPUTER\",\"VISION\",\"INFORMATION\",\"RETRIEVAL\",\"\\ucd5c\\uc2e0\",\"\\ub525\",\"VISUAL\",\"OBJECT\",\"SOUND\",\"MAPPING\",\"SPEECH\",\"RECOGNITION\",\"MULTI\",\"MODALITY\",\"\\uac04\\uc758\",\"\\uc720\\uae30\",\"\\uc0c1\\uc0dd\",\"\\uc911\\uc774\",\"\\ub3c5\\ub9bd\",\"\\ub7a9\",\"\\uc2a4\\ud29c\\ub514\\uc624\",\"\\uc804\\ubb38\\uac00\",\"\\ub178\\ud2b8\",\"\\uc11c\\uc801\",\"\\ucc38\\uace0\",\"\\ud3ec\\ub9f7\",\"\\uae30\\uac04\",\"\\uc9c1\\uc811\",\"\\ud0a4\\ub178\\ud2b8\",\"\\uc6c0\\uc9c1\",\"\\ucda9\\ubd84\\ud558\\ub2e4\",\"\\ub9c9\\ub300\",\"\\ub9d0\",\"\\uc800\",\"\\uba40\\ub9ac\",\"\\uc70c\\uc2a8\",\"\\uacfc\",\"\\uad6c\\uba4d\",\"\\uc6b4\\uc601\",\"\\uc0ac\\uc720\",\"\\uc218\\uc18c\",\"\\uc804\\uc9c0\",\"\\ub354\\ud558\\ub2e4\",\"\\ud558\\ub4dc\\uc6e8\\uc5b4\",\"\\ud53d\\uc140\",\"\\ubaa8\\ub4c8\",\"\\uc5f0\\ub3d9\",\"\\ubcf4\\ud1b5\",\"\\uacbd\\uc81c\",\"\\ub17c\\ub9ac\",\"\\uc6b4\\uc6a9\",\"\\uba85\",\"\\ubcc0\\uc218\",\"\\uc989\",\"\\ucd9c\\ub825\",\"\\ud56d\",\"\\ud48d\\ubd80\\ud558\\ub2e4\",\"\\uc624\",\"\\ub3c5\",\"\\uc2dc\\ucc28\",\"\\uacf5\\uc874\",\"\\uacfc\\uac70\",\"\\uacb9\",\"\\uacbd\",\"\\uccb4\",\"\\uc2e0\\ube44\",\"\\uadf9\\ub300\",\"\\ubcf5\\uc7a1\\ud558\\ub2e4\",\"\\uc8fc\\uccb4\",\"\\uc18c\\uc2e4\",\"\\uc65c\\uc18c\\ud558\\ub2e4\",\"\\uc7ac\\uace0\",\"\\uae30\\ud68d\",\"\\uc0b0\\uc5c5\\ud654\",\"\\uc2dc\\uacc4\",\"\\ubc18\\uba74\",\"\\ucd95\\uc758\",\"\\uae30\\uc6b8\\uae30\",\"\\uacc4\\uc808\",\"\\uba85\\uc758\",\"\\ud558\\ub8e8\",\"\\uae30\\uc900\",\"\\uc2a4\\ub0c5\\uc0f7\",\"\\uc5ee\",\"\\ub3d9\\uae30\\ud654\",\"\\ub610\\ud55c\",\"\\uc57c\\uac04\",\"\\uae38\\uc774\",\"\\uc77c\\uce58\",\"\\uc5b8\\uc81c\",\"\\uc5b4\\ub514\",\"\\uc11c\\ub098\",\"\\uc801\\uc6a9\",\"\\ud45c\\uba74\",\"\\uc218\\ub834\",\"\\ub4ef\",\"\\uacf5\\ud3c9\\ud558\\ub2e4\",\"\\uc2e0\\ub8b0\",\"\\uc5f0\\uacb0\\ud558\\ub2e4\",\"\\uc0dd\\uba85\",\"\\uc9c8\\uc11c\",\"\\ub9ac\\ub4ec\",\"\\uc870\\uc728\",\"\\ucc98\\ub7fc\",\"\\uae30\\uc800\",\"WILSON\",\"\\uc778\\uaca9\",\"\\ub300\\ucc99\\uc810\",\"\\uc624\\ud788\\ub824\",\"\\uc810\\uc720\",\"\\uc624\\ube0c\",\"\\uc2e4\\uccb4\",\"\\ubaa8\\uc158\",\"\\uae30\\ubc95\",\"VR\",\"\\uccb4\\ud5d8\",\"\\uc870\\uc6b0\",\"\\uac00\\uc0c1\",\"\\uc2e4\\uc81c\"],\"x\":[-26.296457290649414,8.067832946777344,-20.575641632080078,-49.43394470214844,-20.209463119506836,-43.33423614501953,31.233417510986328,-23.194847106933594,-34.12538528442383,1.342159390449524,-29.61382293701172,-14.137178421020508,63.56848907470703,-50.01551818847656,7.478621482849121,-3.7793071269989014,-57.023834228515625,-30.216428756713867,13.312644004821777,63.40502166748047,60.45174026489258,4.954482555389404,-60.22866439819336,31.562471389770508,-17.316696166992188,33.091835021972656,43.55291748046875,-29.701627731323242,35.534156799316406,41.70693588256836,-21.042760848999023,-9.114187240600586,44.456722259521484,-46.32691955566406,-5.755726337432861,32.01559829711914,19.5562801361084,-43.138099670410156,15.528007507324219,-1.1435495615005493,46.381744384765625,43.129940032958984,-23.455177307128906,-38.63243865966797,-67.25594329833984,-50.717567443847656,-40.08510208129883,19.505064010620117,-75.72571563720703,-22.673622131347656,32.72954559326172,48.92925262451172,-61.17472457885742,-14.475717544555664,-53.01683807373047,-38.32347869873047,-39.918785095214844,-6.778594970703125,34.98435974121094,-59.90314865112305,-21.140552520751953,49.87010192871094,22.23359489440918,22.427114486694336,21.40641975402832,19.45490264892578,-59.89449691772461,-63.37066650390625,-10.94715690612793,-48.97562026977539,-57.85902786254883,-61.0048942565918,-58.78122329711914,-17.65176010131836,-62.62411117553711,34.725059509277344,38.26153564453125,-19.09209442138672,-52.999332427978516,-16.670654296875,-15.439484596252441,17.00568962097168,-21.503862380981445,8.401978492736816,75.25801086425781,-68.25691223144531,27.038944244384766,23.51089859008789,23.485464096069336,-49.72602844238281,23.099721908569336,-63.335731506347656,-5.758208751678467,-21.99671745300293,7.0329790115356445,11.839085578918457,36.53192901611328,35.03581619262695,-25.934574127197266,-60.85675811767578,-6.6671905517578125,-51.004032135009766,62.30216979980469,-57.452171325683594,-71.28581237792969,-34.84907150268555,14.949914932250977,14.619194030761719,-70.78699493408203,-54.08314514160156,-38.6956787109375,27.940343856811523,-30.99327278137207,-31.021455764770508,68.48958587646484,-21.668210983276367,-34.09211730957031,33.38201904296875,-39.35141372680664,4.599786758422852,27.11464500427246,-6.100966930389404,39.158607482910156,-32.47057342529297,11.829739570617676,-32.00165557861328,14.64422607421875,-29.339658737182617,-13.516746520996094,0.5192338824272156,28.34100914001465,11.355372428894043,56.99541091918945,17.944177627563477,28.8293399810791,2.751931667327881,16.46931266784668,8.038409233093262,-4.99488639831543,44.594825744628906,31.474323272705078,44.67375183105469,-2.45382022857666,-26.732847213745117,-0.6459749937057495,20.67323875427246,23.68256187438965,-17.90315818786621,-39.04032897949219,41.03416061401367,-70.49651336669922,-50.505210876464844,-24.479944229125977,17.77752113342285,-20.99973487854004,-29.710834503173828,-41.18810272216797,48.03699493408203,25.29608154296875,-3.3449456691741943,-8.876684188842773,-42.84803771972656,-9.56580638885498,-30.359020233154297,54.20851516723633,-29.456340789794922,40.35551452636719,72.92925262451172,12.930441856384277,-5.783060550689697,-9.863225936889648,-0.6832633018493652,-69.81088256835938,28.271591186523438,31.470434188842773,-19.385347366333008,-16.569225311279297,44.76566696166992,-49.310752868652344,-38.58878707885742,-15.17960262298584,9.565247535705566,-26.436399459838867,-32.583091735839844,-19.613611221313477,-36.827083587646484,36.14702606201172,-41.574764251708984,45.86164855957031,45.3580322265625,44.754486083984375,-69.95846557617188,-71.0062255859375,25.56769371032715,25.82916259765625,25.57366180419922,25.432701110839844,-50.20580291748047,-55.07932662963867,-54.71078109741211,-55.31755828857422,-55.57107925415039,-56.24092483520508,-56.87493133544922,-56.942359924316406,-57.84113693237305,-59.12602233886719,-58.927886962890625,-66.09223937988281,-66.58863067626953,-65.75978088378906,-65.07247924804688,-63.010398864746094,-61.3263053894043,-60.75135803222656,-60.329917907714844,-59.3840446472168,-57.9976806640625,-62.891700744628906,-61.48870849609375,-61.08590316772461,-23.57685661315918,-23.001529693603516,49.053714752197266,29.61665153503418,71.28247833251953,-23.706148147583008,-23.835933685302734,-27.88010597229004,14.304049491882324,22.046911239624023,-12.39153003692627,-37.774593353271484,23.579240798950195,20.060964584350586,-42.45138168334961,-23.77735710144043,27.115367889404297,-8.033329963684082,-41.225074768066406,-26.251510620117188,-59.74230194091797,-4.099438667297363,-9.346552848815918,-5.317766189575195,20.518836975097656,6.28502893447876,-27.218746185302734,25.373916625976562,-4.84178352355957,-10.332837104797363,-43.11359405517578,-43.11888122558594,73.76311492919922,-39.83926010131836,-39.86590576171875,17.04990577697754,-72.58051300048828,-72.57865142822266,58.791194915771484,57.119361877441406,-29.998050689697266,15.275384902954102,10.425219535827637,12.328734397888184,-42.190738677978516,10.851494789123535,-1.7061376571655273,-12.165556907653809,56.803863525390625,1.2468161582946777,1.3149898052215576,33.711063385009766,6.467916488647461,4.4138383865356445,-20.10434913635254,-42.95417022705078,28.292612075805664,27.24248504638672,56.544097900390625,-41.012691497802734,-43.076778411865234,45.16321563720703,-8.22716236114502,5.992311954498291,-48.243247985839844,-50.15800857543945,-35.53647994995117,-35.38533020019531,-35.5848274230957,-12.113609313964844,-27.639039993286133,-18.91686248779297,-15.690790176391602,-33.8939208984375,16.647003173828125,-12.58043384552002,-12.633023262023926,-8.362582206726074,29.231365203857422,35.777217864990234,-1.609161138534546,-19.331275939941406,54.1922607421875,-26.47692108154297,-24.988019943237305,29.964874267578125,31.345796585083008,31.50657081604004,31.756389617919922,69.69169616699219,70.12310028076172,70.67744445800781,71.16190338134766,71.73155975341797,-22.410503387451172,-25.73251724243164,-26.3027286529541,-26.886205673217773,-34.28047180175781,-35.36908721923828,-35.68632888793945,-38.59104919433594,-38.57040023803711,5.679389953613281,6.48103666305542,6.902293682098389,-36.950294494628906,-37.04036331176758,-37.052711486816406,0.22828885912895203,-4.279381275177002,-19.0206241607666,26.809173583984375,4.913732051849365,-2.1471121311187744,-14.44116497039795,-0.29776477813720703,-59.767723083496094,-42.49172592163086,-5.153451919555664,4.0935564041137695,-8.300012588500977,44.58774185180664,18.92571258544922,74.45805358886719,20.570043563842773,33.2155876159668,40.91786575317383,-16.056068420410156,21.83864974975586,46.423614501953125,47.88203048706055,43.1317024230957,43.02827072143555,26.208669662475586,24.351531982421875,12.51871109008789,12.501233100891113,-15.785075187683105,-1.7403268814086914,59.94303512573242,-50.484012603759766,-47.75196838378906,-30.79950714111328,-23.629270553588867,59.50795364379883,-14.02285385131836,39.59731674194336,18.03005027770996,-14.46897029876709,-0.05749141424894333,4.245851039886475,5.600799083709717,35.14834976196289,37.361202239990234,3.427677631378174,-69.58777618408203,-69.59925079345703,-19.32912254333496,-18.72370147705078,42.28392791748047,58.410499572753906,58.3990364074707,54.9666748046875,32.470298767089844,31.28084373474121,-19.506345748901367,-16.062137603759766,-11.414259910583496,-40.70040512084961,-35.27070999145508,6.817364692687988,-0.42197173833847046,7.562391757965088,7.738292217254639,-23.411422729492188,-26.472631454467773,-39.591957092285156,-3.9398205280303955,-49.55158615112305,-36.853538513183594,-36.78833770751953,-35.65380859375,-44.99521255493164,-45.228599548339844,7.031339168548584,-30.773557662963867,-23.007278442382812,-31.97173309326172,-50.462158203125,65.8692855834961,49.71563720703125,34.35731887817383,28.962440490722656,-17.553861618041992,-17.373493194580078,14.194207191467285,22.26186752319336,22.457862854003906,8.256160736083984,5.130404472351074,2.686846971511841,-39.0450553894043,3.139873743057251,0.6534427404403687,0.6134442090988159,2.885650157928467,-8.440658569335938,-41.720252990722656,-15.972770690917969,-23.174596786499023,-19.396730422973633,-17.729814529418945,-18.34353256225586,47.7187385559082,48.53003692626953,31.864913940429688,30.72499656677246,-29.54905891418457,0.5696640014648438,-5.502886772155762,29.16370391845703,4.457253932952881,-4.576628684997559,-45.3074836730957,11.580595016479492,3.546160936355591,-25.671152114868164,-3.335655450820923,-9.535649299621582,-7.714934349060059,-37.14473342895508,-5.328986167907715,-6.8338847160339355,1.3749417066574097,38.218284606933594,38.49212646484375,38.5042610168457,45.43292999267578,-18.34512710571289,-24.522695541381836,-24.407358169555664,-27.634014129638672,-13.89365291595459,20.211837768554688,46.45323944091797,47.48101043701172,49.84917068481445,14.112464904785156,-35.298763275146484,17.60360336303711,15.826255798339844,15.8546781539917,13.033102989196777,15.201896667480469,20.32025146484375,15.898073196411133,14.351338386535645,43.407161712646484,-24.61478042602539,-23.446069717407227,-13.698576927185059,-13.69664478302002,25.280099868774414,45.181941986083984,9.786774635314941,20.62218475341797,-13.034387588500977,-4.780961036682129,-24.9185848236084,-23.275766372680664,-24.0637149810791,46.517852783203125,46.57001876831055,46.696380615234375,46.51431655883789,46.13473892211914,46.01863098144531,45.73198318481445,45.988990783691406,46.03147888183594,-42.40966796875,73.74264526367188,73.66241455078125,26.667837142944336,34.45042419433594,34.236839294433594,39.921329498291016,40.3010368347168,41.44545364379883,-1.6865174770355225,-24.73345947265625,-8.421000480651855,-9.148053169250488,-10.27636432647705,-10.954471588134766,-11.822244644165039,-12.226263046264648,-12.67852783203125,-13.506102561950684,-13.89571475982666,-14.300787925720215,-14.74653434753418,-15.418535232543945,-16.128305435180664,-16.36683464050293,24.354671478271484,-40.69266891479492,-41.21358108520508,-41.71262741088867,-50.50456237792969,-50.08961486816406,-49.28092575073242,57.46839904785156,57.61677551269531,40.92755889892578,-29.78307342529297,-29.37186622619629,-24.785099029541016,-24.593400955200195,14.65565299987793,59.840023040771484,59.53410339355469,58.64263916015625,58.32029724121094,57.75193786621094,13.440533638000488,13.149334907531738,12.284236907958984,11.349698066711426,-10.313908576965332,-10.541853904724121,-11.657573699951172,-0.27644357085227966,-0.08303512632846832,-0.4457744359970093,-0.9515437483787537,-1.615962028503418,-2.176403045654297,5.314001560211182,5.7297210693359375,9.26932144165039,8.95770263671875,8.409358024597168,6.980661869049072,35.61440658569336,35.514347076416016,35.97373962402344,36.19465637207031,-0.04222507029771805,0.7000178098678589,1.222442865371704,1.5380035638809204,-22.194921493530273,-22.907251358032227,-22.819873809814453,-23.402570724487305,-18.09957504272461,-18.37814712524414,43.01362228393555,41.79243469238281,41.258907318115234,40.43917465209961,40.20401382446289,63.38018798828125,62.49819564819336,61.67502975463867,60.984130859375,60.14726257324219,59.47628402709961,57.17233657836914,56.553855895996094,56.117286682128906,55.685203552246094,42.91375732421875,42.48351287841797,41.89466094970703,41.328857421875,40.58494186401367,39.62392044067383,38.945831298828125,38.80622100830078,38.0538215637207,37.64737319946289,22.171161651611328,22.120792388916016,22.09158706665039,22.2436466217041,22.410795211791992,22.890865325927734,23.342750549316406,33.22813034057617,34.2999267578125,34.57183074951172,47.98003005981445,48.48448944091797,49.005653381347656,49.514991760253906,31.3636474609375,-18.630355834960938,-18.510683059692383,-18.33977508544922,-18.040048599243164,-17.423139572143555,-13.54997444152832,-13.311843872070312,-13.246604919433594,-36.64778518676758,-36.81843185424805,-38.251407623291016,-40.1966667175293,-41.239070892333984,-41.546791076660156,-42.27541732788086,1.355610728263855,1.780043125152588,1.5219383239746094,2.126986265182495,2.6599442958831787,4.334785461425781,4.98527717590332,5.498344898223877,6.105456352233887,9.133867263793945,9.668915748596191,9.850883483886719,52.374691009521484,52.37471389770508,-42.10987854003906,-41.783023834228516,-57.842674255371094,-57.71216583251953,-56.98483657836914,-54.94569396972656,-38.032718658447266,-37.836151123046875,-35.36028289794922,-36.292301177978516,-36.55476379394531,-41.478553771972656,-42.72149658203125,-43.553890228271484,-43.933815002441406,-44.35753631591797,-45.15256118774414,-45.9998779296875,-46.47145462036133,-46.44239044189453,-31.498239517211914,-31.93962860107422,-31.944120407104492,-29.508541107177734,-29.72896957397461,-30.04076385498047,-30.436962127685547,-30.451683044433594,-30.60865020751953,-36.061126708984375,-36.5104866027832,-36.623390197753906,-26.477956771850586,-27.392057418823242,-27.55319595336914,-28.89364242553711,-28.96674919128418,-29.397397994995117,-47.73630142211914,-48.361942291259766,-48.45670700073242,-49.2431526184082,-51.13786315917969,-51.88300704956055,-52.40608596801758,-53.240055084228516,-52.92243957519531,-53.79463195800781,-53.77392578125,-54.18417739868164,-54.68411636352539,-54.890663146972656,-54.34245681762695,-55.03597640991211,-54.126007080078125,-54.638519287109375,15.539801597595215,15.163681983947754,16.169410705566406,15.7379150390625,16.653602600097656,15.847002029418945,16.778074264526367,16.42656707763672,15.790994644165039,16.664827346801758,15.785398483276367,16.194128036499023,64.45246887207031,63.67537307739258,63.50139236450195,62.64740753173828,62.420867919921875,61.19242477416992,60.27898406982422,59.34947967529297,58.99427795410156,58.197147369384766,57.57066345214844,56.89015197753906,55.99045181274414,55.379520416259766,54.67481231689453,54.09628677368164,-13.13467025756836,-13.50973892211914,-12.92342472076416,-13.652605056762695,-12.86430549621582,-13.623199462890625,-13.03547477722168,-13.509866714477539,-12.974544525146484,-13.462257385253906,-12.649763107299805,-13.014135360717773,-12.88766860961914,-11.991657257080078,-11.903897285461426,-12.52751350402832,35.804317474365234,37.071964263916016,37.76507568359375,38.057777404785156,38.682132720947266,39.0569953918457,40.02086639404297,40.38431930541992,39.8075065612793,39.443485260009766,38.879364013671875,38.40889358520508,37.906803131103516,37.112945556640625,36.49919128417969,35.920982360839844,35.92211151123047,35.19425964355469,34.81553268432617,34.7764778137207,34.41220474243164,33.62064743041992,32.61565399169922,9.106457710266113,8.644527435302734,9.37022876739502,9.354330062866211,8.643607139587402,9.258503913879395,8.976104736328125,9.575858116149902,9.797689437866211,8.957991600036621,9.225153923034668,9.015983581542969,9.284416198730469,23.47917938232422,23.130592346191406,22.98506736755371,7.32680082321167,6.433448791503906,6.109151363372803,5.101492404937744,4.735429286956787,4.1333394050598145,3.3329153060913086,22.78468132019043,23.1409854888916,23.908489227294922,-39.34173583984375,1.6989578008651733,-8.746668815612793,-15.97991943359375,-23.645570755004883,-23.786529541015625,-23.173442840576172,-23.83489227294922,-23.25224494934082,-23.178821563720703,-16.366207122802734,-15.757081985473633,-15.075875282287598,-14.989131927490234,-14.364373207092285,-13.983477592468262,-13.429622650146484,-13.173857688903809,-12.326613426208496,-11.674126625061035,-10.783650398254395,-10.36366081237793,47.62452697753906,46.84235763549805,43.25798034667969,42.881317138671875,42.359432220458984,23.648969650268555,24.197031021118164,24.676822662353516,24.968896865844727,25.648006439208984,26.603954315185547,48.318450927734375,48.88620376586914,48.7775993347168,49.2374382019043,3.9423537254333496,3.083381414413452,2.5897867679595947,-0.00994308851659298,-0.9452273845672607,-1.5414538383483887,-1.5346949100494385,-1.97847580909729,0.5065487623214722,-2.7467050552368164,-2.735520601272583,4.507071495056152,4.067917346954346,3.143866539001465,2.5566790103912354,1.3477160930633545,0.5177130103111267,32.37175369262695,31.83654022216797,31.28115463256836,-2.6946563720703125,-2.9906198978424072,-3.1634762287139893,4.152555465698242,32.56999588012695,32.63229751586914,-5.194886684417725,-45.36811065673828,10.740242958068848,10.897835731506348,11.705550193786621,-45.22842025756836,-46.054542541503906,-46.68218231201172,-47.06452560424805,-47.8649787902832,-48.266475677490234,-49.152305603027344,-49.68193817138672,0.8933969736099243,0.5404462814331055,0.00896251481026411,-0.9633496403694153,-1.6445554494857788,-2.077460289001465,-9.02303695678711,-8.388355255126953,-8.907691955566406,-9.51897144317627,-9.910783767700195,37.81439971923828,37.40348434448242,-3.8431973457336426,-4.649467945098877,-5.837369918823242,-6.142179012298584,-6.668874740600586,-7.188752174377441,-10.009469032287598,-7.618185520172119,3.02319073677063,2.7772216796875,2.5394299030303955,2.319403648376465,-5.2632880210876465,-0.6053025722503662,-0.5500133037567139,35.28970718383789,35.62968063354492,36.793941497802734,36.91561508178711,43.09270477294922,43.81710433959961,44.19352340698242,-28.646425247192383,-22.34881591796875,-22.516529083251953,-15.138208389282227,-15.471166610717773,-15.578975677490234,-15.005937576293945,-15.579231262207031,-14.859004974365234,-28.591890335083008,-28.049163818359375,-27.669227600097656,-26.293397903442383,-26.053119659423828,-23.96257972717285,-19.38672637939453,-19.382829666137695,-19.914995193481445,-20.869251251220703,20.426149368286133,20.4459171295166,20.29928970336914,47.36836242675781,48.429481506347656,48.90580749511719,48.397125244140625,48.33240509033203,48.54327392578125,48.73093032836914,61.20745849609375,61.045623779296875,60.29990768432617,59.84907531738281,59.229576110839844,58.91214370727539,58.20500564575195,-35.7028694152832,-38.395896911621094,-38.56602478027344,-17.686420440673828,-17.576419830322266,11.772573471069336,12.094161033630371,13.891263961791992,13.949920654296875,18.5596866607666,18.704710006713867,-11.065641403198242,-10.958600997924805,-10.697970390319824,4.8988542556762695,5.718658924102783,6.308306694030762,6.191442012786865,6.582193374633789,6.477935314178467,15.415722846984863,7.889708995819092,14.037871360778809,14.369370460510254,7.294765472412109,7.279864311218262,-28.120576858520508,-28.12968635559082,15.59182357788086,15.602587699890137,14.832324028015137,15.142632484436035,14.893939971923828,15.457845687866211,16.340696334838867,16.490623474121094,16.49312973022461,19.170751571655273,19.712919235229492,20.115381240844727,20.718219757080078,23.472806930541992,23.824663162231445,23.94780731201172,-22.498157501220703,-22.509462356567383,-24.460098266601562,-24.15644645690918,-24.52153205871582,-25.382722854614258,-25.81283950805664,4.664583683013916,4.576355934143066,6.870921611785889,4.134156227111816,4.282660961151123,-38.41590881347656,-37.87284469604492,-37.42103958129883,-36.07900619506836,-3.8169829845428467,-3.558804512023926,-2.8755757808685303,-2.249621629714966,-1.223554253578186,-0.8329233527183533,4.257495403289795,4.4873199462890625,23.610637664794922,24.264549255371094,24.987884521484375,25.513057708740234,26.323246002197266,26.466833114624023,4.568978786468506,4.124985694885254,3.7493574619293213,2.661550760269165,-31.728185653686523,-32.38193130493164,-32.61275863647461,-32.76361846923828,-27.401330947875977,-26.700166702270508,-26.043903350830078,-25.508831024169922,19.392568588256836,18.676633834838867,18.470178604125977,27.085580825805664,26.463197708129883,25.981897354125977,25.09079360961914,24.465444564819336,24.133365631103516,16.87174415588379,16.503751754760742,16.045080184936523,8.362594604492188,8.427220344543457,-5.765792369842529,-5.849406719207764,-6.130710124969482,-6.436792373657227,-6.087377548217773,-6.565451145172119,-6.222885608673096,23.402463912963867,22.709152221679688,22.299049377441406,-16.83108901977539,-16.739282608032227,-15.085458755493164,-14.559952735900879,1.8663997650146484,18.848651885986328,17.949190139770508,17.32994270324707,16.907791137695312,-6.164729595184326,-6.714090824127197,-7.419308662414551,-8.126557350158691,-10.274958610534668,-10.402915954589844,-10.474979400634766,-10.85149097442627,-13.01584243774414,-12.633076667785645,-12.553338050842285,-24.64398956298828,-27.541114807128906,-27.880512237548828,-22.059518814086914,-22.014341354370117,22.229215621948242,21.667245864868164,21.546859741210938,21.090906143188477,16.84177017211914,16.645498275756836,16.464540481567383,16.273944854736328,16.081912994384766,-51.07935333251953,-50.85975646972656,24.019611358642578,24.01697540283203,-21.728771209716797,-21.485450744628906,-20.811792373657227,-20.758146286010742,-18.045307159423828,-17.642892837524414,-11.420428276062012,-6.047250270843506,-6.240200519561768,-6.046403408050537,-0.8609715104103088,-1.5951281785964966,-2.167879819869995,-2.5262105464935303,-3.2787744998931885,-28.211633682250977,-28.593761444091797,-29.536231994628906,-30.008211135864258,-31.32871437072754,4.9379143714904785,6.92018985748291,6.949496269226074,-35.66303634643555,-36.26393127441406,-36.89009094238281,-37.64775848388672,7.939309120178223,8.488512992858887,9.46633243560791,9.659926414489746],\"y\":[12.491861343383789,-3.465562582015991,-7.499669075012207,9.64637279510498,38.74675750732422,29.88609504699707,14.48855972290039,-2.635695695877075,3.583054542541504,2.9199581146240234,7.67240571975708,-62.004844665527344,28.81869888305664,-43.36391067504883,9.509292602539062,13.754033088684082,-4.036251544952393,7.613839626312256,-39.86524200439453,11.185174942016602,3.786628484725952,36.01602554321289,44.926177978515625,17.58315658569336,-32.16487121582031,-32.637184143066406,61.15803146362305,-3.970759630203247,5.085099220275879,9.424241065979004,17.836408615112305,13.214985847473145,26.975589752197266,-29.99269676208496,27.972749710083008,-11.637008666992188,-31.69461441040039,-19.425153732299805,0.1618969738483429,13.595222473144531,5.027142524719238,-20.40632438659668,-36.50749969482422,-0.5706034302711487,4.156668663024902,25.645740509033203,0.8258311748504639,-64.02549743652344,119.65727996826172,-44.32334899902344,6.805365562438965,-9.020760536193848,11.285265922546387,0.19618014991283417,9.797433853149414,29.112926483154297,27.04334831237793,67.0573959350586,24.139270782470703,25.616600036621094,-66.5562973022461,-45.224090576171875,42.26172637939453,45.17809295654297,-27.61341094970703,12.285234451293945,-28.249353408813477,-29.216787338256836,-14.116575241088867,20.989940643310547,45.68058776855469,42.4998893737793,9.020320892333984,0.9350024461746216,-26.16728973388672,36.56550598144531,13.384696006774902,-15.912286758422852,38.46115493774414,-9.105813980102539,-36.34505081176758,-4.078474521636963,28.923065185546875,-36.26884078979492,2.4035749435424805,-10.309403419494629,52.64094924926758,47.51003646850586,47.336769104003906,35.6063117980957,46.4467658996582,8.189774513244629,44.36125564575195,2.1271004676818848,-38.865020751953125,-55.04020309448242,-37.52373123168945,-7.154708385467529,20.03797149658203,-30.04434585571289,-74.52486419677734,12.51780891418457,-25.558597564697266,12.420551300048828,-14.41443920135498,15.705076217651367,39.82093811035156,39.07425308227539,-12.395709991455078,37.47281265258789,4.938496112823486,-39.63435363769531,-61.393348693847656,-61.25322723388672,-4.801124572753906,-63.70444869995117,-62.830135345458984,-8.647789001464844,-60.767601013183594,-69.28646087646484,-47.73139572143555,-25.79759979248047,-0.7004715204238892,-31.68039321899414,-55.044761657714844,-31.463024139404297,-1.7088338136672974,29.878908157348633,-7.605931758880615,-7.58522367477417,2.4576282501220703,-43.090972900390625,-27.801618576049805,15.211640357971191,57.891944885253906,37.163516998291016,19.110061645507812,-68.0042953491211,-76.31401824951172,-22.779476165771484,-2.152425765991211,8.27553939819336,-41.40388488769531,-53.96590805053711,46.63741683959961,-59.88593292236328,-57.845130920410156,-19.54380989074707,-10.331300735473633,-15.44948959350586,-12.876311302185059,-39.52973175048828,-25.208972930908203,-47.58209228515625,-65.85639953613281,-63.7796516418457,-48.53499984741211,21.234451293945312,-3.556683301925659,33.66624450683594,-7.820648670196533,-20.790203094482422,-7.7401251792907715,-38.93498992919922,34.66770553588867,-42.16176223754883,4.710529327392578,-7.862709045410156,13.382255554199219,-2.1248879432678223,-19.503734588623047,42.429569244384766,20.74338150024414,38.801795959472656,56.93735122680664,-11.885316848754883,-34.86268615722656,41.71333694458008,-1.3852781057357788,-58.49213790893555,35.87370681762695,-28.570293426513672,22.757686614990234,30.112443923950195,33.5319709777832,23.998764038085938,12.558856964111328,4.014015197753906,-20.32162857055664,-20.48855209350586,-20.922304153442383,-12.022345542907715,-13.680997848510742,52.30973434448242,51.80588150024414,50.99690246582031,50.64094161987305,36.073726654052734,38.154239654541016,39.33103561401367,39.29645919799805,39.948402404785156,40.8083610534668,40.822296142578125,41.55509948730469,42.476776123046875,43.843196868896484,43.65552520751953,3.353062391281128,4.136739253997803,4.714597225189209,5.404435634613037,7.367909908294678,8.642122268676758,9.290976524353027,9.977149963378906,10.182373046875,11.79103946685791,-25.346263885498047,-28.59435272216797,-28.70412254333496,-25.40424156188965,-25.493350982666016,-7.865067005157471,57.23606491088867,-8.989169120788574,-64.54275512695312,-65.37432098388672,-64.46128845214844,37.39708709716797,18.117525100708008,67.03276824951172,-26.20693588256836,-29.81205940246582,-56.874637603759766,-47.31365203857422,20.810155868530273,-47.72614288330078,-48.107425689697266,54.60997772216797,21.449907302856445,27.27747344970703,8.406068801879883,20.27685546875,1.1990121603012085,7.94812536239624,37.68073654174805,46.32361602783203,12.043874740600586,-48.911773681640625,28.87114906311035,54.78047561645508,54.823944091796875,5.111227989196777,-37.140018463134766,-37.167823791503906,-41.2034797668457,-23.79400062561035,-23.79326057434082,-7.593227863311768,-9.392049789428711,-28.478208541870117,-24.54877471923828,17.736207962036133,13.530831336975098,54.1173095703125,13.14812183380127,-0.4068535566329956,2.1450090408325195,18.569974899291992,29.33440399169922,-31.587820053100586,-37.23805618286133,12.366591453552246,10.255447387695312,0.7591052651405334,17.554731369018555,38.79920196533203,32.54676818847656,15.130599975585938,11.077372550964355,16.0446834564209,51.22882843017578,68.66749572753906,-56.53342056274414,-3.562246799468994,-2.7034807205200195,39.566368103027344,40.7365837097168,-5.1299729347229,30.599327087402344,-0.4564613401889801,25.123546600341797,-17.95412254333496,10.55821704864502,-24.432640075683594,58.36545944213867,58.41904067993164,51.28825378417969,20.260711669921875,13.692384719848633,-18.652286529541016,26.84552574157715,34.6894645690918,-53.931861877441406,-53.62065505981445,57.10485076904297,55.39342498779297,54.86797332763672,54.312774658203125,-5.876697540283203,-6.327136993408203,-6.92276668548584,-7.498751640319824,-7.837265968322754,-64.93537139892578,-64.90019226074219,-64.83177947998047,-64.7164535522461,-62.27226638793945,-61.568389892578125,-61.37629699707031,-59.7245979309082,-59.39744567871094,-68.70917510986328,-68.3873519897461,-68.22001647949219,-14.153438568115234,-15.897430419921875,-16.13248062133789,-19.35384178161621,44.202484130859375,10.716363906860352,-39.94746398925781,31.839588165283203,42.76443862915039,-1.8736648559570312,-57.68645477294922,27.002229690551758,-20.962169647216797,0.6160982847213745,-29.300485610961914,51.29296875,-49.56468200683594,-11.71522045135498,3.3512611389160156,-2.4426844120025635,33.61924362182617,-2.985323429107666,-57.21725845336914,17.9133358001709,-18.879074096679688,-10.548826217651367,59.667354583740234,59.301513671875,5.571849346160889,0.8275208473205566,-32.8758544921875,-32.87946701049805,35.5887451171875,44.02235794067383,-19.47852325439453,24.670568466186523,23.11615562438965,-30.645841598510742,-31.89913558959961,0.9300485253334045,-8.649328231811523,27.376401901245117,-33.81607437133789,-0.6670953631401062,-9.049873352050781,28.054706573486328,10.22021484375,-35.75206756591797,-34.58062744140625,-1.4781800508499146,22.07308006286621,22.01328468322754,-2.308990240097046,-2.8538782596588135,28.52094268798828,-23.16510581970215,-19.665803909301758,-19.45477867126465,-1.7896195650100708,41.12660598754883,-33.603519439697266,-37.657691955566406,-43.06505584716797,11.747114181518555,9.712043762207031,50.75266647338867,53.53759002685547,52.021488189697266,51.86627197265625,62.8497200012207,-7.558454513549805,28.012752532958984,-37.3106575012207,-2.180026054382324,41.99538040161133,42.06211853027344,-9.098864555358887,-11.70680046081543,-7.957324028015137,41.64015197753906,35.572418212890625,36.04165267944336,29.956117630004883,-28.752334594726562,25.74918556213379,18.279502868652344,-17.239009857177734,20.0455379486084,22.457536697387695,22.111257553100586,36.24213409423828,36.408905029296875,35.748619079589844,-43.03664016723633,-48.10826110839844,-47.581787109375,4.337637424468994,-26.260257720947266,-23.69919204711914,-23.661787033081055,-14.742053031921387,-18.52452850341797,-47.989410400390625,15.566866874694824,16.678979873657227,8.989120483398438,7.076103210449219,8.430869102478027,1.6741522550582886,2.582301378250122,-25.974544525146484,-25.901281356811523,-13.435537338256836,13.712296485900879,-73.6201400756836,-23.31646156311035,-0.3020779490470886,-74.61502075195312,-12.617631912231445,0.31437984108924866,18.87996482849121,-2.1469383239746094,7.7313642501831055,16.267263412475586,17.11642074584961,0.567789614200592,-20.984193801879883,-12.004552841186523,-35.106075286865234,34.37094497680664,38.10614776611328,38.10619354248047,41.550445556640625,-16.8592472076416,-4.982390403747559,-4.8272504806518555,-9.02248764038086,27.814088821411133,-7.869418144226074,-40.58026885986328,-38.49630355834961,-40.58728790283203,27.634498596191406,9.255683898925781,25.96112632751465,-4.654513835906982,-45.53263473510742,32.88141632080078,33.00339126586914,16.38987922668457,-48.20751953125,5.557917594909668,60.653018951416016,55.17411422729492,62.82657241821289,-25.086214065551758,-25.084842681884766,-19.11161994934082,51.21479034423828,4.585841655731201,-57.62187194824219,-11.346101760864258,-28.216278076171875,4.4890007972717285,3.4973201751708984,3.485414981842041,-44.619384765625,-45.22772979736328,-45.87604904174805,-46.562992095947266,-47.99246597290039,-48.824676513671875,-49.10894012451172,-50.998260498046875,-51.23151397705078,53.50193786621094,3.8637211322784424,3.8078196048736572,-38.94121551513672,5.677534103393555,5.807063102722168,-1.5734857320785522,-1.9195120334625244,-2.565169334411621,43.437870025634766,20.593828201293945,67.74290466308594,67.2646484375,66.6607666015625,66.2555923461914,65.52994537353516,64.95211029052734,64.24288940429688,62.96629333496094,62.332435607910156,61.66864013671875,60.906150817871094,60.29557800292969,59.69478225708008,59.47683334350586,-4.040638446807861,-39.87605285644531,-39.623416900634766,-39.42254638671875,23.275020599365234,23.23260498046875,22.643016815185547,-8.228458404541016,-7.617875576019287,5.424103260040283,-29.81085968017578,-29.929832458496094,-32.71051788330078,-32.55122375488281,-0.4782865643501282,1.595906376838684,2.512554883956909,3.7667250633239746,3.9839162826538086,4.451343536376953,16.546735763549805,16.643131256103516,16.98842430114746,17.472806930541992,1.6890462636947632,1.6263028383255005,0.2774948179721832,-10.42038631439209,-11.484166145324707,-11.895719528198242,-12.31575870513916,-13.077361106872559,-13.55587100982666,25.88954734802246,25.21662139892578,12.1697998046875,12.15000057220459,11.8599271774292,10.904572486877441,-33.8255500793457,-34.13026428222656,-34.7440071105957,-36.21649169921875,-4.358104705810547,-4.16738748550415,-3.9690332412719727,-3.828275680541992,-36.724178314208984,-36.930267333984375,-37.954193115234375,-38.88193130493164,-0.22890083491802216,-0.27670180797576904,26.993114471435547,26.910181045532227,26.715152740478516,26.006484985351562,25.55950355529785,-23.64419174194336,-23.896217346191406,-23.722246170043945,-23.47119903564453,-22.969070434570312,-22.511566162109375,-20.78800392150879,-20.46967887878418,-20.090545654296875,-20.6574764251709,-26.290515899658203,-25.793371200561523,-26.435062408447266,-25.812307357788086,-26.329103469848633,-25.90435218811035,-26.46381378173828,-25.53301239013672,-25.954755783081055,-25.48307991027832,29.159404754638672,28.421789169311523,27.310157775878906,26.496479034423828,25.706340789794922,25.65372085571289,25.03672981262207,-1.2645282745361328,-0.37396225333213806,-0.13432373106479645,11.232156753540039,11.633013725280762,12.013936996459961,12.374898910522461,40.88584518432617,-34.524559020996094,-35.86556625366211,-36.5166130065918,-37.038116455078125,-38.03596115112305,-41.68126678466797,-42.066593170166016,-42.93918228149414,14.083667755126953,14.010514259338379,13.223675727844238,13.020248413085938,13.798036575317383,14.132006645202637,15.156476974487305,50.96637725830078,51.37519836425781,51.85435104370117,52.56372833251953,53.08013916015625,54.20549774169922,54.299407958984375,54.338871002197266,53.91832733154297,50.322872161865234,49.94666290283203,49.81958770751953,-0.8528072834014893,-0.8540784120559692,29.423290252685547,29.304889678955078,-11.35137939453125,-11.358742713928223,-11.348592758178711,-11.17332935333252,42.57313537597656,42.82964324951172,-7.916677951812744,-8.143000602722168,-8.265021324157715,-8.025528907775879,-7.843112468719482,-7.506552696228027,-7.00856876373291,-6.537889003753662,-5.548681735992432,-4.4480204582214355,-4.203314781188965,-3.6530635356903076,39.72333526611328,39.421817779541016,39.14960479736328,35.43558883666992,34.778377532958984,33.94221115112305,32.10270309448242,31.374143600463867,30.97889518737793,26.352794647216797,25.648488998413086,25.337331771850586,-31.114778518676758,-24.394906997680664,-24.13812255859375,-22.45819854736328,-22.35099220275879,-21.71236228942871,-29.566967010498047,-29.705951690673828,-29.059314727783203,-29.051603317260742,-27.723474502563477,-27.18845558166504,-26.42620849609375,-26.217517852783203,-25.3582820892334,-25.21746826171875,-24.336992263793945,-23.581274032592773,-22.43607521057129,-21.456829071044922,-20.81539535522461,-20.16239356994629,-19.879487991333008,-19.16704750061035,-16.526290893554688,-17.253726959228516,-17.497163772583008,-18.32080078125,-18.910972595214844,-19.426647186279297,-20.006818771362305,-20.760902404785156,-21.42704963684082,-21.875568389892578,-22.424179077148438,-22.99152946472168,26.525074005126953,26.29991340637207,27.131771087646484,26.577083587646484,27.32634735107422,27.19200897216797,26.932506561279297,27.439640045166016,26.604639053344727,27.24013328552246,26.569438934326172,27.22330665588379,26.662860870361328,27.282756805419922,26.853418350219727,27.389188766479492,54.330204010009766,53.33462905883789,52.88023376464844,52.19544219970703,51.643157958984375,51.13419723510742,50.323570251464844,49.32817840576172,48.527259826660156,47.697113037109375,47.36252975463867,46.46788024902344,45.45010757446289,45.45035934448242,44.72247314453125,44.356040954589844,-17.494787216186523,-17.45193099975586,-17.788846969604492,-16.981258392333984,-17.590587615966797,-16.799320220947266,-16.53554344177246,-16.761070251464844,20.464183807373047,19.75733184814453,20.472810745239258,21.175189971923828,20.203689575195312,21.355268478393555,20.785337448120117,21.604015350341797,20.219444274902344,21.119966506958008,20.385967254638672,19.469879150390625,18.47514533996582,17.999969482421875,17.437694549560547,-13.31689739227295,-12.752409934997559,-12.463143348693848,-11.559234619140625,-11.203160285949707,-10.59032917022705,-9.263118743896484,-9.020987510681152,-8.013702392578125,-7.565337657928467,-6.852310657501221,-6.150327205657959,-5.71410608291626,33.683349609375,33.890995025634766,34.15177536010742,-43.81221389770508,-44.69499969482422,-45.05916213989258,-46.47841262817383,-46.93622970581055,-46.75199890136719,-46.08940124511719,-28.403308868408203,-28.343759536743164,-27.61865234375,3.2025339603424072,-12.83419418334961,-18.804407119750977,15.727149963378906,-18.75971031188965,-17.978530883789062,-17.601118087768555,-17.19091796875,-16.49581527709961,-15.858254432678223,7.946023941040039,9.330692291259766,9.1908540725708,10.212687492370605,11.000466346740723,10.233804702758789,9.606274604797363,10.68506145477295,10.152652740478516,9.686714172363281,10.070279121398926,9.833505630493164,2.2555742263793945,3.453359365463257,7.2268242835998535,7.361079692840576,7.244379043579102,-42.45464324951172,-42.289791107177734,-42.97605895996094,-42.319332122802734,-42.16790008544922,-42.483741760253906,15.992959022521973,16.141233444213867,16.739036560058594,17.007404327392578,30.278827667236328,30.016965866088867,29.959848403930664,31.086017608642578,32.07255172729492,32.7043571472168,33.32975769042969,33.36907958984375,13.725031852722168,19.06182098388672,18.962278366088867,-56.55451583862305,-56.58634567260742,-56.697303771972656,-56.737892150878906,-56.7108039855957,-56.842159271240234,-24.17510986328125,-24.263320922851562,-24.45893096923828,16.668996810913086,14.245339393615723,14.048659324645996,-0.6680290102958679,-10.518708229064941,-10.424492835998535,-74.43453979492188,-12.893257141113281,-27.731752395629883,-27.633249282836914,0.42043134570121765,-40.651859283447266,-41.018592834472656,-40.679386138916016,-41.37800598144531,-41.4135856628418,-40.90812683105469,-41.22978210449219,-42.14918899536133,5.793303966522217,6.0157246589660645,6.4198408126831055,6.977331638336182,7.331737041473389,7.454251289367676,15.770516395568848,17.8829402923584,18.52607536315918,18.73914909362793,18.753049850463867,10.626769065856934,11.420329093933105,-1.2711693048477173,-1.4111050367355347,-3.887340545654297,-4.533932685852051,-4.8172383308410645,-4.889942169189453,-3.610670804977417,-10.390774726867676,-34.068111419677734,-33.541133880615234,-32.629295349121094,-32.18250274658203,-20.992950439453125,-18.119291305541992,-17.856149673461914,34.85164260864258,35.09109115600586,34.80270004272461,34.627296447753906,39.17086410522461,39.96486282348633,40.431236267089844,6.614035606384277,-7.725103378295898,-7.809691429138184,-60.79835510253906,-60.43907928466797,-59.54969024658203,-59.06940460205078,-58.5336799621582,-58.308902740478516,-12.143509864807129,-11.365869522094727,-10.7727689743042,-8.89808177947998,-8.5706205368042,-3.484849214553833,29.582735061645508,28.928390502929688,28.687877655029297,28.886096954345703,-9.556161880493164,-10.029942512512207,-10.387436866760254,-42.34223556518555,-42.16082000732422,-41.873775482177734,-37.13405227661133,-36.686588287353516,-36.05156707763672,-35.2744026184082,15.205513954162598,15.818269729614258,15.462580680847168,16.32579803466797,15.798665046691895,16.512466430664062,16.087684631347656,9.200967788696289,1.7655094861984253,1.3960869312286377,-17.707130432128906,-17.924657821655273,25.394628524780273,25.570955276489258,26.44715118408203,26.35053825378418,25.754192352294922,25.731290817260742,-32.08346176147461,-32.439823150634766,-33.15013122558594,-21.744478225708008,-21.16802406311035,-21.207843780517578,-20.672338485717773,-18.80483055114746,-18.475500106811523,-4.809228420257568,-4.854724884033203,34.17177963256836,33.62831497192383,22.663898468017578,22.65494728088379,47.18113708496094,47.18594741821289,-40.555992126464844,-41.1893310546875,-41.159950256347656,-41.76658630371094,-42.78498840332031,-44.65474319458008,-46.760738372802734,-47.00761795043945,17.514141082763672,15.086663246154785,14.572188377380371,13.444828987121582,13.098861694335938,12.254342079162598,11.951790809631348,11.648329734802246,17.724365234375,17.739904403686523,-43.541568756103516,-43.869300842285156,-44.33381271362305,-44.59001159667969,-44.88083267211914,5.332000255584717,5.303675651550293,-5.082092761993408,-16.630895614624023,-16.936325073242188,-23.38396644592285,-23.83377456665039,-24.000896453857422,-24.123598098754883,-35.11640167236328,-35.703346252441406,-36.111148834228516,-36.3741340637207,-36.577178955078125,-36.50932693481445,-27.739086151123047,-27.62950325012207,-18.39684295654297,-17.97119140625,-17.50912094116211,-17.047504425048828,-16.265748977661133,-16.09627342224121,16.98310661315918,17.132423400878906,17.4394588470459,17.45720863342285,16.415559768676758,16.68802833557129,17.060976028442383,17.79845428466797,53.42407989501953,53.80678939819336,54.19052505493164,54.52906799316406,8.036901473999023,7.659372329711914,7.584200382232666,2.754920482635498,2.9952189922332764,3.259371757507324,3.994922637939453,4.655384063720703,4.691577434539795,5.183891296386719,5.245428085327148,5.312873363494873,-37.744014739990234,-37.91164779663086,-42.77518844604492,-42.9992561340332,-43.93916320800781,-46.0407829284668,-46.63068771362305,-47.061153411865234,-47.42542266845703,-59.611812591552734,-59.49626159667969,-59.4328498840332,-11.953058242797852,-11.681791305541992,-10.309965133666992,-10.256383895874023,4.484690189361572,-34.486289978027344,-32.85636520385742,-32.636573791503906,-32.404136657714844,-27.87317657470703,-27.91036605834961,-28.197265625,-28.243667602539062,32.33803939819336,31.80057716369629,31.297321319580078,30.7348690032959,26.18501853942871,24.969797134399414,24.70319938659668,3.0081872940063477,5.184122085571289,5.440988063812256,-40.87147521972656,-40.91446304321289,-1.6769708395004272,-0.9328268766403198,-0.4226139783859253,-0.06761195510625839,57.01765441894531,57.67997741699219,58.29647445678711,58.93584442138672,59.42528533935547,10.232874870300293,10.141695976257324,-9.885031700134277,-9.907069206237793,37.651763916015625,37.10115432739258,37.2662353515625,36.69113540649414,35.39439010620117,35.39863204956055,-12.216268539428711,-10.794696807861328,-10.32935905456543,-9.975701332092285,25.508766174316406,25.630695343017578,25.740283966064453,25.122894287109375,25.174415588378906,-39.15239715576172,-39.717525482177734,-40.65889358520508,-40.627506256103516,-40.85117721557617,36.19032287597656,40.501914978027344,40.598854064941406,66.81379699707031,66.85719299316406,66.90914916992188,66.98158264160156,2.860457181930542,3.1356542110443115,3.6223690509796143,3.4811270236968994]},\"selected\":{\"id\":\"1333\",\"type\":\"Selection\"},\"selection_policy\":{\"id\":\"1334\",\"type\":\"UnionRenderers\"}},\"id\":\"1309\",\"type\":\"ColumnDataSource\"},{\"attributes\":{},\"id\":\"1333\",\"type\":\"Selection\"},{\"attributes\":{},\"id\":\"1334\",\"type\":\"UnionRenderers\"},{\"attributes\":{\"data_source\":{\"id\":\"1309\",\"type\":\"ColumnDataSource\"},\"glyph\":{\"id\":\"1311\",\"type\":\"Scatter\"},\"hover_glyph\":null,\"muted_glyph\":null,\"nonselection_glyph\":{\"id\":\"1312\",\"type\":\"Scatter\"},\"selection_glyph\":null,\"view\":{\"id\":\"1314\",\"type\":\"CDSView\"}},\"id\":\"1313\",\"type\":\"GlyphRenderer\"},{\"attributes\":{\"overlay\":{\"id\":\"1339\",\"type\":\"BoxAnnotation\"}},\"id\":\"1296\",\"type\":\"BoxZoomTool\"},{\"attributes\":{\"bottom_units\":\"screen\",\"fill_alpha\":{\"value\":0.5},\"fill_color\":{\"value\":\"lightgrey\"},\"left_units\":\"screen\",\"level\":\"overlay\",\"line_alpha\":{\"value\":1.0},\"line_color\":{\"value\":\"black\"},\"line_dash\":[4,4],\"line_width\":{\"value\":2},\"render_mode\":\"css\",\"right_units\":\"screen\",\"top_units\":\"screen\"},\"id\":\"1339\",\"type\":\"BoxAnnotation\"},{\"attributes\":{},\"id\":\"1280\",\"type\":\"LinearScale\"},{\"attributes\":{\"data_source\":{\"id\":\"1321\",\"type\":\"ColumnDataSource\"},\"glyph\":{\"id\":\"1323\",\"type\":\"Scatter\"},\"hover_glyph\":null,\"muted_glyph\":null,\"nonselection_glyph\":{\"id\":\"1324\",\"type\":\"Scatter\"},\"selection_glyph\":null,\"view\":{\"id\":\"1326\",\"type\":\"CDSView\"}},\"id\":\"1325\",\"type\":\"GlyphRenderer\"},{\"attributes\":{\"fill_alpha\":{\"value\":0.3},\"line_alpha\":{\"value\":0.3},\"line_color\":{\"value\":\"white\"},\"size\":{\"units\":\"screen\",\"value\":6},\"x\":{\"field\":\"x\"},\"y\":{\"field\":\"y\"}},\"id\":\"1311\",\"type\":\"Scatter\"},{\"attributes\":{\"data_source\":{\"id\":\"1315\",\"type\":\"ColumnDataSource\"},\"glyph\":{\"id\":\"1317\",\"type\":\"Scatter\"},\"hover_glyph\":null,\"muted_glyph\":null,\"nonselection_glyph\":{\"id\":\"1318\",\"type\":\"Scatter\"},\"selection_glyph\":null,\"view\":{\"id\":\"1320\",\"type\":\"CDSView\"}},\"id\":\"1319\",\"type\":\"GlyphRenderer\"},{\"attributes\":{},\"id\":\"1297\",\"type\":\"SaveTool\"},{\"attributes\":{\"active_drag\":\"auto\",\"active_inspect\":\"auto\",\"active_multi\":null,\"active_scroll\":\"auto\",\"active_tap\":\"auto\",\"tools\":[{\"id\":\"1294\",\"type\":\"PanTool\"},{\"id\":\"1295\",\"type\":\"WheelZoomTool\"},{\"id\":\"1296\",\"type\":\"BoxZoomTool\"},{\"id\":\"1297\",\"type\":\"SaveTool\"},{\"id\":\"1298\",\"type\":\"ResetTool\"},{\"id\":\"1299\",\"type\":\"HelpTool\"},{\"id\":\"1300\",\"type\":\"HoverTool\"}]},\"id\":\"1301\",\"type\":\"Toolbar\"},{\"attributes\":{\"source\":{\"id\":\"1321\",\"type\":\"ColumnDataSource\"}},\"id\":\"1326\",\"type\":\"CDSView\"},{\"attributes\":{},\"id\":\"1290\",\"type\":\"BasicTicker\"},{\"attributes\":{},\"id\":\"1336\",\"type\":\"UnionRenderers\"},{\"attributes\":{\"fill_alpha\":{\"value\":0.8},\"fill_color\":{\"value\":\"blue\"},\"line_alpha\":{\"value\":0.8},\"line_color\":{\"value\":\"white\"},\"size\":{\"units\":\"screen\",\"value\":6},\"x\":{\"field\":\"x\"},\"y\":{\"field\":\"y\"}},\"id\":\"1317\",\"type\":\"Scatter\"},{\"attributes\":{\"callback\":null,\"data\":{\"desc\":[\"\\uae40\\uc815\\ud0dc\",\"\\ubc15\\uc2b9\\uc21c\",\"\\uc591\\uc544\\uce58\",\"\\uc774\\uc7a5\\uc6d0\",\"\\uc870\\ud638\\uc601\",\"\\ucd5c\\uc9c4\\ud6c8\",\"\\ucd5c\\ubcd1\\uc77c\",\"\\ud604\\ubc15\"],\"x\":[-25.856246948242188,12.920585632324219,20.153425216674805,35.73804473876953,22.023046493530273,21.27520179748535,-26.93804168701172,43.38957214355469],\"y\":[4.081684589385986,6.756471157073975,-16.116323471069336,-15.674254417419434,13.988201141357422,1.4223933219909668,3.0176048278808594,-18.99907684326172]},\"selected\":{\"id\":\"1337\",\"type\":\"Selection\"},\"selection_policy\":{\"id\":\"1338\",\"type\":\"UnionRenderers\"}},\"id\":\"1321\",\"type\":\"ColumnDataSource\"},{\"attributes\":{\"grid_line_color\":null,\"ticker\":{\"id\":\"1285\",\"type\":\"BasicTicker\"}},\"id\":\"1288\",\"type\":\"Grid\"},{\"attributes\":{\"formatter\":{\"id\":\"1332\",\"type\":\"BasicTickFormatter\"},\"ticker\":{\"id\":\"1285\",\"type\":\"BasicTicker\"}},\"id\":\"1284\",\"type\":\"LinearAxis\"},{\"attributes\":{\"source\":{\"id\":\"1309\",\"type\":\"ColumnDataSource\"}},\"id\":\"1314\",\"type\":\"CDSView\"},{\"attributes\":{\"callback\":null},\"id\":\"1278\",\"type\":\"DataRange1d\"},{\"attributes\":{},\"id\":\"1285\",\"type\":\"BasicTicker\"},{\"attributes\":{},\"id\":\"1332\",\"type\":\"BasicTickFormatter\"},{\"attributes\":{},\"id\":\"1298\",\"type\":\"ResetTool\"},{\"attributes\":{},\"id\":\"1282\",\"type\":\"LinearScale\"},{\"attributes\":{\"dimension\":1,\"grid_line_color\":null,\"ticker\":{\"id\":\"1290\",\"type\":\"BasicTicker\"}},\"id\":\"1293\",\"type\":\"Grid\"},{\"attributes\":{},\"id\":\"1337\",\"type\":\"Selection\"},{\"attributes\":{\"callback\":null},\"id\":\"1276\",\"type\":\"DataRange1d\"},{\"attributes\":{\"callback\":null,\"tooltips\":[[\"(x,y)\",\"($x, $y)\"],[\"entity\",\"@desc\"]]},\"id\":\"1300\",\"type\":\"HoverTool\"}],\"root_ids\":[\"1273\"]},\"title\":\"Bokeh Application\",\"version\":\"1.4.0\"}};\n",
       "  var render_items = [{\"docid\":\"89bd5bbe-4601-4eff-bc09-40297e1d8ff0\",\"roots\":{\"1273\":\"bd82d111-7b58-4921-b046-2c14196a7a83\"}}];\n",
       "  root.Bokeh.embed.embed_items_notebook(docs_json, render_items);\n",
       "\n",
       "  }\n",
       "  if (root.Bokeh !== undefined) {\n",
       "    embed_document(root);\n",
       "  } else {\n",
       "    var attempts = 0;\n",
       "    var timer = setInterval(function(root) {\n",
       "      if (root.Bokeh !== undefined) {\n",
       "        clearInterval(timer);\n",
       "        embed_document(root);\n",
       "      } else {\n",
       "        attempts++;\n",
       "        if (attempts > 100) {\n",
       "          clearInterval(timer);\n",
       "          console.log(\"Bokeh: ERROR: Unable to run BokehJS code because BokehJS library is missing\");\n",
       "        }\n",
       "      }\n",
       "    }, 10, root)\n",
       "  }\n",
       "})(window);"
      ],
      "application/vnd.bokehjs_exec.v0+json": ""
     },
     "metadata": {
      "application/vnd.bokehjs_exec.v0+json": {
       "id": "1273"
      }
     },
     "output_type": "display_data"
    }
   ],
   "source": [
    "# prepare visualization\n",
    "import numpy as np\n",
    "from bokeh.plotting import figure, show, ColumnDataSource\n",
    "from bokeh.plotting import output_notebook, output_file, reset_output\n",
    "\n",
    "def initialize_figure(title):\n",
    "    if title is None:\n",
    "        title = 'Untitled'\n",
    "\n",
    "    TOOLTIPS = [\n",
    "        (\"(x,y)\", \"($x, $y)\"),\n",
    "        (\"entity\", \"@desc\"),\n",
    "    ]\n",
    "\n",
    "    p = figure(title=title, tooltips=TOOLTIPS)\n",
    "    p.grid.grid_line_color = None\n",
    "    p.background_fill_color = \"black\"\n",
    "    p.width = 600\n",
    "    p.height = 600\n",
    "    return p\n",
    "\n",
    "def mtext(p, x, y, text, text_color, text_font_size, text_alpha):\n",
    "    p.text(x, y, text=[text], text_color=text_color, text_align=\"center\",\n",
    "           text_font_size=text_font_size, text_alpha=text_alpha)\n",
    "\n",
    "def annotation(p, coordinates, idx_to_text, text_shift=0.05,\n",
    "    text_font_size='15pt', text_color=\"firebrick\", text_alpha=1.0):\n",
    "\n",
    "    for idx, text in enumerate(idx_to_text):\n",
    "        if not text:\n",
    "            continue\n",
    "        x_ = coordinates[idx,0] + text_shift\n",
    "        y_ = coordinates[idx,1] + text_shift\n",
    "        text = idx_to_text[idx]\n",
    "        mtext(p, x_, y_, text, text_color, text_font_size, text_alpha)\n",
    "\n",
    "def draw(coordinates, idx_to_text, p=None, title=None, marker=\"circle\",\n",
    "         marker_color='gray', marker_size=5, marker_alpha=0.5):\n",
    "    # prepare figure\n",
    "    if p is None:\n",
    "        p = initialize_figure(title)\n",
    "\n",
    "    # prepare data source\n",
    "    source = ColumnDataSource(data=dict(\n",
    "        x = coordinates[:,0].tolist(),\n",
    "        y = coordinates[:,1].tolist(),\n",
    "        desc = idx_to_text\n",
    "    ))\n",
    "\n",
    "    # scatter plot\n",
    "    p.scatter('x', 'y', marker=marker, size=marker_size, line_color= 'white',\n",
    "              fill_color= marker_color, alpha=marker_alpha, source=source)\n",
    "    return p\n",
    "\n",
    "p = draw(z_wv, idx_to_vocab, marker_size=6, marker_alpha=0.3, marker_color='gray',\n",
    "         title='Joint visualization of words and docs t_sne')\n",
    "p = draw(z_dv, idx_to_doc, p=p, marker_size=6, marker_alpha=0.8, marker_color='blue')\n",
    "p = draw(z_av, artist, p=p, marker_size=7, marker_alpha=1, marker_color='red')\n",
    "\n",
    "reset_output()\n",
    "output_notebook()\n",
    "output_file('joint_visualization_window=10_tsne.html')\n",
    "\n",
    "p.height = 1000\n",
    "p.width = 1500\n",
    "show(p)"
   ]
  },
  {
   "cell_type": "code",
   "execution_count": 151,
   "metadata": {},
   "outputs": [
    {
     "data": {
      "text/html": [
       "<div>\n",
       "<style scoped>\n",
       "    .dataframe tbody tr th:only-of-type {\n",
       "        vertical-align: middle;\n",
       "    }\n",
       "\n",
       "    .dataframe tbody tr th {\n",
       "        vertical-align: top;\n",
       "    }\n",
       "\n",
       "    .dataframe thead th {\n",
       "        text-align: right;\n",
       "    }\n",
       "</style>\n",
       "<table border=\"1\" class=\"dataframe\">\n",
       "  <thead>\n",
       "    <tr style=\"text-align: right;\">\n",
       "      <th></th>\n",
       "      <th>key</th>\n",
       "      <th>id</th>\n",
       "      <th>x</th>\n",
       "      <th>y</th>\n",
       "      <th>Group</th>\n",
       "      <th>attritube</th>\n",
       "    </tr>\n",
       "  </thead>\n",
       "  <tbody>\n",
       "    <tr>\n",
       "      <th>0</th>\n",
       "      <td>Artist_김정태</td>\n",
       "      <td>김정태</td>\n",
       "      <td>-25.856247</td>\n",
       "      <td>4.081685</td>\n",
       "      <td>artist</td>\n",
       "      <td>{'id': '김정태', 'project': ['팀잇', '어디가 프로젝트'], '...</td>\n",
       "    </tr>\n",
       "    <tr>\n",
       "      <th>1</th>\n",
       "      <td>Artist_박승순</td>\n",
       "      <td>박승순</td>\n",
       "      <td>12.920586</td>\n",
       "      <td>6.756471</td>\n",
       "      <td>artist</td>\n",
       "      <td>{'id': '박승순', 'project': ['모멘텀', '인터미디어 모빌리티 R...</td>\n",
       "    </tr>\n",
       "    <tr>\n",
       "      <th>2</th>\n",
       "      <td>Artist_양아치</td>\n",
       "      <td>양아치</td>\n",
       "      <td>20.153425</td>\n",
       "      <td>-16.116323</td>\n",
       "      <td>artist</td>\n",
       "      <td>{'id': '양아치', 'project': ['Screen Screen Scree...</td>\n",
       "    </tr>\n",
       "    <tr>\n",
       "      <th>3</th>\n",
       "      <td>Artist_이장원</td>\n",
       "      <td>이장원</td>\n",
       "      <td>35.738045</td>\n",
       "      <td>-15.674254</td>\n",
       "      <td>artist</td>\n",
       "      <td>{'id': '이장원', 'project': ['아르키메데스 구멍 - 149,597...</td>\n",
       "    </tr>\n",
       "    <tr>\n",
       "      <th>4</th>\n",
       "      <td>Artist_조호영</td>\n",
       "      <td>조호영</td>\n",
       "      <td>22.023046</td>\n",
       "      <td>13.988201</td>\n",
       "      <td>artist</td>\n",
       "      <td>{'id': '조호영', 'project': ['랜드스케이프데이터프로젝트', '엠알...</td>\n",
       "    </tr>\n",
       "  </tbody>\n",
       "</table>\n",
       "</div>"
      ],
      "text/plain": [
       "          key   id          x          y   Group  \\\n",
       "0  Artist_김정태  김정태 -25.856247   4.081685  artist   \n",
       "1  Artist_박승순  박승순  12.920586   6.756471  artist   \n",
       "2  Artist_양아치  양아치  20.153425 -16.116323  artist   \n",
       "3  Artist_이장원  이장원  35.738045 -15.674254  artist   \n",
       "4  Artist_조호영  조호영  22.023046  13.988201  artist   \n",
       "\n",
       "                                           attritube  \n",
       "0  {'id': '김정태', 'project': ['팀잇', '어디가 프로젝트'], '...  \n",
       "1  {'id': '박승순', 'project': ['모멘텀', '인터미디어 모빌리티 R...  \n",
       "2  {'id': '양아치', 'project': ['Screen Screen Scree...  \n",
       "3  {'id': '이장원', 'project': ['아르키메데스 구멍 - 149,597...  \n",
       "4  {'id': '조호영', 'project': ['랜드스케이프데이터프로젝트', '엠알...  "
      ]
     },
     "execution_count": 151,
     "metadata": {},
     "output_type": "execute_result"
    }
   ],
   "source": [
    "total.head()"
   ]
  },
  {
   "cell_type": "code",
   "execution_count": 152,
   "metadata": {},
   "outputs": [
    {
     "data": {
      "text/plain": [
       "1154"
      ]
     },
     "execution_count": 152,
     "metadata": {},
     "output_type": "execute_result"
    }
   ],
   "source": [
    "len(total.index)"
   ]
  },
  {
   "cell_type": "code",
   "execution_count": null,
   "metadata": {},
   "outputs": [],
   "source": []
  },
  {
   "cell_type": "code",
   "execution_count": 153,
   "metadata": {},
   "outputs": [
    {
     "data": {
      "text/html": [
       "<div>\n",
       "<style scoped>\n",
       "    .dataframe tbody tr th:only-of-type {\n",
       "        vertical-align: middle;\n",
       "    }\n",
       "\n",
       "    .dataframe tbody tr th {\n",
       "        vertical-align: top;\n",
       "    }\n",
       "\n",
       "    .dataframe thead th {\n",
       "        text-align: right;\n",
       "    }\n",
       "</style>\n",
       "<table border=\"1\" class=\"dataframe\">\n",
       "  <thead>\n",
       "    <tr style=\"text-align: right;\">\n",
       "      <th></th>\n",
       "      <th>프로젝트명</th>\n",
       "      <th>작품명</th>\n",
       "      <th>년도</th>\n",
       "      <th>작가명</th>\n",
       "      <th>키워드</th>\n",
       "      <th>내부파트너</th>\n",
       "      <th>외부파트너</th>\n",
       "      <th>매체</th>\n",
       "    </tr>\n",
       "  </thead>\n",
       "  <tbody>\n",
       "    <tr>\n",
       "      <th>0</th>\n",
       "      <td>팀잇</td>\n",
       "      <td>&lt;플레이팅해보기&gt;</td>\n",
       "      <td>2018</td>\n",
       "      <td>김정태</td>\n",
       "      <td>#디지털 소재 #픽셀 #변형 #VR아트</td>\n",
       "      <td>김정태, 최영준</td>\n",
       "      <td>NaN</td>\n",
       "      <td>영상 및 텍스트</td>\n",
       "    </tr>\n",
       "  </tbody>\n",
       "</table>\n",
       "</div>"
      ],
      "text/plain": [
       "  프로젝트명        작품명    년도  작가명                    키워드     내부파트너 외부파트너        매체\n",
       "0    팀잇  <플레이팅해보기>  2018  김정태  #디지털 소재 #픽셀 #변형 #VR아트  김정태, 최영준   NaN  영상 및 텍스트"
      ]
     },
     "execution_count": 153,
     "metadata": {},
     "output_type": "execute_result"
    }
   ],
   "source": [
    "df[df['프로젝트명'] == '팀잇'][['프로젝트명','작품명','년도','작가명','키워드','내부파트너','외부파트너','매체']]"
   ]
  },
  {
   "cell_type": "code",
   "execution_count": null,
   "metadata": {},
   "outputs": [],
   "source": []
  },
  {
   "cell_type": "code",
   "execution_count": null,
   "metadata": {},
   "outputs": [],
   "source": []
  },
  {
   "cell_type": "code",
   "execution_count": null,
   "metadata": {},
   "outputs": [],
   "source": []
  },
  {
   "cell_type": "code",
   "execution_count": null,
   "metadata": {},
   "outputs": [],
   "source": [
    "\n",
    "\n",
    "\n"
   ]
  }
 ],
 "metadata": {
  "kernelspec": {
   "display_name": "python3.7",
   "language": "python",
   "name": "python3.7"
  },
  "language_info": {
   "codemirror_mode": {
    "name": "ipython",
    "version": 3
   },
   "file_extension": ".py",
   "mimetype": "text/x-python",
   "name": "python",
   "nbconvert_exporter": "python",
   "pygments_lexer": "ipython3",
   "version": "3.7.4"
  }
 },
 "nbformat": 4,
 "nbformat_minor": 2
}
