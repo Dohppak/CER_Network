{
 "cells": [
  {
   "cell_type": "code",
   "execution_count": 130,
   "metadata": {},
   "outputs": [
    {
     "name": "stdout",
     "output_type": "stream",
     "text": [
      "gensim  version = 3.8.1\n",
      "sklearn version = 0.21.2\n"
     ]
    }
   ],
   "source": [
    "import gensim\n",
    "import sklearn\n",
    "import numpy as np\n",
    "import pandas as pd\n",
    "from gensim.models import Doc2Vec\n",
    "from gensim.models.doc2vec import TaggedDocument\n",
    "from random import shuffle\n",
    "import pandas as pd\n",
    "from konlpy.tag import Okt\n",
    "print('gensim  version = {}'.format(gensim.__version__))\n",
    "print('sklearn version = {}'.format(sklearn.__version__))"
   ]
  },
  {
   "cell_type": "code",
   "execution_count": 133,
   "metadata": {},
   "outputs": [],
   "source": [
    "dataset_path = './dataset/kor_data.csv'\n",
    "remove_item = ('','Conjunction','Verb','Determiner', 'Exclamation','Josa','Punctuation','Suffix', 'Foreign', 'Number','Adverb')\n",
    "pos_tagger = Okt()"
   ]
  },
  {
   "cell_type": "code",
   "execution_count": 134,
   "metadata": {
    "scrolled": false
   },
   "outputs": [],
   "source": [
    "df = pd.read_csv(dataset_path)"
   ]
  },
  {
   "cell_type": "code",
   "execution_count": 136,
   "metadata": {},
   "outputs": [
    {
     "data": {
      "text/plain": [
       "\"['발명품', '인류', '개념', '오류', '수정', '수명', '연장', '더', '효과', '작동', '위해', '핵심', '정의', '그', '보완', '증명', '반복', '일부', '연출', '거나', '이상', '이어도', '때', '그렇다', '더욱', '효과', '수도', '있다', '인류', '개념', '호출', '인류', '문자', '자체', '한계', '알', '수', '있다', '더', '이상', '인류', '장치', '수명', '연장', '힘들다', '인류', '끊임없다', '인류', '고유', '특성', '인류', '특성', '안', '포함', '부류', '형성', '권한', '주', '려고', '노력', '인류', '공', '동', '권력', '호출', '무적', '권능', '부여', '적', '없다', '허구', '로부터', '생산', '권능', '점', '발견', '때', '갱신', '점', '위해', '거듭', '확장', '사실', '그', '자체', '본질', '허구', '임', '역설', '것', '인류', '개념', '공개', '실패하다', '것', '그', '동시', '한편', '유', '대감', '무장', '인류', '장치', '보호', '아래', '종', '정체', '성과', '활동', '유지', '생물', '집단', '그', '개념', '장치', '실패', '앞서', '인류', '형성', '보편', '이미지', '집단', '속', '개인', '자존', '간극', '더', '강하다', '방향', '있다', '자신', '오류', '결여', '극복', '위', '기술', '수단', '로부터', '인류', '더', '이상', '자신', '지시', '자신', '모습', '그대로', '있다', '수', '없다', '그', '동시', '한편', '인간', '파편', '복제', '지속', '증식', '인류', '신체', '이론', '무한', '증식', '수', '있다', '가능성', '획득', '개인', '아니다', '유닛', '존재', '나라고', '개인', '미래', '원본', '데이터', '로서', '보존', '가치', '외', '무엇', '수', '있다', '고민', '추출', '업로드', '이후', '그렇다', '선택', '못', '화석', '삶', '어떻다', '대비', '수', '있다', '세계', '게임', '미래', '완전하다', '게임', '세계', '일', '것']\""
      ]
     },
     "execution_count": 136,
     "metadata": {},
     "output_type": "execute_result"
    }
   ],
   "source": [
    "df['text'][0]"
   ]
  },
  {
   "cell_type": "code",
   "execution_count": 137,
   "metadata": {},
   "outputs": [],
   "source": [
    "def tokenize(doc):\n",
    "    return ['/'.join(t) for t in pos_tagger.pos(doc, norm=True, stem=True)]\n",
    "\n",
    "def changeTokenize(dataset_path, remove_item):\n",
    "    df = pd.read_csv(dataset_path)\n",
    "    docs = list(df['디스크립션'])\n",
    "    train_docs = [tokenize(row) for row in docs]\n",
    "    trained_docs_list = []\n",
    "    for item in train_docs:\n",
    "        dummy = []\n",
    "        for indi in item:\n",
    "            if (indi.split('/')[1] not in remove_item):\n",
    "                dummy.append(indi.split('/')[0])\n",
    "        trained_docs_list.append(dummy)\n",
    "    \n",
    "    df['text'] = trained_docs_list\n",
    "    return df\n",
    "df = changeTokenize(dataset_path, remove_item)"
   ]
  },
  {
   "cell_type": "code",
   "execution_count": 138,
   "metadata": {},
   "outputs": [
    {
     "data": {
      "text/plain": [
       "['발명품',\n",
       " '인류',\n",
       " '개념',\n",
       " '오류',\n",
       " '수정',\n",
       " '수명',\n",
       " '연장',\n",
       " '더',\n",
       " '효과',\n",
       " '작동',\n",
       " '위해',\n",
       " '핵심',\n",
       " '정의',\n",
       " '그',\n",
       " '보완',\n",
       " '증명',\n",
       " '반복',\n",
       " '일부',\n",
       " '연출',\n",
       " '거나',\n",
       " '이상',\n",
       " '이어도',\n",
       " '때',\n",
       " '그렇다',\n",
       " '더욱',\n",
       " '효과',\n",
       " '수도',\n",
       " '있다',\n",
       " '인류',\n",
       " '개념',\n",
       " '호출',\n",
       " '인류',\n",
       " '문자',\n",
       " '자체',\n",
       " '한계',\n",
       " '알',\n",
       " '수',\n",
       " '있다',\n",
       " '더',\n",
       " '이상',\n",
       " '인류',\n",
       " '장치',\n",
       " '수명',\n",
       " '연장',\n",
       " '힘들다',\n",
       " '인류',\n",
       " '끊임없다',\n",
       " '인류',\n",
       " '고유',\n",
       " '특성',\n",
       " '인류',\n",
       " '특성',\n",
       " '안',\n",
       " '포함',\n",
       " '부류',\n",
       " '형성',\n",
       " '권한',\n",
       " '주',\n",
       " '려고',\n",
       " '노력',\n",
       " '인류',\n",
       " '공',\n",
       " '동',\n",
       " '권력',\n",
       " '호출',\n",
       " '무적',\n",
       " '권능',\n",
       " '부여',\n",
       " '적',\n",
       " '없다',\n",
       " '허구',\n",
       " '로부터',\n",
       " '생산',\n",
       " '권능',\n",
       " '점',\n",
       " '발견',\n",
       " '때',\n",
       " '갱신',\n",
       " '점',\n",
       " '위해',\n",
       " '거듭',\n",
       " '확장',\n",
       " '사실',\n",
       " '그',\n",
       " '자체',\n",
       " '본질',\n",
       " '허구',\n",
       " '임',\n",
       " '역설',\n",
       " '것',\n",
       " '인류',\n",
       " '개념',\n",
       " '공개',\n",
       " '실패하다',\n",
       " '것',\n",
       " '그',\n",
       " '동시',\n",
       " '한편',\n",
       " '유',\n",
       " '대감',\n",
       " '무장',\n",
       " '인류',\n",
       " '장치',\n",
       " '보호',\n",
       " '아래',\n",
       " '종',\n",
       " '정체',\n",
       " '성과',\n",
       " '활동',\n",
       " '유지',\n",
       " '생물',\n",
       " '집단',\n",
       " '그',\n",
       " '개념',\n",
       " '장치',\n",
       " '실패',\n",
       " '앞서',\n",
       " '인류',\n",
       " '형성',\n",
       " '보편',\n",
       " '이미지',\n",
       " '집단',\n",
       " '속',\n",
       " '개인',\n",
       " '자존',\n",
       " '간극',\n",
       " '더',\n",
       " '강하다',\n",
       " '방향',\n",
       " '있다',\n",
       " '자신',\n",
       " '오류',\n",
       " '결여',\n",
       " '극복',\n",
       " '위',\n",
       " '기술',\n",
       " '수단',\n",
       " '로부터',\n",
       " '인류',\n",
       " '더',\n",
       " '이상',\n",
       " '자신',\n",
       " '지시',\n",
       " '자신',\n",
       " '모습',\n",
       " '그대로',\n",
       " '있다',\n",
       " '수',\n",
       " '없다',\n",
       " '그',\n",
       " '동시',\n",
       " '한편',\n",
       " '인간',\n",
       " '파편',\n",
       " '복제',\n",
       " '지속',\n",
       " '증식',\n",
       " '인류',\n",
       " '신체',\n",
       " '이론',\n",
       " '무한',\n",
       " '증식',\n",
       " '수',\n",
       " '있다',\n",
       " '가능성',\n",
       " '획득',\n",
       " '개인',\n",
       " '아니다',\n",
       " '유닛',\n",
       " '존재',\n",
       " '나라고',\n",
       " '개인',\n",
       " '미래',\n",
       " '원본',\n",
       " '데이터',\n",
       " '로서',\n",
       " '보존',\n",
       " '가치',\n",
       " '외',\n",
       " '무엇',\n",
       " '수',\n",
       " '있다',\n",
       " '고민',\n",
       " '추출',\n",
       " '업로드',\n",
       " '이후',\n",
       " '그렇다',\n",
       " '선택',\n",
       " '못',\n",
       " '화석',\n",
       " '삶',\n",
       " '어떻다',\n",
       " '대비',\n",
       " '수',\n",
       " '있다',\n",
       " '세계',\n",
       " '게임',\n",
       " '미래',\n",
       " '완전하다',\n",
       " '게임',\n",
       " '세계',\n",
       " '일',\n",
       " '것']"
      ]
     },
     "execution_count": 138,
     "metadata": {},
     "output_type": "execute_result"
    }
   ],
   "source": [
    "df['text'][0]"
   ]
  },
  {
   "cell_type": "code",
   "execution_count": 98,
   "metadata": {},
   "outputs": [],
   "source": [
    "zipdata = zip(df['프로젝트명'],df['text'])"
   ]
  },
  {
   "cell_type": "code",
   "execution_count": 99,
   "metadata": {},
   "outputs": [],
   "source": [
    "tagged_data = [TaggedDocument(words=_d, tags=[str(i)]) for i, _d in zipdata]"
   ]
  },
  {
   "cell_type": "code",
   "execution_count": 100,
   "metadata": {},
   "outputs": [],
   "source": [
    "model = gensim.models.Doc2Vec(vector_size=100, window=10, min_count=1, workers=8, alpha=0.025, min_alpha=0.015, \n",
    "                              epochs=500)\n",
    "#sample=1e-4, negative=5\n",
    "#shuffling is better (ot needed at each trianing epoch\n",
    "shuffle(tagged_data)\n",
    "#Build vocabulary from a sequence of sentences \n",
    "model.build_vocab(tagged_data)\n",
    "#Update the model’s neural weights from a sequence of sentences\n",
    "model.train(tagged_data, epochs=model.epochs, total_examples=model.corpus_count)"
   ]
  },
  {
   "cell_type": "code",
   "execution_count": 101,
   "metadata": {},
   "outputs": [],
   "source": [
    "import pickle\n",
    "# with open('model.pkl', 'wb') as f:\n",
    "#     pickle.dump(model, f)\n",
    "with open('model.pkl', 'rb') as f:\n",
    "    model = pickle.load(f)"
   ]
  },
  {
   "cell_type": "markdown",
   "metadata": {},
   "source": [
    "# Json"
   ]
  },
  {
   "cell_type": "code",
   "execution_count": 9,
   "metadata": {},
   "outputs": [
    {
     "data": {
      "text/plain": [
       "['김정태', '박승순', '양아치', '이장원', '조호영', '최진훈', '최병일', '현박']"
      ]
     },
     "execution_count": 9,
     "metadata": {},
     "output_type": "execute_result"
    }
   ],
   "source": [
    "artist = list(df['작가명'].unique())\n",
    "artist"
   ]
  },
  {
   "cell_type": "code",
   "execution_count": 10,
   "metadata": {},
   "outputs": [],
   "source": [
    "def artist_vec(artist, df, dv, wv, idx_to_doc, idx_to_vocab, tagged_data):\n",
    "    project = pd.DataFrame(dv, index=idx_to_doc)\n",
    "    word = pd.DataFrame(wv, index=idx_to_vocab)\n",
    "    allvector = []\n",
    "    for i in list(df[df['작가명'] == artist]['프로젝트명']):\n",
    "        allvector.append(project.loc[str(i)])\n",
    "#         for word_vec, name in tagged_data:\n",
    "#             if i == name[0]:\n",
    "#                 for j in word_vec:\n",
    "#                     allvector.append(word.loc[str(j)])\n",
    "    np_all = np.array(allvector)\n",
    "    artist_vec = np.mean(np_all, axis=0)\n",
    "    return artist_vec"
   ]
  },
  {
   "cell_type": "code",
   "execution_count": 11,
   "metadata": {},
   "outputs": [],
   "source": [
    "wv = model.wv.vectors\n",
    "dv = model.docvecs.vectors_docs\n",
    "\n",
    "idx_to_doc = model.docvecs.index2entity\n",
    "idx_to_vocab = model.wv.index2word"
   ]
  },
  {
   "cell_type": "code",
   "execution_count": 12,
   "metadata": {},
   "outputs": [],
   "source": [
    "artist_100 = []\n",
    "for i in artist:\n",
    "    artist_100.append(artist_vec(i, df, dv, wv, idx_to_doc, idx_to_vocab, tagged_data))"
   ]
  },
  {
   "cell_type": "code",
   "execution_count": 13,
   "metadata": {},
   "outputs": [],
   "source": [
    "av = np.array(artist_100)"
   ]
  },
  {
   "cell_type": "code",
   "execution_count": 14,
   "metadata": {},
   "outputs": [
    {
     "data": {
      "text/plain": [
       "'P_Sally'"
      ]
     },
     "execution_count": 14,
     "metadata": {},
     "output_type": "execute_result"
    }
   ],
   "source": [
    "# Project =, word, Key충돌\n",
    "\n",
    "new_doc = []\n",
    "for i in idx_to_doc:\n",
    "    projectName = 'P_'+i\n",
    "    new_doc.append(projectName)\n",
    "    \n",
    "new_doc[0]"
   ]
  },
  {
   "cell_type": "code",
   "execution_count": 15,
   "metadata": {},
   "outputs": [],
   "source": [
    "def makeUniqe(doc,docType='Project'):\n",
    "    new_doc = []\n",
    "    for i in doc:\n",
    "        new_name =docType + '_' + i\n",
    "        new_doc.append(new_name)\n",
    "    return new_doc"
   ]
  },
  {
   "cell_type": "code",
   "execution_count": 16,
   "metadata": {},
   "outputs": [],
   "source": [
    "new_doc = makeUniqe(idx_to_doc,'Project')\n",
    "new_art = makeUniqe(artist,'Artist')"
   ]
  },
  {
   "cell_type": "code",
   "execution_count": 17,
   "metadata": {},
   "outputs": [],
   "source": [
    "artist_index = len(new_art)\n",
    "doc_index = len(idx_to_doc)\n",
    "word_index = len(idx_to_vocab)\n",
    "entity_list = new_art + new_doc + idx_to_vocab\n",
    "vec100 = np.vstack([av, dv, wv])\n",
    "df_total = pd.DataFrame(vec100, index=entity_list)"
   ]
  },
  {
   "cell_type": "code",
   "execution_count": 18,
   "metadata": {},
   "outputs": [],
   "source": [
    "from sklearn.metrics.pairwise import cosine_similarity\n",
    "temp = cosine_similarity(df_total)\n",
    "df_similarity = pd.DataFrame(temp, columns=entity_list)"
   ]
  },
  {
   "cell_type": "code",
   "execution_count": 19,
   "metadata": {},
   "outputs": [],
   "source": [
    "def get_similarity(df_similarity, query, new_art, new_doc, idx_to_vocab, top_n = 5):\n",
    "    artist_index = len(new_art)\n",
    "    doc_index = len(new_doc)\n",
    "    word_index = len(idx_to_vocab)\n",
    "\n",
    "    artist_top5 = df_similarity[query].iloc[:artist_index].sort_values(ascending=False)[1:top_n+1]\n",
    "    artist_result = []\n",
    "    for idx,sim in zip(artist_top5.index,artist_top5.values):\n",
    "        documents = {}\n",
    "        documents['key'] = new_art[idx]\n",
    "        documents['similarity'] = sim\n",
    "        artist_result.append(documents)\n",
    "        \n",
    "    doc_top5 = df_similarity[query].iloc[artist_index:artist_index+doc_index].sort_values(ascending=False)[1:top_n+1]\n",
    "    doc_result = []\n",
    "    for idx,sim in zip(doc_top5.index, doc_top5.values):\n",
    "        documents = {}\n",
    "        documents['key'] = new_doc[idx-artist_index]\n",
    "        documents['similarity'] = sim\n",
    "        doc_result.append(documents)\n",
    "        \n",
    "    word_top5 = df_similarity[query].iloc[artist_index+doc_index:].sort_values(ascending=False)[1:top_n+1]\n",
    "    word_result = []\n",
    "    for idx,sim in zip(word_top5.index, word_top5.values):\n",
    "        documents = {}\n",
    "        documents['key'] = idx_to_vocab[idx-artist_index-doc_index]\n",
    "        documents['similarity'] = sim\n",
    "        word_result.append(documents)\n",
    "    \n",
    "    return artist_result, doc_result, word_result"
   ]
  },
  {
   "cell_type": "code",
   "execution_count": 20,
   "metadata": {},
   "outputs": [
    {
     "data": {
      "text/plain": [
       "'Artist_양아치'"
      ]
     },
     "execution_count": 20,
     "metadata": {},
     "output_type": "execute_result"
    }
   ],
   "source": [
    "new_art[2]"
   ]
  },
  {
   "cell_type": "code",
   "execution_count": 21,
   "metadata": {},
   "outputs": [
    {
     "data": {
      "text/plain": [
       "([{'key': 'Artist_최진훈', 'similarity': 0.68887335},\n",
       "  {'key': 'Artist_조호영', 'similarity': 0.68617564},\n",
       "  {'key': 'Artist_김정태', 'similarity': 0.6452769},\n",
       "  {'key': 'Artist_이장원', 'similarity': 0.6113128},\n",
       "  {'key': 'Artist_박승순', 'similarity': 0.60041225}],\n",
       " [{'key': 'Project_Screen Screen Screen', 'similarity': 0.662458},\n",
       "  {'key': 'Project_ZER01NE MAGAZINE', 'similarity': 0.6278928},\n",
       "  {'key': 'Project_엠알랩', 'similarity': 0.6218226},\n",
       "  {'key': 'Project_어디가 프로젝트', 'similarity': 0.6168661},\n",
       "  {'key': 'Project_아름다운 비행', 'similarity': 0.58710253}],\n",
       " [{'key': '조형', 'similarity': 0.74239916},\n",
       "  {'key': '미리', 'similarity': 0.74176913},\n",
       "  {'key': '자살', 'similarity': 0.7363745},\n",
       "  {'key': '어렵다', 'similarity': 0.71748704},\n",
       "  {'key': '매혹', 'similarity': 0.7170589}])"
      ]
     },
     "execution_count": 21,
     "metadata": {},
     "output_type": "execute_result"
    }
   ],
   "source": [
    "get_similarity(df_similarity, 'Project_비 독창적 비 적층식 액상 조형장치', new_art, new_doc, idx_to_vocab)"
   ]
  },
  {
   "cell_type": "code",
   "execution_count": 22,
   "metadata": {},
   "outputs": [],
   "source": [
    "from sklearn.decomposition import PCA\n",
    "from sklearn.manifold import TSNE\n",
    "\n",
    "def embedding(x, method='tsne', perplexity=10):\n",
    "    if method == 'pca':\n",
    "        trainer = PCA(n_components=2)\n",
    "    else:\n",
    "        trainer = TSNE(n_components=2, perplexity=perplexity)\n",
    "    return trainer.fit_transform(x)"
   ]
  },
  {
   "cell_type": "code",
   "execution_count": 23,
   "metadata": {},
   "outputs": [
    {
     "data": {
      "text/plain": [
       "(8, 1124, 22)"
      ]
     },
     "execution_count": 23,
     "metadata": {},
     "output_type": "execute_result"
    }
   ],
   "source": [
    "av.shape[0],wv.shape[0],dv.shape[0]"
   ]
  },
  {
   "cell_type": "code",
   "execution_count": 24,
   "metadata": {},
   "outputs": [],
   "source": [
    "z_merge = embedding(np.vstack([wv, dv]), 'tsne')\n",
    "z_wv = z_merge[:wv.shape[0]]\n",
    "z_dv = z_merge[wv.shape[0]:]"
   ]
  },
  {
   "cell_type": "code",
   "execution_count": 25,
   "metadata": {},
   "outputs": [
    {
     "data": {
      "text/plain": [
       "['김정태', '박승순', '양아치', '이장원', '조호영', '최진훈', '최병일', '현박']"
      ]
     },
     "execution_count": 25,
     "metadata": {},
     "output_type": "execute_result"
    }
   ],
   "source": [
    "artist"
   ]
  },
  {
   "cell_type": "code",
   "execution_count": 26,
   "metadata": {},
   "outputs": [],
   "source": [
    "z_av = []\n",
    "for i in artist:\n",
    "    z_av.append(artist_vec(i, df, z_dv, z_wv, idx_to_doc, idx_to_vocab, tagged_data))"
   ]
  },
  {
   "cell_type": "code",
   "execution_count": 27,
   "metadata": {},
   "outputs": [],
   "source": [
    "z_av = np.array(z_av)"
   ]
  },
  {
   "cell_type": "code",
   "execution_count": 28,
   "metadata": {},
   "outputs": [
    {
     "data": {
      "text/plain": [
       "(8, 1124, 22)"
      ]
     },
     "execution_count": 28,
     "metadata": {},
     "output_type": "execute_result"
    }
   ],
   "source": [
    "len(z_av), len(z_wv), len(z_dv)"
   ]
  },
  {
   "cell_type": "code",
   "execution_count": 30,
   "metadata": {},
   "outputs": [],
   "source": [
    "group_a = []\n",
    "for i in range(len(artist)):\n",
    "    group_a.append('artist')\n",
    "group_w = []\n",
    "for i in range(len(idx_to_vocab)):\n",
    "    group_w.append('word')\n",
    "group_p = []\n",
    "for i in range(len(new_doc)):\n",
    "    group_p.append('project')"
   ]
  },
  {
   "cell_type": "code",
   "execution_count": 31,
   "metadata": {},
   "outputs": [],
   "source": [
    "col = ['key','id','x','y','Group']\n",
    "artist_data = {'key':new_art,'id':artist, 'x':z_av.T[0],'y':z_av.T[1],'Group': group_a}\n",
    "doc_data = {'key':new_doc,'id':idx_to_doc,'x':z_dv.T[0],'y':z_dv.T[1],'Group': group_p}\n",
    "word_data = {'key':idx_to_vocab,'id':idx_to_vocab,'x':z_wv.T[0],'y':z_wv.T[1],'Group': group_w}"
   ]
  },
  {
   "cell_type": "code",
   "execution_count": 32,
   "metadata": {},
   "outputs": [],
   "source": [
    "a = pd.DataFrame(artist_data, columns=col)\n",
    "b = pd.DataFrame(doc_data, columns=col)\n",
    "c = pd.DataFrame(word_data, columns=col)"
   ]
  },
  {
   "cell_type": "code",
   "execution_count": 33,
   "metadata": {},
   "outputs": [
    {
     "data": {
      "text/html": [
       "<div>\n",
       "<style scoped>\n",
       "    .dataframe tbody tr th:only-of-type {\n",
       "        vertical-align: middle;\n",
       "    }\n",
       "\n",
       "    .dataframe tbody tr th {\n",
       "        vertical-align: top;\n",
       "    }\n",
       "\n",
       "    .dataframe thead th {\n",
       "        text-align: right;\n",
       "    }\n",
       "</style>\n",
       "<table border=\"1\" class=\"dataframe\">\n",
       "  <thead>\n",
       "    <tr style=\"text-align: right;\">\n",
       "      <th></th>\n",
       "      <th>key</th>\n",
       "      <th>id</th>\n",
       "      <th>x</th>\n",
       "      <th>y</th>\n",
       "      <th>Group</th>\n",
       "    </tr>\n",
       "  </thead>\n",
       "  <tbody>\n",
       "    <tr>\n",
       "      <th>0</th>\n",
       "      <td>Artist_김정태</td>\n",
       "      <td>김정태</td>\n",
       "      <td>28.607925</td>\n",
       "      <td>35.893559</td>\n",
       "      <td>artist</td>\n",
       "    </tr>\n",
       "    <tr>\n",
       "      <th>1</th>\n",
       "      <td>Artist_박승순</td>\n",
       "      <td>박승순</td>\n",
       "      <td>-18.196304</td>\n",
       "      <td>25.824997</td>\n",
       "      <td>artist</td>\n",
       "    </tr>\n",
       "    <tr>\n",
       "      <th>2</th>\n",
       "      <td>Artist_양아치</td>\n",
       "      <td>양아치</td>\n",
       "      <td>39.292217</td>\n",
       "      <td>38.183762</td>\n",
       "      <td>artist</td>\n",
       "    </tr>\n",
       "    <tr>\n",
       "      <th>3</th>\n",
       "      <td>Artist_이장원</td>\n",
       "      <td>이장원</td>\n",
       "      <td>33.310894</td>\n",
       "      <td>3.392206</td>\n",
       "      <td>artist</td>\n",
       "    </tr>\n",
       "    <tr>\n",
       "      <th>4</th>\n",
       "      <td>Artist_조호영</td>\n",
       "      <td>조호영</td>\n",
       "      <td>28.625051</td>\n",
       "      <td>38.863266</td>\n",
       "      <td>artist</td>\n",
       "    </tr>\n",
       "  </tbody>\n",
       "</table>\n",
       "</div>"
      ],
      "text/plain": [
       "          key   id          x          y   Group\n",
       "0  Artist_김정태  김정태  28.607925  35.893559  artist\n",
       "1  Artist_박승순  박승순 -18.196304  25.824997  artist\n",
       "2  Artist_양아치  양아치  39.292217  38.183762  artist\n",
       "3  Artist_이장원  이장원  33.310894   3.392206  artist\n",
       "4  Artist_조호영  조호영  28.625051  38.863266  artist"
      ]
     },
     "execution_count": 33,
     "metadata": {},
     "output_type": "execute_result"
    }
   ],
   "source": [
    "total = pd.concat([a,b,c])\n",
    "total.head()"
   ]
  },
  {
   "cell_type": "code",
   "execution_count": 43,
   "metadata": {},
   "outputs": [
    {
     "data": {
      "text/plain": [
       "Index(['Unnamed: 0', '작가명', '키워드', '작가소개', '프로젝트명', '내부파트너', '외부파트너', '작품명',\n",
       "       '매체', '디스크립션', '년도', 'text'],\n",
       "      dtype='object')"
      ]
     },
     "execution_count": 43,
     "metadata": {},
     "output_type": "execute_result"
    }
   ],
   "source": [
    "df.columns"
   ]
  },
  {
   "cell_type": "code",
   "execution_count": 61,
   "metadata": {},
   "outputs": [],
   "source": [
    "def get_artist_db(df, query):\n",
    "    query = query.split('_')[1]\n",
    "    project = list(df[df['작가명']== query]['프로젝트명'])\n",
    "    inside = list(df[df['작가명']==query]['내부파트너'].dropna().unique())\n",
    "    outside = list(df[df['작가명']==query]['외부파트너'].dropna().unique())\n",
    "    media = list(df[df['작가명']==query]['매체'].dropna().unique())\n",
    "    \n",
    "    key_list = []\n",
    "    keyword = \"\"\n",
    "    for i in list(df[df['작가명']==query]['키워드'])[0]:\n",
    "        if i != '#':\n",
    "            keyword = keyword + i\n",
    "        elif len(keyword) > 1:\n",
    "            key_list.append(keyword.strip())\n",
    "            keyword = \"\"\n",
    "    \n",
    "    documents = {}\n",
    "    documents['id'] = query\n",
    "    documents['project'] = project\n",
    "    documents['key_list'] = key_list\n",
    "    documents['media'] = media\n",
    "    documents['inside'] = inside\n",
    "    documents['outside'] = outside\n",
    "    return documents"
   ]
  },
  {
   "cell_type": "code",
   "execution_count": 62,
   "metadata": {},
   "outputs": [
    {
     "data": {
      "text/plain": [
       "{'id': '김정태',\n",
       " 'project': ['팀잇', '어디가 프로젝트'],\n",
       " 'key_list': ['디지털 소재', '픽셀', '변형'],\n",
       " 'media': ['영상 및 텍스트',\n",
       "  '1. FIRST AID 편곡, 2채널 사운드\\n2. 싱글 채널 비디오\\n3. 싱글 채널 비디오\\n4. 싱글 채널 비디오\\n5. 3채널 비디오, 장소 특정적 설치'],\n",
       " 'inside': ['김정태, 최영준', 'TRIPLE-CORE(김정태, 조호영, 최진훈)'],\n",
       " 'outside': []}"
      ]
     },
     "execution_count": 62,
     "metadata": {},
     "output_type": "execute_result"
    }
   ],
   "source": [
    "get_artist_db(df, new_art[0])"
   ]
  },
  {
   "cell_type": "code",
   "execution_count": 94,
   "metadata": {},
   "outputs": [
    {
     "data": {
      "text/plain": [
       "\"['시각예술', '양', '아치', '작품', 'Sally', '미래', '기술', '편리하다', '모두', '평등하다', '수', '있다', '대한', '해답', '모색', '프로젝트', '양', '아치', 'ZER', 'NE', 'Lab', '의', '일원', '모빌리티', '인공', '지능', '스마트', '시티', '미래', '주요', '기술', '상정', '현', '대', '자동차', '그룹', '광고', '모티프', '세', '가지', '기술', '관점', '미래', '상상', '영상', '제작', '광고', '속', '근', '미래', '이상', '삶', '주인공', 'Sally', '프로젝트', '노동', '인공', '지능', '전환', '영상', '극단', '전환', 'Sally', '의', '삶', '근거', '미래', '스마트', '시티', '안', '노동', '계급', '사회', '문제', 'Sally', '자동차', '극장', '형식', '관객', '자동차', '극장', '자동차', '탑승', '소수', '관객', '근', '미래', 'Sally', '의', '세계', '스크린', '주지', '탑승', '못', '다수', '관객', '차례', '이', '풍경', '근', '미래', '기술', '향유', '계층', '대한', '양', '아치', '진단', '반영', '있다']\""
      ]
     },
     "execution_count": 94,
     "metadata": {},
     "output_type": "execute_result"
    }
   ],
   "source": [
    "keyword_list = df[df['프로젝트명']== 'Sally']['text'].values[0]\n",
    "keyword_list"
   ]
  },
  {
   "cell_type": "code",
   "execution_count": 106,
   "metadata": {},
   "outputs": [],
   "source": [
    "keyword_list = df[df['프로젝트명']== 'Sally']['text'].values[0]"
   ]
  },
  {
   "cell_type": "code",
   "execution_count": 107,
   "metadata": {},
   "outputs": [
    {
     "data": {
      "text/plain": [
       "'양'"
      ]
     },
     "execution_count": 107,
     "metadata": {},
     "output_type": "execute_result"
    }
   ],
   "source": [
    "keyword_list[1]"
   ]
  },
  {
   "cell_type": "code",
   "execution_count": 108,
   "metadata": {},
   "outputs": [
    {
     "data": {
      "text/plain": [
       "[('미래', 7), ('Sally', 5), ('기술', 4), ('자동차', 4), ('양', 3)]"
      ]
     },
     "execution_count": 108,
     "metadata": {},
     "output_type": "execute_result"
    }
   ],
   "source": [
    "collections.Counter(keyword_list).most_common(5)"
   ]
  },
  {
   "cell_type": "code",
   "execution_count": 109,
   "metadata": {},
   "outputs": [],
   "source": [
    "import collections\n",
    "\n",
    "\n",
    "def get_project_db(df, query):\n",
    "    sim_query = query\n",
    "    query = query.split('_')[1]\n",
    "    artist = df[df['프로젝트명']== query]['작가명'].values[0]\n",
    "    descrtibe = list(df[df['프로젝트명']== query]['디스크립션'])[0]\n",
    "    inside = list(df[df['프로젝트명']== query]['내부파트너'].dropna().unique())\n",
    "    outside = list(df[df['프로젝트명']== query]['외부파트너'].dropna().unique())\n",
    "    keyword_list = df[df['프로젝트명']== query]['text'].values[0]\n",
    "    keyword = collections.Counter(keyword_list).most_common(5)\n",
    "    year = df[df['프로젝트명']== query]['년도'].values[0]\n",
    "    sim_art,sim_doc,sim_word = get_similarity(df_similarity, sim_query , new_art, new_doc, idx_to_vocab)\n",
    "    \n",
    "    documents = {}\n",
    "    documents['id'] = query\n",
    "    documents['artist'] = artist\n",
    "    documents['descrtibe'] = descrtibe\n",
    "    documents['inside'] = inside\n",
    "    documents['outside'] = outside\n",
    "    documents['keyword'] = keyword\n",
    "    documents['year'] = year\n",
    "    documents['sim_doc'] = sim_doc\n",
    "    documents['sim_word'] = sim_word\n",
    "    \n",
    "    return documents"
   ]
  },
  {
   "cell_type": "code",
   "execution_count": 110,
   "metadata": {},
   "outputs": [],
   "source": [
    "def get_keyword_db(df, query):\n",
    "    use_artist = []\n",
    "    use_project = []\n",
    "\n",
    "    for idx,i in enumerate(df['text']):\n",
    "        if query in i:\n",
    "            use_artist.append(df.iloc[idx]['작가명'])\n",
    "            use_project.append(df.iloc[idx]['프로젝트명'])\n",
    "    \n",
    "    sim_art,sim_doc,sim_word = get_similarity(df_similarity, query , new_art, new_doc, idx_to_vocab)\n",
    "    \n",
    "    documents = {}\n",
    "    documents['id'] = query\n",
    "    documents['use_artist'] = list(set(use_artist))\n",
    "    documents['use_project'] = list(set(use_project))\n",
    "    documents['sim_art'] = sim_art\n",
    "    documents['sim_doc'] = sim_doc\n",
    "    documents['sim_word'] = sim_word\n",
    "    \n",
    "    return documents"
   ]
  },
  {
   "cell_type": "code",
   "execution_count": 111,
   "metadata": {},
   "outputs": [],
   "source": [
    "attribute_a = []\n",
    "for i in new_art:\n",
    "    attribute_a.append(get_artist_db(df, i))\n",
    "    \n",
    "attribute_d = []\n",
    "for i in new_doc:\n",
    "    attribute_d.append(get_project_db(df, i))\n",
    "    \n",
    "attribute_w = []\n",
    "for i in idx_to_vocab:\n",
    "    attribute_w.append(get_keyword_db(df, i))"
   ]
  },
  {
   "cell_type": "code",
   "execution_count": 112,
   "metadata": {},
   "outputs": [],
   "source": [
    "attribute = attribute_a + attribute_d + attribute_w"
   ]
  },
  {
   "cell_type": "code",
   "execution_count": 113,
   "metadata": {},
   "outputs": [],
   "source": [
    "total['attritube'] = attribute"
   ]
  },
  {
   "cell_type": "code",
   "execution_count": 114,
   "metadata": {},
   "outputs": [
    {
     "data": {
      "text/plain": [
       "key                                              Project_Sally\n",
       "id                                                       Sally\n",
       "x                                                      27.1022\n",
       "y                                                      52.3411\n",
       "Group                                                  project\n",
       "attritube    {'id': 'Sally', 'artist': '양아치', 'descrtibe': ...\n",
       "Name: 0, dtype: object"
      ]
     },
     "execution_count": 114,
     "metadata": {},
     "output_type": "execute_result"
    }
   ],
   "source": [
    "total.iloc[8]"
   ]
  },
  {
   "cell_type": "code",
   "execution_count": 115,
   "metadata": {},
   "outputs": [],
   "source": [
    "total_dic = total.to_dict('record')"
   ]
  },
  {
   "cell_type": "code",
   "execution_count": 118,
   "metadata": {
    "scrolled": false
   },
   "outputs": [
    {
     "data": {
      "text/plain": [
       "{'key': 'Project_NeuroScape for Mobility(N4M)',\n",
       " 'id': 'NeuroScape for Mobility(N4M)',\n",
       " 'x': 7.9665021896362305,\n",
       " 'y': 29.720203399658203,\n",
       " 'Group': 'project',\n",
       " 'attritube': {'id': 'NeuroScape for Mobility(N4M)',\n",
       "  'artist': '박승순',\n",
       "  'descrtibe': '매체음악가 박승순은 풍경을 포착해 음악으로 변환하는 뉴로스케이프(NeuroScape) 작업을 지속해 왔다. 올해는 ZER01NE Lab의 일원으로 참여해 모빌리티를 접목한 프로젝트 <NeuroScape for Mobility(N4M)>를 선보인다.\\n본 프로젝트는 미래의 차는 가장 몰입감이 뛰어난 엔터테인먼트 공간이라는 점에 착안하여, 개인화된 인터-미디어 모빌리티를 ‘미래 음악’이라는 주제와 함께 제안한다. 그 기본 전략은 모빌리티 모드와 이동시 마주하는 풍경 이미지/영상에 따라 개인화된 음악 플레이리스트 및 인터랙티브 뮤직비디오를 생성하는 인공지능 알고리즘을 만드는 것으로, 풍경 이미지/영상 분석으로 사운드스케이프를 생성하는 모빌리티 환경 특화 인공지능 신경망 시스템의 연구와 개발이 이 프로젝트의 중심축이다.\\n박승순의 상상은 스트리밍 시대의 음악 감상 풍경을 확장한다. 플레이리스트를 받아 감상하는 스트리밍 시대의 일상적인 음악 감상을 ‘듣는 나’의 기분과 신체에 맞게 생성되는 음악을 경험하는 것으로 전환하려는 것이다. 이동하는 모든 순간이 음악이 된다.',\n",
       "  'inside': [],\n",
       "  'outside': [],\n",
       "  'keyword': [('음악', 7), ('풍경', 4), ('모빌리티', 4), ('프로젝트', 3), ('생', 3)],\n",
       "  'year': 2019,\n",
       "  'sim_doc': [{'key': 'Project_Screen Screen Screen', 'similarity': 0.6250009},\n",
       "   {'key': 'Project_🌐.FM, 웹, 2018', 'similarity': 0.59475225},\n",
       "   {'key': 'Project_엠알랩', 'similarity': 0.58012205},\n",
       "   {'key': 'Project_아르키메데스 구멍 - 149,597,870,700, 2018',\n",
       "    'similarity': 0.5696636},\n",
       "   {'key': 'Project_어디가 프로젝트', 'similarity': 0.55966234}],\n",
       "  'sim_word': [{'key': 'NeuroScape', 'similarity': 0.6839246},\n",
       "   {'key': '생', 'similarity': 0.66968006},\n",
       "   {'key': '지능', 'similarity': 0.6408955},\n",
       "   {'key': '가능하다', 'similarity': 0.63638014},\n",
       "   {'key': '개인화', 'similarity': 0.6308078}]}}"
      ]
     },
     "execution_count": 118,
     "metadata": {},
     "output_type": "execute_result"
    }
   ],
   "source": [
    "total_dic[15]"
   ]
  },
  {
   "cell_type": "code",
   "execution_count": 120,
   "metadata": {},
   "outputs": [],
   "source": [
    "import json\n",
    "import numpy as np\n",
    "\n",
    "class NpEncoder(json.JSONEncoder):\n",
    "    def default(self, obj):\n",
    "        if isinstance(obj, np.integer):\n",
    "            return int(obj)\n",
    "        elif isinstance(obj, np.floating):\n",
    "            return float(obj)\n",
    "        elif isinstance(obj, np.ndarray):\n",
    "            return obj.tolist()\n",
    "        else:\n",
    "            return super(NpEncoder, self).default(obj)\n",
    "\n",
    "# Your codes .... \n",
    "with open('node.json', 'w', encoding='UTF-8') as outfile:\n",
    "    outfile.write(json.dumps(total_dic, cls=NpEncoder, ensure_ascii=False, indent=4))"
   ]
  },
  {
   "cell_type": "code",
   "execution_count": 136,
   "metadata": {},
   "outputs": [
    {
     "data": {
      "text/html": [
       "\n",
       "    <div class=\"bk-root\">\n",
       "        <a href=\"https://bokeh.org\" target=\"_blank\" class=\"bk-logo bk-logo-small bk-logo-notebook\"></a>\n",
       "        <span id=\"1327\">Loading BokehJS ...</span>\n",
       "    </div>"
      ]
     },
     "metadata": {},
     "output_type": "display_data"
    },
    {
     "data": {
      "application/javascript": [
       "\n",
       "(function(root) {\n",
       "  function now() {\n",
       "    return new Date();\n",
       "  }\n",
       "\n",
       "  var force = true;\n",
       "\n",
       "  if (typeof root._bokeh_onload_callbacks === \"undefined\" || force === true) {\n",
       "    root._bokeh_onload_callbacks = [];\n",
       "    root._bokeh_is_loading = undefined;\n",
       "  }\n",
       "\n",
       "  var JS_MIME_TYPE = 'application/javascript';\n",
       "  var HTML_MIME_TYPE = 'text/html';\n",
       "  var EXEC_MIME_TYPE = 'application/vnd.bokehjs_exec.v0+json';\n",
       "  var CLASS_NAME = 'output_bokeh rendered_html';\n",
       "\n",
       "  /**\n",
       "   * Render data to the DOM node\n",
       "   */\n",
       "  function render(props, node) {\n",
       "    var script = document.createElement(\"script\");\n",
       "    node.appendChild(script);\n",
       "  }\n",
       "\n",
       "  /**\n",
       "   * Handle when an output is cleared or removed\n",
       "   */\n",
       "  function handleClearOutput(event, handle) {\n",
       "    var cell = handle.cell;\n",
       "\n",
       "    var id = cell.output_area._bokeh_element_id;\n",
       "    var server_id = cell.output_area._bokeh_server_id;\n",
       "    // Clean up Bokeh references\n",
       "    if (id != null && id in Bokeh.index) {\n",
       "      Bokeh.index[id].model.document.clear();\n",
       "      delete Bokeh.index[id];\n",
       "    }\n",
       "\n",
       "    if (server_id !== undefined) {\n",
       "      // Clean up Bokeh references\n",
       "      var cmd = \"from bokeh.io.state import curstate; print(curstate().uuid_to_server['\" + server_id + \"'].get_sessions()[0].document.roots[0]._id)\";\n",
       "      cell.notebook.kernel.execute(cmd, {\n",
       "        iopub: {\n",
       "          output: function(msg) {\n",
       "            var id = msg.content.text.trim();\n",
       "            if (id in Bokeh.index) {\n",
       "              Bokeh.index[id].model.document.clear();\n",
       "              delete Bokeh.index[id];\n",
       "            }\n",
       "          }\n",
       "        }\n",
       "      });\n",
       "      // Destroy server and session\n",
       "      var cmd = \"import bokeh.io.notebook as ion; ion.destroy_server('\" + server_id + \"')\";\n",
       "      cell.notebook.kernel.execute(cmd);\n",
       "    }\n",
       "  }\n",
       "\n",
       "  /**\n",
       "   * Handle when a new output is added\n",
       "   */\n",
       "  function handleAddOutput(event, handle) {\n",
       "    var output_area = handle.output_area;\n",
       "    var output = handle.output;\n",
       "\n",
       "    // limit handleAddOutput to display_data with EXEC_MIME_TYPE content only\n",
       "    if ((output.output_type != \"display_data\") || (!output.data.hasOwnProperty(EXEC_MIME_TYPE))) {\n",
       "      return\n",
       "    }\n",
       "\n",
       "    var toinsert = output_area.element.find(\".\" + CLASS_NAME.split(' ')[0]);\n",
       "\n",
       "    if (output.metadata[EXEC_MIME_TYPE][\"id\"] !== undefined) {\n",
       "      toinsert[toinsert.length - 1].firstChild.textContent = output.data[JS_MIME_TYPE];\n",
       "      // store reference to embed id on output_area\n",
       "      output_area._bokeh_element_id = output.metadata[EXEC_MIME_TYPE][\"id\"];\n",
       "    }\n",
       "    if (output.metadata[EXEC_MIME_TYPE][\"server_id\"] !== undefined) {\n",
       "      var bk_div = document.createElement(\"div\");\n",
       "      bk_div.innerHTML = output.data[HTML_MIME_TYPE];\n",
       "      var script_attrs = bk_div.children[0].attributes;\n",
       "      for (var i = 0; i < script_attrs.length; i++) {\n",
       "        toinsert[toinsert.length - 1].firstChild.setAttribute(script_attrs[i].name, script_attrs[i].value);\n",
       "      }\n",
       "      // store reference to server id on output_area\n",
       "      output_area._bokeh_server_id = output.metadata[EXEC_MIME_TYPE][\"server_id\"];\n",
       "    }\n",
       "  }\n",
       "\n",
       "  function register_renderer(events, OutputArea) {\n",
       "\n",
       "    function append_mime(data, metadata, element) {\n",
       "      // create a DOM node to render to\n",
       "      var toinsert = this.create_output_subarea(\n",
       "        metadata,\n",
       "        CLASS_NAME,\n",
       "        EXEC_MIME_TYPE\n",
       "      );\n",
       "      this.keyboard_manager.register_events(toinsert);\n",
       "      // Render to node\n",
       "      var props = {data: data, metadata: metadata[EXEC_MIME_TYPE]};\n",
       "      render(props, toinsert[toinsert.length - 1]);\n",
       "      element.append(toinsert);\n",
       "      return toinsert\n",
       "    }\n",
       "\n",
       "    /* Handle when an output is cleared or removed */\n",
       "    events.on('clear_output.CodeCell', handleClearOutput);\n",
       "    events.on('delete.Cell', handleClearOutput);\n",
       "\n",
       "    /* Handle when a new output is added */\n",
       "    events.on('output_added.OutputArea', handleAddOutput);\n",
       "\n",
       "    /**\n",
       "     * Register the mime type and append_mime function with output_area\n",
       "     */\n",
       "    OutputArea.prototype.register_mime_type(EXEC_MIME_TYPE, append_mime, {\n",
       "      /* Is output safe? */\n",
       "      safe: true,\n",
       "      /* Index of renderer in `output_area.display_order` */\n",
       "      index: 0\n",
       "    });\n",
       "  }\n",
       "\n",
       "  // register the mime type if in Jupyter Notebook environment and previously unregistered\n",
       "  if (root.Jupyter !== undefined) {\n",
       "    var events = require('base/js/events');\n",
       "    var OutputArea = require('notebook/js/outputarea').OutputArea;\n",
       "\n",
       "    if (OutputArea.prototype.mime_types().indexOf(EXEC_MIME_TYPE) == -1) {\n",
       "      register_renderer(events, OutputArea);\n",
       "    }\n",
       "  }\n",
       "\n",
       "  \n",
       "  if (typeof (root._bokeh_timeout) === \"undefined\" || force === true) {\n",
       "    root._bokeh_timeout = Date.now() + 5000;\n",
       "    root._bokeh_failed_load = false;\n",
       "  }\n",
       "\n",
       "  var NB_LOAD_WARNING = {'data': {'text/html':\n",
       "     \"<div style='background-color: #fdd'>\\n\"+\n",
       "     \"<p>\\n\"+\n",
       "     \"BokehJS does not appear to have successfully loaded. If loading BokehJS from CDN, this \\n\"+\n",
       "     \"may be due to a slow or bad network connection. Possible fixes:\\n\"+\n",
       "     \"</p>\\n\"+\n",
       "     \"<ul>\\n\"+\n",
       "     \"<li>re-rerun `output_notebook()` to attempt to load from CDN again, or</li>\\n\"+\n",
       "     \"<li>use INLINE resources instead, as so:</li>\\n\"+\n",
       "     \"</ul>\\n\"+\n",
       "     \"<code>\\n\"+\n",
       "     \"from bokeh.resources import INLINE\\n\"+\n",
       "     \"output_notebook(resources=INLINE)\\n\"+\n",
       "     \"</code>\\n\"+\n",
       "     \"</div>\"}};\n",
       "\n",
       "  function display_loaded() {\n",
       "    var el = document.getElementById(\"1327\");\n",
       "    if (el != null) {\n",
       "      el.textContent = \"BokehJS is loading...\";\n",
       "    }\n",
       "    if (root.Bokeh !== undefined) {\n",
       "      if (el != null) {\n",
       "        el.textContent = \"BokehJS \" + root.Bokeh.version + \" successfully loaded.\";\n",
       "      }\n",
       "    } else if (Date.now() < root._bokeh_timeout) {\n",
       "      setTimeout(display_loaded, 100)\n",
       "    }\n",
       "  }\n",
       "\n",
       "\n",
       "  function run_callbacks() {\n",
       "    try {\n",
       "      root._bokeh_onload_callbacks.forEach(function(callback) {\n",
       "        if (callback != null)\n",
       "          callback();\n",
       "      });\n",
       "    } finally {\n",
       "      delete root._bokeh_onload_callbacks\n",
       "    }\n",
       "    console.debug(\"Bokeh: all callbacks have finished\");\n",
       "  }\n",
       "\n",
       "  function load_libs(css_urls, js_urls, callback) {\n",
       "    if (css_urls == null) css_urls = [];\n",
       "    if (js_urls == null) js_urls = [];\n",
       "\n",
       "    root._bokeh_onload_callbacks.push(callback);\n",
       "    if (root._bokeh_is_loading > 0) {\n",
       "      console.debug(\"Bokeh: BokehJS is being loaded, scheduling callback at\", now());\n",
       "      return null;\n",
       "    }\n",
       "    if (js_urls == null || js_urls.length === 0) {\n",
       "      run_callbacks();\n",
       "      return null;\n",
       "    }\n",
       "    console.debug(\"Bokeh: BokehJS not loaded, scheduling load and callback at\", now());\n",
       "    root._bokeh_is_loading = css_urls.length + js_urls.length;\n",
       "\n",
       "    function on_load() {\n",
       "      root._bokeh_is_loading--;\n",
       "      if (root._bokeh_is_loading === 0) {\n",
       "        console.debug(\"Bokeh: all BokehJS libraries/stylesheets loaded\");\n",
       "        run_callbacks()\n",
       "      }\n",
       "    }\n",
       "\n",
       "    function on_error() {\n",
       "      console.error(\"failed to load \" + url);\n",
       "    }\n",
       "\n",
       "    for (var i = 0; i < css_urls.length; i++) {\n",
       "      var url = css_urls[i];\n",
       "      const element = document.createElement(\"link\");\n",
       "      element.onload = on_load;\n",
       "      element.onerror = on_error;\n",
       "      element.rel = \"stylesheet\";\n",
       "      element.type = \"text/css\";\n",
       "      element.href = url;\n",
       "      console.debug(\"Bokeh: injecting link tag for BokehJS stylesheet: \", url);\n",
       "      document.body.appendChild(element);\n",
       "    }\n",
       "\n",
       "    for (var i = 0; i < js_urls.length; i++) {\n",
       "      var url = js_urls[i];\n",
       "      var element = document.createElement('script');\n",
       "      element.onload = on_load;\n",
       "      element.onerror = on_error;\n",
       "      element.async = false;\n",
       "      element.src = url;\n",
       "      console.debug(\"Bokeh: injecting script tag for BokehJS library: \", url);\n",
       "      document.head.appendChild(element);\n",
       "    }\n",
       "  };var element = document.getElementById(\"1327\");\n",
       "  if (element == null) {\n",
       "    console.error(\"Bokeh: ERROR: autoload.js configured with elementid '1327' but no matching script tag was found. \")\n",
       "    return false;\n",
       "  }\n",
       "\n",
       "  function inject_raw_css(css) {\n",
       "    const element = document.createElement(\"style\");\n",
       "    element.appendChild(document.createTextNode(css));\n",
       "    document.body.appendChild(element);\n",
       "  }\n",
       "\n",
       "  \n",
       "  var js_urls = [\"https://cdn.pydata.org/bokeh/release/bokeh-1.4.0.min.js\", \"https://cdn.pydata.org/bokeh/release/bokeh-widgets-1.4.0.min.js\", \"https://cdn.pydata.org/bokeh/release/bokeh-tables-1.4.0.min.js\", \"https://cdn.pydata.org/bokeh/release/bokeh-gl-1.4.0.min.js\"];\n",
       "  var css_urls = [];\n",
       "  \n",
       "\n",
       "  var inline_js = [\n",
       "    function(Bokeh) {\n",
       "      Bokeh.set_log_level(\"info\");\n",
       "    },\n",
       "    function(Bokeh) {\n",
       "    \n",
       "    \n",
       "    }\n",
       "  ];\n",
       "\n",
       "  function run_inline_js() {\n",
       "    \n",
       "    if (root.Bokeh !== undefined || force === true) {\n",
       "      \n",
       "    for (var i = 0; i < inline_js.length; i++) {\n",
       "      inline_js[i].call(root, root.Bokeh);\n",
       "    }\n",
       "    if (force === true) {\n",
       "        display_loaded();\n",
       "      }} else if (Date.now() < root._bokeh_timeout) {\n",
       "      setTimeout(run_inline_js, 100);\n",
       "    } else if (!root._bokeh_failed_load) {\n",
       "      console.log(\"Bokeh: BokehJS failed to load within specified timeout.\");\n",
       "      root._bokeh_failed_load = true;\n",
       "    } else if (force !== true) {\n",
       "      var cell = $(document.getElementById(\"1327\")).parents('.cell').data().cell;\n",
       "      cell.output_area.append_execute_result(NB_LOAD_WARNING)\n",
       "    }\n",
       "\n",
       "  }\n",
       "\n",
       "  if (root._bokeh_is_loading === 0) {\n",
       "    console.debug(\"Bokeh: BokehJS loaded, going straight to plotting\");\n",
       "    run_inline_js();\n",
       "  } else {\n",
       "    load_libs(css_urls, js_urls, function() {\n",
       "      console.debug(\"Bokeh: BokehJS plotting callback run at\", now());\n",
       "      run_inline_js();\n",
       "    });\n",
       "  }\n",
       "}(window));"
      ],
      "application/vnd.bokehjs_load.v0+json": "\n(function(root) {\n  function now() {\n    return new Date();\n  }\n\n  var force = true;\n\n  if (typeof root._bokeh_onload_callbacks === \"undefined\" || force === true) {\n    root._bokeh_onload_callbacks = [];\n    root._bokeh_is_loading = undefined;\n  }\n\n  \n\n  \n  if (typeof (root._bokeh_timeout) === \"undefined\" || force === true) {\n    root._bokeh_timeout = Date.now() + 5000;\n    root._bokeh_failed_load = false;\n  }\n\n  var NB_LOAD_WARNING = {'data': {'text/html':\n     \"<div style='background-color: #fdd'>\\n\"+\n     \"<p>\\n\"+\n     \"BokehJS does not appear to have successfully loaded. If loading BokehJS from CDN, this \\n\"+\n     \"may be due to a slow or bad network connection. Possible fixes:\\n\"+\n     \"</p>\\n\"+\n     \"<ul>\\n\"+\n     \"<li>re-rerun `output_notebook()` to attempt to load from CDN again, or</li>\\n\"+\n     \"<li>use INLINE resources instead, as so:</li>\\n\"+\n     \"</ul>\\n\"+\n     \"<code>\\n\"+\n     \"from bokeh.resources import INLINE\\n\"+\n     \"output_notebook(resources=INLINE)\\n\"+\n     \"</code>\\n\"+\n     \"</div>\"}};\n\n  function display_loaded() {\n    var el = document.getElementById(\"1327\");\n    if (el != null) {\n      el.textContent = \"BokehJS is loading...\";\n    }\n    if (root.Bokeh !== undefined) {\n      if (el != null) {\n        el.textContent = \"BokehJS \" + root.Bokeh.version + \" successfully loaded.\";\n      }\n    } else if (Date.now() < root._bokeh_timeout) {\n      setTimeout(display_loaded, 100)\n    }\n  }\n\n\n  function run_callbacks() {\n    try {\n      root._bokeh_onload_callbacks.forEach(function(callback) {\n        if (callback != null)\n          callback();\n      });\n    } finally {\n      delete root._bokeh_onload_callbacks\n    }\n    console.debug(\"Bokeh: all callbacks have finished\");\n  }\n\n  function load_libs(css_urls, js_urls, callback) {\n    if (css_urls == null) css_urls = [];\n    if (js_urls == null) js_urls = [];\n\n    root._bokeh_onload_callbacks.push(callback);\n    if (root._bokeh_is_loading > 0) {\n      console.debug(\"Bokeh: BokehJS is being loaded, scheduling callback at\", now());\n      return null;\n    }\n    if (js_urls == null || js_urls.length === 0) {\n      run_callbacks();\n      return null;\n    }\n    console.debug(\"Bokeh: BokehJS not loaded, scheduling load and callback at\", now());\n    root._bokeh_is_loading = css_urls.length + js_urls.length;\n\n    function on_load() {\n      root._bokeh_is_loading--;\n      if (root._bokeh_is_loading === 0) {\n        console.debug(\"Bokeh: all BokehJS libraries/stylesheets loaded\");\n        run_callbacks()\n      }\n    }\n\n    function on_error() {\n      console.error(\"failed to load \" + url);\n    }\n\n    for (var i = 0; i < css_urls.length; i++) {\n      var url = css_urls[i];\n      const element = document.createElement(\"link\");\n      element.onload = on_load;\n      element.onerror = on_error;\n      element.rel = \"stylesheet\";\n      element.type = \"text/css\";\n      element.href = url;\n      console.debug(\"Bokeh: injecting link tag for BokehJS stylesheet: \", url);\n      document.body.appendChild(element);\n    }\n\n    for (var i = 0; i < js_urls.length; i++) {\n      var url = js_urls[i];\n      var element = document.createElement('script');\n      element.onload = on_load;\n      element.onerror = on_error;\n      element.async = false;\n      element.src = url;\n      console.debug(\"Bokeh: injecting script tag for BokehJS library: \", url);\n      document.head.appendChild(element);\n    }\n  };var element = document.getElementById(\"1327\");\n  if (element == null) {\n    console.error(\"Bokeh: ERROR: autoload.js configured with elementid '1327' but no matching script tag was found. \")\n    return false;\n  }\n\n  function inject_raw_css(css) {\n    const element = document.createElement(\"style\");\n    element.appendChild(document.createTextNode(css));\n    document.body.appendChild(element);\n  }\n\n  \n  var js_urls = [\"https://cdn.pydata.org/bokeh/release/bokeh-1.4.0.min.js\", \"https://cdn.pydata.org/bokeh/release/bokeh-widgets-1.4.0.min.js\", \"https://cdn.pydata.org/bokeh/release/bokeh-tables-1.4.0.min.js\", \"https://cdn.pydata.org/bokeh/release/bokeh-gl-1.4.0.min.js\"];\n  var css_urls = [];\n  \n\n  var inline_js = [\n    function(Bokeh) {\n      Bokeh.set_log_level(\"info\");\n    },\n    function(Bokeh) {\n    \n    \n    }\n  ];\n\n  function run_inline_js() {\n    \n    if (root.Bokeh !== undefined || force === true) {\n      \n    for (var i = 0; i < inline_js.length; i++) {\n      inline_js[i].call(root, root.Bokeh);\n    }\n    if (force === true) {\n        display_loaded();\n      }} else if (Date.now() < root._bokeh_timeout) {\n      setTimeout(run_inline_js, 100);\n    } else if (!root._bokeh_failed_load) {\n      console.log(\"Bokeh: BokehJS failed to load within specified timeout.\");\n      root._bokeh_failed_load = true;\n    } else if (force !== true) {\n      var cell = $(document.getElementById(\"1327\")).parents('.cell').data().cell;\n      cell.output_area.append_execute_result(NB_LOAD_WARNING)\n    }\n\n  }\n\n  if (root._bokeh_is_loading === 0) {\n    console.debug(\"Bokeh: BokehJS loaded, going straight to plotting\");\n    run_inline_js();\n  } else {\n    load_libs(css_urls, js_urls, function() {\n      console.debug(\"Bokeh: BokehJS plotting callback run at\", now());\n      run_inline_js();\n    });\n  }\n}(window));"
     },
     "metadata": {},
     "output_type": "display_data"
    },
    {
     "data": {
      "text/html": [
       "\n",
       "\n",
       "\n",
       "\n",
       "\n",
       "\n",
       "  <div class=\"bk-root\" id=\"47e2751b-13b5-496c-ab34-a5ba8bce0dc0\" data-root-id=\"1273\"></div>\n"
      ]
     },
     "metadata": {},
     "output_type": "display_data"
    },
    {
     "data": {
      "application/javascript": [
       "(function(root) {\n",
       "  function embed_document(root) {\n",
       "    \n",
       "  var docs_json = {\"80161923-729e-4ffa-86a7-e3353a480a73\":{\"roots\":{\"references\":[{\"attributes\":{\"background_fill_color\":{\"value\":\"black\"},\"below\":[{\"id\":\"1284\",\"type\":\"LinearAxis\"}],\"center\":[{\"id\":\"1288\",\"type\":\"Grid\"},{\"id\":\"1293\",\"type\":\"Grid\"}],\"height\":1000,\"left\":[{\"id\":\"1289\",\"type\":\"LinearAxis\"}],\"renderers\":[{\"id\":\"1313\",\"type\":\"GlyphRenderer\"},{\"id\":\"1319\",\"type\":\"GlyphRenderer\"},{\"id\":\"1325\",\"type\":\"GlyphRenderer\"}],\"title\":{\"id\":\"1274\",\"type\":\"Title\"},\"toolbar\":{\"id\":\"1301\",\"type\":\"Toolbar\"},\"width\":1500,\"x_range\":{\"id\":\"1276\",\"type\":\"DataRange1d\"},\"x_scale\":{\"id\":\"1280\",\"type\":\"LinearScale\"},\"y_range\":{\"id\":\"1278\",\"type\":\"DataRange1d\"},\"y_scale\":{\"id\":\"1282\",\"type\":\"LinearScale\"}},\"id\":\"1273\",\"subtype\":\"Figure\",\"type\":\"Plot\"},{\"attributes\":{\"source\":{\"id\":\"1315\",\"type\":\"ColumnDataSource\"}},\"id\":\"1320\",\"type\":\"CDSView\"},{\"attributes\":{\"grid_line_color\":null,\"ticker\":{\"id\":\"1285\",\"type\":\"BasicTicker\"}},\"id\":\"1288\",\"type\":\"Grid\"},{\"attributes\":{\"source\":{\"id\":\"1321\",\"type\":\"ColumnDataSource\"}},\"id\":\"1326\",\"type\":\"CDSView\"},{\"attributes\":{},\"id\":\"1285\",\"type\":\"BasicTicker\"},{\"attributes\":{},\"id\":\"1335\",\"type\":\"UnionRenderers\"},{\"attributes\":{\"callback\":null},\"id\":\"1278\",\"type\":\"DataRange1d\"},{\"attributes\":{\"formatter\":{\"id\":\"1331\",\"type\":\"BasicTickFormatter\"},\"ticker\":{\"id\":\"1290\",\"type\":\"BasicTicker\"}},\"id\":\"1289\",\"type\":\"LinearAxis\"},{\"attributes\":{\"fill_color\":{\"value\":\"red\"},\"line_color\":{\"value\":\"white\"},\"size\":{\"units\":\"screen\",\"value\":7},\"x\":{\"field\":\"x\"},\"y\":{\"field\":\"y\"}},\"id\":\"1323\",\"type\":\"Scatter\"},{\"attributes\":{},\"id\":\"1337\",\"type\":\"UnionRenderers\"},{\"attributes\":{\"callback\":null,\"data\":{\"desc\":[\"\\uc788\\ub2e4\",\"\\ud504\\ub85c\\uc81d\\ud2b8\",\"\\uc74c\\uc545\",\"\\uc774\\ub3d9\",\"\\uc758\",\"\\uac83\",\"\\uc774\",\"\\ud1b5\\ud574\",\"\\uac10\\uac01\",\"\\ubbf8\\ub798\",\"\\uc218\",\"\\uae30\\uc220\",\"\\uc2e4\\ud5d8\",\"\\uc7a5\\uce58\",\"\\uadf8\",\"\\ud48d\\uacbd\",\"\\uc2dc\\uac01\",\"\\uacf5\\uac04\",\"ZER\",\"NE\",\"\\uc6b0\\ub9ac\",\"\\uc0c8\\ub86d\\ub2e4\",\"\\ud06c\\ub9ac\\uc5d0\\uc774\\ud130\",\"\\uac1c\\ub150\",\"\\uad6c\\uc131\",\"\\uc778\\uac04\",\"\\ub300\\ud55c\",\"\\uc778\\ub958\",\"\\ub77c\\uc774\",\"\\uc601\\uc0c1\",\"\\ubb3c\\uc9c8\",\"\\uc0c1\\uc0c1\",\"\\uc5f0\\uad6c\",\"\\uc791\\uc5c5\",\"\\ub2e4\\uc591\\ud558\\ub2e4\",\"\\uc81c\\ub85c\\uc6d0\",\"\\ud658\\uacbd\",\"\\uc790\\ub3d9\\ucc28\",\"\\uad00\\uac1d\",\"\\uc740\",\"\\uc790\\uc2e0\",\"\\ubbf8\\ub514\\uc5b4\",\"\\ub3d9\\uc2dc\",\"\\ubc29\\uc2dd\",\"\\ub4f1\",\"\\ub97c\",\"\\ubc0f\",\"\\uc6b4\\ub3d9\",\"\\uc131\\uacfc\",\"\\ud655\\uc7a5\",\"\\ud65c\\uc6a9\",\"\\uc2a4\\ud06c\\ub9b0\",\"\\uc77c\",\"\\uc5c6\\ub2e4\",\"\\uc9c0\\uc18d\",\"\\uc18c\\ub9ac\",\"\\uad6c\\uc870\",\"\\ub54c\",\"\\ub2e4\\ub978\",\"\\ubc29\",\"\\uc704\\ud574\",\"\\uc810\",\"Lab\",\"\\uc77c\\uc6d0\",\"\\ubaa8\\ube4c\\ub9ac\\ud2f0\",\"\\uc9c4\\ud589\",\"\\uacfc\\uc815\",\"\\ub9ac\\uc11c\\uce58\",\"\\uc791\\uac00\",\"\\uc5e0\\uc54c\\ub7a9\",\"\\uc548\\ub8cc\",\"\\ube5b\",\"\\uc2a4\\ud0c0\\ud2b8\\uc5c5\",\"\\ud611\\uc5c5\",\"\\uc2dd\\ud0c1\",\"\\ub370\\uc774\\ud130\",\"\\uc218\\ub2e8\",\"\\ub354\",\"\\ud604\",\"\\uc18d\",\"\\uc0ac\\ud68c\",\"\\uc138\\uacc4\",\"\\ub3d9\",\"\\uacbd\\ud5d8\",\"\\uac1c\",\"\\ubcf4\\ud3b8\",\"\\uc778\",\"\\uc870\\ud638\",\"\\uc601\",\"\\uc774\\uc7a5\\uc6d0\",\"\\ucd5c\\uc9c4\\ud6c8\",\"M\",\"\\uc774\\ubbf8\\uc9c0\",\"\\uac1c\\uc778\",\"\\ud0dc\\uc591\",\"\\uc778\\uacf5\",\"\\uc81c\\uc791\",\"\\uadfc\",\"\\uc548\",\"\\ud615\\uc2dd\",\"\\uc815\\ubcf4\",\"\\uae30\\ubc18\",\"\\uc874\\uc7ac\",\"\\uac00\\ub2a5\\ud558\\ub2e4\",\"\\uc601\\uac10\",\"\\uad6c\\ucd95\",\"\\ub9e4\\uccb4\",\"\\ubc15\\uc2b9\",\"\\uae30\\ub85d\",\"\\ubc15\",\"\\ud50c\\ub808\\uc774\",\"\\uce74\\uba54\\ub77c\",\"TRIPLE\",\"CORE\",\"\\uac12\",\"\\uc8fc\\uc81c\",\"\\ubaa9\\uc801\\uc9c0\",\"\\uc0ac\\uc774\",\"\\ud604\\uc7ac\",\"\\uc7a5\\uc18c\",\"\\ub85c\\ubd07\",\"\\uac00\\ub2a5\\uc131\",\"\\ub2a5\\ub825\",\"Sally\",\"\\uc9c0\\ub2a5\",\"\\uc0b6\",\"\\ud0d1\\uc2b9\",\"\\uc544\\ub2c8\\ub2e4\",\"\\uadf8\\ub807\\ub2e4\",\"\\uc5b4\\ub835\\ub2e4\",\"\\ud615\\ud0dc\",\"\\ubc1c\\ud45c\",\"\\uac19\\ub2e4\",\"\\uacf5\\uac1c\",\"\\uc124\\uce58\",\"\\uc0dd\\uac01\",\"\\uc77c\\uc0c1\",\"\\uc720\\uc9c0\",\"\\ubaa8\\ub4e0\",\"\\uc624\\ud508\\uc18c\\uc2a4\",\"\\ucc3d\\uc758\",\"\\uc608\\uc220\",\"\\ubd84\\uc57c\",\"\\ubc14\\ud0d5\",\"\\uc138\\uc0c1\",\"\\uc6b0\\uc8fc\",\"\\uc5d0\\ub108\\uc9c0\",\"\\uc704\",\"\\ubc29\\ud5a5\",\"\\uc5b4\\ub5bb\\ub2e4\",\"\\uad00\\ucc30\",\"\\uc18c\\uc7ac\",\"\\uc720\\ub2db\",\"\\uace1\",\"\\ud6a8\\uacfc\",\"\\uc7ac\\uc0dd\",\"\\uc2dc\\ub300\",\"\\uc2dc\\uac04\",\"\\ub3d9\\uc548\",\"\\uc790\\uc5f0\",\"\\ub300\\uc0c1\",\"\\uc8fc\\ud589\",\"\\uc778\\uc2dd\",\"OS\",\"\\uc2dc\\uac01\\uc608\\uc220\",\"\\uc791\\ud488\",\"\\uc774\\uc0c1\",\"\\ubc18\\uc601\",\"\\ucc28\\uc6d0\",\"\\uc678\",\"\\uc911\\uc2ec\",\"\\ubaa8\\ubc29\",\"\\ud601\\uc2e0\",\"\\uc0dd\\ud0dc\\uacc4\",\"\\uac01\\uc790\",\"\\uc77c\\uc885\",\"\\ub85c\\uc11c\",\"\\ub450\",\"\\uc0ac\\uc6b4\\ub4dc\",\"\\ud2b9\\uc815\",\"\\uc704\\uce58\",\"\\ubcc0\\ud658\",\"\\ubc1c\\uc0dd\",\"\\uc81c\",\"\\ud2b9\\uc131\",\"\\uc790\\uccb4\",\"\\uac00\\uce58\",\"\\uc0dd\",\"MATERIAL\",\"RESEARCH\",\"LAB\",\"\\uce21\\uba74\",\"\\uc608\\uc220\\uac00\",\"\\uc591\\uc219\\ud604\",\"\\ub2e5\\ub4dc\\uc815\",\"\\ud6c4\\ub2c8\",\"\\ud0b4\",\"\\uae40\\uc131\",\"\\uad00\\uc2ec\\uc0ac\",\"\\uc774\\ub4dc\",\"\\uac94\",\"\\uc790\\uc131\",\"\\uc720\\uccb4\",\"\\ucd08\\uc18c\",\"\\uc218\\uc131\",\"\\uc138\\ub77c\\ubbf9\",\"\\uc11c\\ud0b7\",\"\\uc804\\ub3c4\\uc131\",\"\\ud0c4\\uc18c\",\"\\ud50c\\ub8e8\\uc624\\ub974\",\"\\ucf00\\ud1a4\",\"\\uac01\\uc591\\uac01\\uc0c9\",\"\\ud638\\uae30\\uc2ec\",\"O\",\"P\",\"\\ub300\\ud45c\",\"\\ucd5c\",\"\\ucee4\\ubba4\\ub2c8\\ucf00\\uc774\\uc158\",\"\\ub0b4\\uae30\",\"\\ub9cc\\ucc2c\",\"\\uac01\",\"\\uc5b4\\ud50c\\ub9ac\\ucf00\\uc774\\uc158\",\"\\ud305\",\"\\ud5a5\",\"\\uc5ec\\uae30\",\"\\ucde8\\ud5a5\",\"\\ubba4\\uc9c1\\ube44\\ub514\\uc624\",\"\\uad00\",\"\\ubaa8\\ub2c8\\ud130\",\"\\uc74c\\uc545\\uac00\",\"for\",\"\\uac1c\\uc778\\ud654\",\"\\uc778\\ud130\",\"\\uc81c\\uc548\",\"\\uc2dc\\uc2a4\\ud15c\",\"\\uac10\\uc0c1\",\"\\uc2e0\\uccb4\",\"\\uc18c\\ud504\\ud2b8\",\"\\uc6c0\\uc9c1\\uc784\",\"\\ud6a8\\uc728\",\"\\uc678\\ubd80\",\"\\uc81c\\uacf5\",\"\\uc5ec\\ub7ec\",\"\\ub610\",\"\\uc694\\uc18c\",\"\\uc804\\uc2dc\",\"\\ubaa8\\uc2b5\",\"\\uc6b4\\uc1a1\",\"\\ud37c\\ud3ec\\uba3c\\uc2a4\",\"\\uc0b0\\uc5c5\",\"\\ud14c\\ud06c\\ub180\\ub85c\\uc9c0\",\"\\uc11c\\uc6b8\",\"\\uc988\",\"\\uc218\\ud589\",\"\\uc591\",\"\\uc544\\uce58\",\"\\ubaa8\\uc0c9\",\"\\uc2a4\\ub9c8\\ud2b8\",\"\\uc2dc\\ud2f0\",\"\\uad11\\uace0\",\"\\uac00\\uc9c0\",\"\\uc804\\ud658\",\"\\ubabb\",\"\\ucd5c\\ucd08\",\"\\uc561\",\"\\ube44\",\"\\uc870\\ud615\",\"\\uc0ac\\uc2e4\",\"\\uc911\\uc694\\ud558\\ub2e4\",\"\\uc0dd\\ubb3c\",\"\\uc124\\uacc4\",\"\\ud558\\ub098\",\"\\uc774\\uc6a9\",\"\\uac1c\\ubc1c\",\"\\uc791\\ub3d9\",\"\\ud654\\ub824\\ud558\\ub2e4\",\"\\uc0ac\\ub78c\",\"\\ub2e4\\uc790\",\"\\ud3ec\\ucc29\",\"\\ud65c\\ub3d9\",\"\\uc870\\uc0ac\",\"\\uc790\\ub8cc\",\"DAY\",\"\\ubb3c\\ub9ac\",\"\\ud0d0\\uad6c\",\"\\uccad\\uac01\",\"\\ucc44\\ub110\",\"\\ud45c\\ud604\",\"\\ud589\\uc131\",\"\\uadf8\\uac83\",\"\\ud654\\ud558\\ub2e4\",\"\\uc18d\\ub3c4\",\"\\ucd08\",\"\\ub85c\\ubd80\\ud130\",\"\\ud615\\uc131\",\"\\uc120\\ud0dd\",\"THE\",\"OF\",\"\\ub514\\uc2a4\\ud50c\\ub808\\uc774\",\"\\ub179\\uc0c9\",\"\\ucc3d\",\"\\uc774\\ubc88\",\"\\uc8fc\",\"\\uae40\\uc815\\ud0dc\",\"\\ud300\",\"\\uc5b4\\ub514\\uac00\",\"\\uc0ac\\uc6a9\",\"\\ub3c4\\ucd9c\",\"\\uba5c\\ub85c\\ub514\",\"\\uc911\\uac04\",\"AI\",\"\\uc791\\uace1\",\"\\ud504\\ub85c\\uadf8\\ub7a8\",\"\\uc785\\ub825\",\"\\uacf5\\ud1b5\",\"\\uc804\\ub2ec\",\"\\ud3b8\\uc774\",\"\\uc644\\uc131\",\"\\uac1c\\ubcc4\",\"\\ucd9c\\ubc1c\",\"\\uac70\\ub9ac\",\"\\uc774\\ud574\",\"\\ub2ec\\ub9ac\",\"\\uaf2d\",\"\\ud544\\uc694\",\"\\ucd94\\uc0c1\",\"\\uc0c1\\ud0dc\",\"\\uc720\\ub3d9\",\"\\uc720\\ub791\",\"\\uc608\\uce21\",\"\\uc131\\ud558\\ub2e4\",\"\\uc54c\\uace0\\ub9ac\\uc998\",\"\\ub4dc\\ub860\",\"\\uc13c\\uc11c\",\"\\uc9c4\\ud654\",\"\\uae30\\uacc4\",\"\\ucd09\\ubc1c\",\"\\uc774\\uc790\",\"\\ud558\\uc597\\ub2e4\",\"\\uc790\\uc728\",\"\\ucd09\\uac01\",\"\\uc2e4\\uc2dc\\uac04\",\"\\ub0b4\\ubd80\",\"\\uc13c\\uc2f1\",\"\\uc801\",\"\\ub3c4\\uc2dc\",\"\\ubcc0\\ud654\",\"\\uccab\",\"\\uacf3\",\"\\uc5f0\\ucd9c\",\"Music\",\"SCREEN\",\"G\",\"\\uc544\\uc774\\ub514\",\"\\uc158\",\"\\uc544\\ub974\\ud0a4\\uba54\\ub370\\uc2a4\",\"\\uc9c0\\uad6c\",\"ms\",\"ERA\",\"\\uc0ac\\uc6a9\\uc790\",\"\\uc2a4\\uc2a4\\ub85c\",\"\\ubaa8\\ub450\",\"\\uc8fc\\uc694\",\"\\ubaa8\\ud2f0\\ud504\",\"\\ub178\\ub3d9\",\"\\uadf9\\uc7a5\",\"\\ub2e4\\uc218\",\"\\uc774\\ub984\",\"\\ud3ec\\uc7a5\",\"\\uc758\\ubbf8\",\"\\ubd88\\uac00\\ub2a5\\ud558\\ub2e4\",\"\\ube44\\uad50\",\"\\uc791\",\"\\ucf54\\ub4dc\",\"\\uc778\\ud130\\ub137\",\"\\ud3b8\\uc7ac\",\"\\uc6b4\\uc804\\uc790\",\"\\ub2f9\\uc5f0\\ud558\\ub2e4\",\"\\ubb34\\uac00\\uce58\\ud558\\ub2e4\",\"\\ub04a\\uc784\\uc5c6\\ub2e4\",\"\\uc790\\uadf9\",\"\\uc0c8\",\"\\uc9c0\\uae08\",\"\\ucc3d\\uc758\\uc131\",\"\\ud658\\uc0c1\",\"R\",\"\\ud68d\\ub4dd\",\"\\uc544\\uc774\\ub514\\uc5b4\",\"\\uace0\\ubbfc\",\"\\uad00\\ub828\",\"\\uc0ac\\ub840\",\"\\uc55e\\uc11c\",\"\\uc18c\\ud1b5\",\"\\ud574\",\"\\ud0a4\",\"\\uc624\\uc2a4\",\"\\uc18c\\uac1c\",\"\\uc54c\",\"\\ud574\\uc11d\",\"MUSIC\",\"\\uc778\\uc2a4\\ud1a8\\ub808\\uc774\\uc158\",\"\\uac89\\ubcf4\\uae30\",\"\\uc5ed\\ud589\",\"\\ucc9c\\uccb4\",\"\\uc911\",\"\\ud611\\ud654\",\"\\uc6d0\\ud615\",\"\\uc2a4\\ud53c\\ucee4\",\"\\uc77c\\uc815\\ud558\\ub2e4\",\"\\uc2dc\\ud55c\",\"\\uacc4\\uc18d\",\"\\ubaa8\\ub4dc\",\"\\uc2e0\",\"\\ubaa8\\ub358\",\"\\uccad\\uc0c9\",\"\\ud54f\",\"FIT\",\"\\uc21c\\uc740\",\"NeuroScape\",\"\\uc62c\\ud574\",\"\\ucc38\\uc5ec\",\"\\uac10\",\"\\uc5d4\\ud130\\ud14c\\uc778\\uba3c\\ud2b8\",\"\\ub9ac\\uc2a4\\ud2b8\",\"\\ubd84\\uc11d\",\"\\uc2a4\\ucf00\",\"\\uc774\\ud504\",\"\\uc2e0\\uacbd\\ub9dd\",\"\\uc21c\\uc758\",\"\\uc2a4\\ud2b8\\ub9ac\\ubc0d\",\"\\uae30\\ubd84\",\"\\uc21c\\uac04\",\"\\ud654\\uba74\",\"\\uc544\\ub984\\ub2f5\\ub2e4\",\"\\ucd2c\\uc601\",\"MAGAZINE\",\"\\uc6f9\",\"\\ub514\\uc790\\uc778\",\"\\uad00\\uc2ec\",\"\\uac70\\ub098\",\"\\uc775\\uc219\\ud558\\ub2e4\",\"\\ucd5c\\ubcd1\\uc77c\",\"\\uac80\\ub2e4\",\"\\uad00\\uacc4\",\"\\uc804\",\"\\uc8fc\\ubaa9\",\"\\ucc28\",\"\\ubaa8\\ub378\",\"\\uace0\\uc720\",\"\\uc778\\ud558\\ub2e4\",\"\\uc774\\ub807\\ub2e4\",\"\\uc8fc\\ub85c\",\"\\uac15\\ud558\\ub2e4\",\"\\ub2e4\\ub974\\ub2e4\",\"\\uc5b4\\ub5a0\\ud558\\ub2e4\",\"\\ub7ec\\ub2dd\",\"\\uc8fc\\ubcc0\",\"TRANSCAPE\",\"CHAIR\",\"\\uc758\\uc790\",\"\\uc624\\ub958\",\"\\uc218\\uba85\",\"\\uc5f0\\uc7a5\",\"\\ud638\\ucd9c\",\"\\ud3ec\\ud568\",\"\\uacf5\",\"\\uad8c\\ub2a5\",\"\\ud5c8\\uad6c\",\"\\uac70\\ub4ed\",\"\\ud55c\\ud3b8\",\"\\uc9d1\\ub2e8\",\"\\uc99d\\uc2dd\",\"\\uac8c\\uc784\",\"\\ubc15\\uc131\\ubbfc\",\"\\uacf5\\uc720\",\"\\ucc3d\\uc791\",\"Vehicles\",\"\\ucd1d\",\"\\uc0c1\\uc9d5\",\"\\uc5d0\\uc774\",\"\\uc544\\uce74\\uc774\\ube0c\",\"\\ud504\\ub9ac\\uc820\\ud14c\\uc774\\uc158\",\"\\uc5f0\",\"\\uacc4\",\"TO\",\"\\uc608\\uc815\",\"\\uc2dc\\ub3c4\",\"\\uadfc\\uc6d0\",\"\\ud2b9\\uc815\\ud558\\ub2e4\",\"\\ud604\\uc2e4\",\"\\ucc28\\ub2e8\",\"\\uc810\\uc810\",\"\\uc790\\uc544\",\"VOLUMETRIC\",\"DATA\",\"COLLECTOR\",\"\\uc0ac\\ubb3c\",\"\\uad6c\\ub984\",\"POINT\",\"CLOUD\",\"\\uad50\\ud658\",\"\\ud14c\\uc2a4\\ud2b8\",\"\\uacb0\\ud569\",\"\\ud0d0\\ubc29\",\"\\ub3d9\\ud589\",\"\\ub3c4\",\"\\uc751\\uc6a9\",\"\\uc81c\\uac70\",\"\\uacb0\\ud569\\ud568\",\"\\uc804\\ud600\",\"\\uae30\\uacc4\\ub85c\",\"\\ub300\\uc2e0\",\"\\uc790\\ucc98\",\"\\uaddc\\uc815\",\"\\uc9c0\\uac01\",\"\\ubbf8\\uce58\\ub2e4\",\"\\uc601\\ud5a5\",\"\\ube45\\ub370\\uc774\\ud130\",\"\\ub300\\ud574\",\"\\uc9c8\\ubb38\",\"\\uc544\\ub974\",\"\\uc2a4\",\"\\uc5d8\\ub809\\ud2b8\\ub85c\\ub2c8\\uce74\",\"\\ud398\\uc2a4\\ud2f0\\ubc8c\",\"PRACTICE\",\"ART\",\"TECHNOLOGY\",\"\\ub144\",\"\\ud3b8\\ub9ac\\ud558\\ub2e4\",\"\\ud3c9\\ub4f1\\ud558\\ub2e4\",\"\\ud574\\ub2f5\",\"\\uc0c1\\uc815\",\"\\ub300\",\"\\uadf8\\ub8f9\",\"\\uc138\",\"\\uad00\\uc810\",\"\\uc8fc\\uc778\\uacf5\",\"\\uadf9\\ub2e8\",\"\\uadfc\\uac70\",\"\\uacc4\\uae09\",\"\\ubb38\\uc81c\",\"\\uc18c\\uc218\",\"\\uc8fc\\uc9c0\",\"\\ucc28\\ub840\",\"\\ud5a5\\uc720\",\"\\uacc4\\uce35\",\"\\uc9c4\\ub2e8\",\"\\uacf5\\uc555\",\"\\ubcf4\\uc870\",\"\\uc801\\uce35\",\"\\uad6d\\ub0b4\",\"\\ubd99\\uc774\",\"\\uc544\\ubb34\\ub807\\ub2e4\",\"\\uc9c0\\uae08\\uaecf\",\"MIT\",\"RAPID\",\"LIQUID\",\"PRINTING\",\"\\ud30c\",\"DERIVATIVE\",\"\\uc138\\ubd80\",\"\\uc0c1\\uc774\",\"\\uc0c1\\ub2f9\\ud558\\ub2e4\",\"\\uc720\\uc0ac\\ud558\\ub2e4\",\"\\uc774\\uc804\",\"\\uc124\\uacc4\\ub3c4\",\"\\uc0c1\",\"\\uc9c0\",\"\\uc5fd\",\"\\uc870\\ud569\",\"\\uae30\\uc0ac\",\"\\ub9e4\\uc77c\",\"\\ud0c0\\uace0\",\"\\ub300\\uc911\\uad50\\ud1b5\",\"\\ud55c\\uad6d\",\"\\uc548\\uc815\",\"\\uac70\\uc8fc\",\"\\uba40\\ub2e4\",\"\\ub9cc\\ub4e4\\uae30\",\"\\ud574\\uac08\",\"\\uc9d1\\ucc29\",\"\\ub85c\\uc6c0\",\"\\ub2ec\\ucf64\\ud558\\ub2e4\",\"\\uc18c\\ube44\",\"\\ub9e4\\ub825\",\"\\ubcf4\\uc218\",\"\\uc811\\uadfc\\uc131\",\"\\ub9ce\\ub2e4\",\"\\uc9c4\\uc785\",\"\\uc7a5\\ubcbd\",\"\\ud604\\uc800\",\"\\ub3c5\\ucc3d\",\"\\uc131\\uc740\",\"\\uc5b4\\ub290\",\"\\uc815\\ub3c4\",\"\\ub77c\\uc774\\uc13c\\uc2a4\",\"\\uc758\\uac70\",\"ATTRIBUTION\",\"NONCOMMERCIAL\",\"SHAREALIKE\",\"INTERNATIONAL\",\"CC\",\"BY\",\"NC\",\"SA\",\"\\uc2e4\\ubb34\",\"\\uc0dd\\ud0dc\",\"\\ubaa8\\uc784\",\"Creative\",\"Ecosystem\",\"Research\",\"Network\",\"d\",\"\\uc624\\ud508\",\"\\uc774\\ub178\\ubca0\\uc774\\uc158\",\"\\ube44\\uc988\\ub2c8\\uc2a4\",\"\\uc0c1\\ud638\",\"\\uc758\\uc874\",\"\\uc591\\uc0c1\",\"\\uc9c0\\uc18d\\uac00\\ub2a5\\uc131\",\"\\ud5c8\\ube0c\",\"\\uc804\\ubc18\",\"\\uc21c\\ud658\",\"\\ubc29\\ubc95\",\"\\uad6c\\uccb4\",\"\\ub2e4\\uc74c\",\"\\uccab\\uc9f8\",\"\\uad00\\uacc4\\ub3c4\",\"\\ub458\\uc9f8\",\"\\ud611\\ub825\",\"\\uae30\\uad00\",\"\\uc14b\\uc9f8\",\"\\ub2f9\\uc0ac\\uc790\",\"\\uc778\\ud130\\ubdf0\",\"\\uc9d1\",\"\\ub370\",\"\\uac00\\uc774\\ub4dc\",\"\\uc5ed\\ud560\",\"\\uc904\",\"\\uae30\\ub300\",\"\\uadf8\\uac04\",\"\\ub0b4\\uc6a9\",\"\\uc774\\ub3d9\\uc2dd\",\"\\uac04\\ub7b5\\ud558\\ub2e4\",\"\\uc528\",\"\\ub124\\ud2b8\\uc6cc\\ud06c\",\"\\uc774\\ub3d9\\ud615\",\"\\ubaa8\\uba58\\ud140\",\"MOMENTUM\",\"\\uc7ac\",\"INSTALLATION\",\"\\uc21c\",\"\\uc804\\ud615\\uc0b0\",\"\\uc131\\uc758\",\"\\uc2dc\",\"\\uc21c\\ud589\",\"\\ucc28\\uc6a9\",\"\\uad00\\uce21\",\"\\ud589\\uc131\\uacc4\",\"\\ub0b4\",\"\\ubc18\\ub300\",\"\\ucc29\\uc2dc\\ud604\\uc0c1\",\"\\ud558\\ub098\\ub85c\",\"CONSONANCE\",\"\\ubd88\",\"DISSONANCE\",\"\\uc2ec\\uc0c1\",\"AUDITORY\",\"IMAGE\",\"\\uc11c\\ub77c\\uc6b4\\ub4dc\",\"\\uad6c\",\"\\uc870\\ubb3c\",\"\\uac00\\uc6b4\\ub370\",\"\\ud68c\\uc804\",\"\\uc9c0\\ud5a5\\uc131\",\"\\uc2e0\\ud638\",\"\\ub300\\ub9bd\",\"\\uc870\\ud654\",\"\\uacfc\\ud559\",\"\\uc2dc\\ud0b4\",\"\\uc74c\\ud5a5\",\"\\ub300\\ud558\",\"\\uad00\\uacc4\\uc131\",\"\\ub2e4\\uc2dc\\uae08\",\"\\ud33d\\ud33d\",\"\\uae34\\uc7a5\",\"\\uc2dc\\uc791\",\"JODK\",\"\\uacf5\\uc911\",\"\\uc2dc\\uac04\\ud45c\",\"\\ud6c4\",\"\\ubcc4\",\"\\uace0\\ud5a5\",\"\\uc57d\",\"\\ud5c8\\ub2c8\",\"\\ubc84\\ud130\",\"\\ud3ed\\ub825\",\"\\uc11c\\ud074\",\"\\ub2e4\\uc774\\uc5b4\\ud2b8\",\"\\uc0b4\",\"\\ub2f9\\uc2e0\",\"\\ucc98\\uc74c\",\"\\uc774\\ub2e4\",\"\\ud3c9\\ud654\",\"\\ub310\",\"\\uace0\\uc815\",\"\\ub354\\ud2f0\",\"\\ub304\\uc2f1\",\"\\ud504\\ub85c\",\"\\uc81d\\uc158\",\"\\uc77c\\ucd09\\uc989\\ubc1c\",\"\\ub0a8\\ubd81\\ud55c\",\"\\uae09\\ubcc0\",\"\\ub3d9\\ubd81\\uc544\",\"\\ud55c\\ubc18\\ub3c4\",\"\\uac00\\uc57c\",\"\\uae38\\ub2e4\",\"\\ucf5c\\ub4dc\",\"\\ud558\\ub4dc\",\"\\uce90\\uc2dc\",\"\\ud22c\\uc2dc\\ub3c4\",\"\\uc9c0\\uc815\\ud559\\uc801\",\"\\ub354\\uc6b1\\ub354\",\"\\uac15\\ub825\\ud558\\ub2e4\",\"\\uc724\\uc2ec\\ub355\",\"\\uc790\\uc0b4\",\"\\ubbf8\\ub9ac\",\"\\ub9e4\\ud639\",\"\\uc9c0\\uc911\\ud574\",\"\\uba54\\ub274\",\"\\ud2b8\\uc717\",\"\\uc218\\uc9c0\",\"\\uc6e1\",\"WORLD\",\"SUZIE\",\"WONG\",\"\\uad6d\\ubbfc\",\"\\uc5ec\\ub3d9\\uc0dd\",\"\\uc2ec\\ub9ac\",\"\\uc774\\uc6c3\",\"Y\",\"K\",\"\\uc138\\uae30\\ub9d0\",\"\\uacf5\\ud3ec\",\"\\uc720\\ub9ac\",\"\\uad6d\\uc801\",\"TRANSNATIONAL\",\"\\uce74\\uce74\\uc624\",\"\\ud0dd\\uc2dc\",\"\\uc9c4\\uc815\",\"\\uc624\\ub298\",\"\\ubc24\",\"\\uc1fc\",\"\\ud0b9\\ucf69\",\"\\uae00\\ub85c\\ubc8c\",\"\\ube44\\ub2c8\",\"\\ubca0\\uc774\\ube44\",\"\\ub208\",\"\\ubc8c\",\"\\uc5c5\",\"\\ud30c\\ub178\\ub77c\\ub9c8\",\"\\ud55c\\uc778\",\"\\ucc9c\\uc7ac\",\"\\uc18c\\ub140\",\"\\uace8\\ub4e0\",\"\\ud0c0\\uc784\",\"\\uc2ec\\uacbd\",\"\\uace0\\ubc31\",\"\\uc708\\ub3c4\\uc6b0\",\"\\uac15\\uc544\\uc9c0\",\"\\ub0a8\\ub2e4\\ub974\\ub2e4\",\"\\uac70\\uc2e4\",\"\\ud654\\uc7a5\\uc2e4\",\"\\ud669\\uae08\",\"\\ubd80\\uc5cc\",\"\\uc815\\uc6d0\",\"\\ubb34\\ub8cc\",\"\\ud3c9\\uac00\\ud310\",\"\\ub85c\\ub610\",\"\\ubc88\\ud638\",\"TRANSMEDIALITE\",\"\\uc544\\uc2dc\\uc548\",\"ASIAN\",\"\\ucf54\\ub9ac\\uc548\",\"KOREAN\",\"\\ub274\",\"\\ub85c\\uc2a4\",\"\\ucf00\\uc774\\ud504\",\"\\uc811\\ubaa9\",\"Mobility\",\"N\",\"\\uac00\\uc7a5\",\"\\ubab0\\uc785\",\"\\ub6f0\\uc5b4\\ub098\\ub2e4\",\"\\ucc29\\uc548\",\"\\uae30\\ubcf8\",\"\\uc804\\ub7b5\",\"\\ub9c8\\uc8fc\",\"\\ub799\\ud2f0\\ube0c\",\"\\ud2b9\\ud654\",\"\\ucd95\",\"\\ub098\",\"\\ucc3d\\uace0\",\"\\uad6c\\uc11d\",\"\\ubcbd\",\"\\ud750\\ub9bf\",\"\\ucc45\\uc0c1\",\"\\uc120\\uba85\\ud558\\ub2e4\",\"\\uc7a5\\ube44\",\"\\uc544\\ub0a0\\ub85c\\uadf8\",\"TV\",\"\\ucf67\\ub178\\ub798\",\"\\uc88b\\ub2e4\",\"\\ud478\\ub978\",\"\\ud558\\ub298\",\"\\ud65c\\uacf5\",\"\\uc790\\uc720\",\"\\ub9cc\\ub07d\",\"\\ub0a0\\uac1c\",\"\\ubbf8\\ub3d9\",\"\\uc2e4\\ud604\",\"\\ub300\\uc758\",\"\\uad50\\uc9c1\",\"\\uc9c0\\ud615\\ub3c4\",\"\\ub3d9\\ucc38\",\"\\uc5f0\\uccb4\\ub3d9\\ubb3c\",\"\\ucc38\\uc870\",\"\\ubd80\\ub4dc\\ub7fd\\ub2e4\",\"\\uc7ac\\ub8cc\",\"\\ud718\",\"\\uc720\\uc5f0\\ud558\\ub2e4\",\"\\ud559\\uc220\",\"\\uc0c1\\ud488\",\"\\ucd08\\uae30\",\"\\ub2e8\\uacc4\",\"\\ud615\\uc0c1\",\"\\uc6d0\\ub9ac\",\"\\uc758\\ub3c4\",\"\\uacbd\\uc6b0\",\"\\uac00\\ub839\",\"\\uc0dd\\uccb4\\ubaa8\\ubc29\",\"Bio\",\"Mimicry\",\"\\uc720\\uae30\\uccb4\",\"\\uc12c\\ub729\\ud558\\ub2e4\",\"\\ud765\\ubbf8\\ub86d\\ub2e4\",\"\\uc774\\ub7ec\\ud558\\ub2e4\",\"\\uc591\\uba74\",\"\\uc624\\ub978\",\"\\ubb3c\\uccb4\",\"\\ud604\\uc8fc\\uc18c\",\"\\ub514\\uc790\\uc774\\ub108\",\"\\uc544\\ud2b8\",\"\\uc601\\uc5ed\",\"\\uc628\",\"\\uc18c\\uac70\",\"\\uc55e\",\"\\ub3c4\\ub798\",\"\\uc811\\ucd09\",\"\\ub9e4\",\"\\uac1c\\uc810\",\"\\uc81c\\ub85c\",\"\\uc218\\uc9d1\",\"\\ucc28\\ub7c9\",\"\\uc804\\uba74\",\"\\ub530\\ub77c\\uc11c\",\"\\uacbd\\ub85c\",\"\\uc0c1\\ud669\",\"\\uc790\\uc720\\ub86d\\ub2e4\",\"\\uc778\\uc9c0\",\"\\ubd80\\uc870\\ud654\",\"\\ud604\\uc0c1\",\"\\ub300\\ucc45\",\"\\ube0c\\ub79c\\ub529\",\"\\uac00\\ub054\",\"\\uc5ec\\ud589\",\"\\ub0af\\uc120\",\"\\ud3c9\\uc18c\",\"\\ubcf4\\uace0\",\"\\uadf8\\ub85c\",\"\\uc2a4\\uc704\\uce58\",\"\\ub178\\ucd9c\",\"\\uc2b9\\uc6a9\\ucc28\",\"\\uc790\\uc804\\uac70\",\"\\uc0ac\\uc801\",\"\\uc0dd\\uae30\",\"\\ucd9c\\ud558\",\"\\uc758\\uc9c0\",\"\\ud6c4\\uac01\",\"\\ubcf5\\ud569\",\"\\uc791\\uc6a9\",\"\\ube44\\ub85c\\uc18c\",\"\\ub0bc\",\"\\uccad\",\"\\ud574\\uc0c1\\ub3c4\",\"\\uba38\\uc2e0\",\"\\ud559\\uc2b5\",\"\\ud1b5\",\"\\ub514\\uc9c0\\ud138\",\"\\ucc28\\uc774\",\"\\uc911\\uc778\",\"\\ub79c\\ub4dc\",\"\\uc5b4\\ud504\",\"\\ub85c\\uce58\",\"V\",\"\\ub85c\",\"\\uac01\\ub3c4\",\"\\ub808\\uc77c\",\"\\uc88c\\uc6b0\",\"\\uacc4\\uae30\",\"\\ubc1c\\uba85\\ud488\",\"\\uc218\\uc815\",\"\\ud575\\uc2ec\",\"\\uc815\\uc758\",\"\\ubcf4\\uc644\",\"\\uc99d\\uba85\",\"\\ubc18\\ubcf5\",\"\\uc77c\\ubd80\",\"\\uc774\\uc5b4\\ub3c4\",\"\\ub354\\uc6b1\",\"\\uc218\\ub3c4\",\"\\ubb38\\uc790\",\"\\ud55c\\uacc4\",\"\\ud798\\ub4e4\\ub2e4\",\"\\ubd80\\ub958\",\"\\uad8c\\ud55c\",\"\\ub824\\uace0\",\"\\ub178\\ub825\",\"\\uad8c\\ub825\",\"\\ubb34\\uc801\",\"\\ubd80\\uc5ec\",\"\\uc0dd\\uc0b0\",\"\\ubc1c\\uacac\",\"\\uac31\\uc2e0\",\"\\ubcf8\\uc9c8\",\"\\uc784\",\"\\uc5ed\\uc124\",\"\\uc2e4\\ud328\\ud558\\ub2e4\",\"\\uc720\",\"\\ub300\\uac10\",\"\\ubb34\\uc7a5\",\"\\ubcf4\\ud638\",\"\\uc544\\ub798\",\"\\uc885\",\"\\uc815\\uccb4\",\"\\uc2e4\\ud328\",\"\\uc790\\uc874\",\"\\uac04\\uadf9\",\"\\uacb0\\uc5ec\",\"\\uadf9\\ubcf5\",\"\\uc9c0\\uc2dc\",\"\\uadf8\\ub300\\ub85c\",\"\\ud30c\\ud3b8\",\"\\ubcf5\\uc81c\",\"\\uc774\\ub860\",\"\\ubb34\\ud55c\",\"\\ub098\\ub77c\\uace0\",\"\\uc6d0\\ubcf8\",\"\\ubcf4\\uc874\",\"\\ubb34\\uc5c7\",\"\\ucd94\\ucd9c\",\"\\uc5c5\\ub85c\\ub4dc\",\"\\uc774\\ud6c4\",\"\\ud654\\uc11d\",\"\\ub300\\ube44\",\"\\uc644\\uc804\\ud558\\ub2e4\",\"\\uc804\\uc790\\uc74c\\uc545\",\"\\uc9c0\\ud5a5\",\"\\ud14c\\ub9c8\",\"\\uc624\\ud1a0\\ubc14\\uc774\",\"\\ube44\\ud589\\uae30\",\"\\uac10\\ud765\",\"\\uc0c1\\uae30\",\"\\ube0c\\ub77c\\uc774\\uc5b8\",\"\\uc774\\ub178\",\"Brian\",\"Eno\",\"\\uc74c\\ubc18\",\"Airports\",\"\\uc21c\\uc774\",\"\\uac01\\uac01\",\"\\ub300\\uc911\",\"\\uc74c\\uc6d0\",\"\\uc0ac\\uc804\",\"\\ud589\\uc0ac\",\"\\ud604\\uc7a5\",\"\\ubc18\\uc751\",\"\\uc870\\uc815\",\"\\uc989\\ud765\",\"\\uc791\\uc790\",\"\\ub3d9\\ub4f1\",\"\\uc2dc\\uacf5\\uac04\",\"\\uc9d1\\uc911\",\"\\uc774\\uba74\",\"\\ubcc0\\ud601\",\"\\uc7ac\\ud604\",\"\\uac01\\uc885\",\"\\uc774\\uc288\",\"D\",\"\\uc8fc\\uc81c\\uac00\",\"\\ud22c\\uc601\",\"\\uae30\\uc874\",\"\\uae30\\ub2a5\",\"\\uac70\\ub300\\ud558\\ub2e4\",\"\\ub514\\ubc14\\uc774\\uc2a4\",\"COMPUTER\",\"VISION\",\"INFORMATION\",\"RETRIEVAL\",\"\\ucd5c\\uc2e0\",\"\\ub525\",\"VISUAL\",\"OBJECT\",\"SOUND\",\"MAPPING\",\"SPEECH\",\"RECOGNITION\",\"MULTI\",\"MODALITY\",\"\\uac04\\uc758\",\"\\uc720\\uae30\",\"\\uc0c1\\uc0dd\",\"\\uc911\\uc774\",\"\\ub3c5\\ub9bd\",\"\\ub7a9\",\"\\uc2a4\\ud29c\\ub514\\uc624\",\"\\uc804\\ubb38\\uac00\",\"\\ub178\\ud2b8\",\"\\uc11c\\uc801\",\"\\ucc38\\uace0\",\"\\ud3ec\\ub9f7\",\"\\uae30\\uac04\",\"\\uc9c1\\uc811\",\"\\ud0a4\\ub178\\ud2b8\",\"\\uc6c0\\uc9c1\",\"\\ucda9\\ubd84\\ud558\\ub2e4\",\"\\ub9c9\\ub300\",\"\\ub9d0\",\"\\uc800\",\"\\uba40\\ub9ac\",\"\\uc70c\\uc2a8\",\"\\uacfc\",\"\\uad6c\\uba4d\",\"\\uc6b4\\uc601\",\"\\uc0ac\\uc720\",\"\\uc218\\uc18c\",\"\\uc804\\uc9c0\",\"\\ub354\\ud558\\ub2e4\",\"\\ud558\\ub4dc\\uc6e8\\uc5b4\",\"\\ud53d\\uc140\",\"\\ubaa8\\ub4c8\",\"\\uc5f0\\ub3d9\",\"\\ubcf4\\ud1b5\",\"\\uacbd\\uc81c\",\"\\ub17c\\ub9ac\",\"\\uc6b4\\uc6a9\",\"\\uba85\",\"\\ubcc0\\uc218\",\"\\uc989\",\"\\ucd9c\\ub825\",\"\\ud56d\",\"\\ud48d\\ubd80\\ud558\\ub2e4\",\"\\uc624\",\"\\ub3c5\",\"\\uc2dc\\ucc28\",\"\\uacf5\\uc874\",\"\\uacfc\\uac70\",\"\\uacb9\",\"\\uacbd\",\"\\uccb4\",\"\\uc2e0\\ube44\",\"\\uadf9\\ub300\",\"\\ubcf5\\uc7a1\\ud558\\ub2e4\",\"\\uc8fc\\uccb4\",\"\\uc18c\\uc2e4\",\"\\uc65c\\uc18c\\ud558\\ub2e4\",\"\\uc7ac\\uace0\",\"\\uae30\\ud68d\",\"\\uc0b0\\uc5c5\\ud654\",\"\\uc2dc\\uacc4\",\"\\ubc18\\uba74\",\"\\ucd95\\uc758\",\"\\uae30\\uc6b8\\uae30\",\"\\uacc4\\uc808\",\"\\uba85\\uc758\",\"\\ud558\\ub8e8\",\"\\uae30\\uc900\",\"\\uc2a4\\ub0c5\\uc0f7\",\"\\uc5ee\",\"\\ub3d9\\uae30\\ud654\",\"\\ub610\\ud55c\",\"\\uc57c\\uac04\",\"\\uae38\\uc774\",\"\\uc77c\\uce58\",\"\\uc5b8\\uc81c\",\"\\uc5b4\\ub514\",\"\\uc11c\\ub098\",\"\\uc801\\uc6a9\",\"\\ud45c\\uba74\",\"\\uc218\\ub834\",\"\\ub4ef\",\"\\uacf5\\ud3c9\\ud558\\ub2e4\",\"\\uc2e0\\ub8b0\",\"\\uc5f0\\uacb0\\ud558\\ub2e4\",\"\\uc0dd\\uba85\",\"\\uc9c8\\uc11c\",\"\\ub9ac\\ub4ec\",\"\\uc870\\uc728\",\"\\ucc98\\ub7fc\",\"\\uae30\\uc800\",\"WILSON\",\"\\uc778\\uaca9\",\"\\ub300\\ucc99\\uc810\",\"\\uc624\\ud788\\ub824\",\"\\uc810\\uc720\",\"\\uc624\\ube0c\",\"\\uc2e4\\uccb4\",\"\\ubaa8\\uc158\",\"\\uae30\\ubc95\",\"VR\",\"\\uccb4\\ud5d8\",\"\\uc870\\uc6b0\",\"\\uac00\\uc0c1\",\"\\uc2e4\\uc81c\"],\"x\":[-1.9806187152862549,8.163358688354492,6.93550968170166,5.2474870681762695,22.909379959106445,30.99063491821289,-41.87116241455078,12.046041488647461,-6.392434120178223,-4.677464962005615,-4.113314151763916,-0.1902657151222229,-2.218370199203491,19.770387649536133,-7.480465888977051,-18.128793716430664,51.84011459350586,-3.751302719116211,11.343059539794922,14.150389671325684,12.477049827575684,41.5714225769043,-24.339996337890625,-21.657014846801758,-41.79704284667969,-33.228233337402344,64.55636596679688,-55.523048400878906,65.78106689453125,-0.5769502520561218,-23.948381423950195,51.250213623046875,-11.730480194091797,-10.78085994720459,14.623748779296875,11.570364952087402,-39.257144927978516,42.06459426879883,-28.415435791015625,-15.588255882263184,3.2455391883850098,-19.169269561767578,40.89469909667969,-8.32762336730957,-19.959644317626953,-68.7231674194336,-10.526562690734863,-9.047499656677246,-140.8376007080078,46.46675491333008,62.90272903442383,-29.17586326599121,1.912972331047058,4.898646354675293,5.188539505004883,35.00975036621094,33.50592041015625,-23.429628372192383,39.27333450317383,14.53007698059082,-26.144140243530273,-35.44509506225586,22.26429557800293,40.82444381713867,37.67966842651367,-36.37705612182617,3.706376552581787,6.7862372398376465,-10.762474060058594,44.8680534362793,-22.793716430664062,-26.31747055053711,4.157885551452637,9.10317611694336,17.36468505859375,43.91444778442383,-62.468746185302734,-14.137154579162598,-68.72149658203125,-3.719505548477173,40.96829605102539,11.039002418518066,29.309864044189453,-43.093666076660156,-17.8618106842041,65.07518005371094,42.81053924560547,42.66573715209961,42.560672760009766,-68.4576644897461,42.00088882446289,-15.08326530456543,15.885967254638672,4.856400489807129,-39.84431838989258,-59.49491500854492,-30.929338455200195,6.397437572479248,12.62004280090332,4.078038692474365,-42.78148651123047,8.41413688659668,-57.01780700683594,6.46658992767334,67.67387390136719,60.2512092590332,-51.464900970458984,-50.77967834472656,67.51122283935547,-70.1253890991211,-12.14269733428955,-19.115463256835938,-53.713584899902344,-53.57866287231445,-29.1763916015625,-27.68472671508789,-55.2736930847168,10.851163864135742,-52.264591217041016,-47.5772705078125,60.27733612060547,-40.23690414428711,-56.36822509765625,3.1545839309692383,-59.4832649230957,3.668060541152954,13.209952354431152,43.67596435546875,0.25615668296813965,13.575824737548828,-29.56564712524414,16.816997528076172,-6.291564464569092,-34.622947692871094,40.78242492675781,-0.38321980834007263,-7.534121513366699,-43.843177795410156,-45.06047058105469,-20.802457809448242,-13.427876472473145,7.691310405731201,-49.5299186706543,35.29235076904297,-51.44807434082031,-37.31588363647461,-35.334049224853516,-15.247204780578613,-8.42562198638916,25.23996353149414,67.16421508789062,15.771086692810059,-66.61425018310547,-33.25037384033203,-25.69330596923828,-55.945255279541016,66.49910736083984,52.48045349121094,-23.827991485595703,-14.792265892028809,23.527713775634766,42.743247985839844,23.923587799072266,33.85440444946289,-7.45078182220459,36.61096954345703,4.263652324676514,-28.188507080078125,-13.687018394470215,21.853900909423828,-2.5706584453582764,-50.63719177246094,-44.906402587890625,30.175569534301758,38.00361251831055,-5.58040714263916,39.563419342041016,-68.40370178222656,3.1760427951812744,-49.85034942626953,19.75061798095703,-22.61722755432129,12.294508934020996,40.71663284301758,24.14504623413086,37.102298736572266,-26.972393035888672,-9.745112419128418,-18.186189651489258,-18.47319221496582,-19.062904357910156,66.76890563964844,67.52153015136719,44.17011260986328,43.67068862915039,43.4742546081543,43.40034484863281,-68.50877380371094,-69.96200561523438,-68.66790008544922,-68.98043060302734,-68.42436981201172,-67.95386505126953,-68.2259521484375,-67.52332305908203,-26.172338485717773,-24.906410217285156,-24.927154541015625,-20.919015884399414,-19.900331497192383,-19.067119598388672,-18.09317398071289,-16.023136138916016,1.9861630201339722,2.4912807941436768,2.874828338623047,3.828887462615967,5.6258416175842285,17.45802116394043,4.913358688354492,4.559323787689209,-66.68484497070312,-66.7289047241211,-27.837121963500977,39.774436950683594,-30.06023597717285,-25.478885650634766,-26.269617080688477,-25.230247497558594,-50.257118225097656,-33.24472427368164,-25.08803939819336,28.766128540039062,34.76055145263672,-41.72810363769531,67.87378692626953,10.643315315246582,60.252872467041016,54.06484603881836,-4.701066017150879,12.9130277633667,15.62637710571289,-13.245072364807129,58.011714935302734,25.015029907226562,-32.67447280883789,33.45085525512695,-11.002753257751465,-42.17362976074219,56.82681655883789,-17.360782623291016,-5.683885097503662,-5.726045608520508,-18.67348289489746,21.695093154907227,21.667034149169922,-38.39515686035156,-69.97171783447266,-69.96334075927734,-63.978607177734375,-62.53805923461914,1.41304349899292,4.344691753387451,-1.211458444595337,-13.403016090393066,-4.662757873535156,-12.638571739196777,20.589744567871094,1.1176786422729492,22.265371322631836,25.146217346191406,-18.30495262145996,-15.585986137390137,-9.063304901123047,-7.762816429138184,6.865406513214111,-3.5323305130004883,30.13758659362793,4.9497175216674805,29.9500675201416,3.070086717605591,-2.4198150634765625,25.283174514770508,-21.622560501098633,-33.616477966308594,0.968234658241272,2.902775764465332,-42.606781005859375,-44.071327209472656,-33.54643630981445,-15.75606918334961,17.765321731567383,-19.73712921142578,39.87106704711914,30.549285888671875,5.313236713409424,-25.15679168701172,-25.11481285095215,-31.073171615600586,-37.13873291015625,-25.77530288696289,22.776290893554688,17.037246704101562,-7.445991516113281,35.301963806152344,35.1805534362793,39.39926528930664,37.368003845214844,36.96320343017578,36.4700813293457,-28.694759368896484,-28.7888126373291,-28.918041229248047,-29.02971076965332,-28.922903060913086,-26.2908878326416,-25.493038177490234,-25.346839904785156,-25.246381759643555,-54.65056610107422,-53.77168273925781,-53.52431869506836,-51.12685775756836,-50.71857452392578,-46.4561882019043,-45.43254470825195,-44.8582878112793,-44.30068588256836,58.38554763793945,58.38896560668945,21.613819122314453,15.443123817443848,51.01819610595703,-20.25063705444336,26.003271102905273,-50.541770935058594,5.565427303314209,-27.500856399536133,15.44139575958252,43.146060943603516,24.36357879638672,-15.55919361114502,-31.075389862060547,39.62032699584961,24.709827423095703,-17.701919555664062,-21.478458404541016,46.15690994262695,-55.51552963256836,-0.7480215430259705,-32.96684265136719,-16.526498794555664,-31.131872177124023,63.10527420043945,62.7548713684082,-30.107559204101562,-26.785507202148438,-41.60081481933594,-41.62036895751953,20.2215633392334,-51.72522735595703,17.84956932067871,-67.75299835205078,-63.81890106201172,3.0319154262542725,36.767765045166016,14.371301651000977,-0.6932511329650879,-13.780721664428711,-37.091163635253906,5.424120903015137,12.673903465270996,23.664648056030273,-8.609336853027344,-30.47634506225586,-32.8614501953125,23.14064598083496,-45.67729568481445,-45.63755416870117,9.302020072937012,9.880166053771973,-14.467068672180176,-57.79989242553711,-56.660003662109375,-53.5548095703125,12.780120849609375,30.068761825561523,38.729454040527344,42.438385009765625,52.344905853271484,2.519758462905884,31.559329986572266,-52.06665802001953,-44.44886779785156,-53.36707305908203,-53.40435028076172,2.3504772186279297,8.953993797302246,34.305179595947266,-19.631580352783203,2.8072891235351562,-45.352577209472656,-45.466976165771484,-7.404769420623779,-19.995336532592773,-4.503157138824463,26.651830673217773,-21.67577362060547,20.21974754333496,41.12236404418945,-8.236991882324219,1.723434329032898,41.69261932373047,-13.374688148498535,-37.381961822509766,12.147741317749023,11.816638946533203,-49.005882263183594,22.833019256591797,22.422285079956055,23.492216110229492,29.80449676513672,28.901878356933594,-11.406078338623047,14.864547729492188,18.87790298461914,18.94070816040039,8.572747230529785,-0.9350990653038025,67.11090850830078,-5.80269718170166,-25.923826217651367,51.49107360839844,48.12729263305664,50.216941833496094,2.9461474418640137,2.126387119293213,16.524274826049805,15.484906196594238,3.612767457962036,61.390220642089844,-42.367897033691406,15.0504150390625,23.645383834838867,-43.67817687988281,-20.803911209106445,-28.38917350769043,65.31634521484375,13.254192352294922,-12.61790943145752,53.90427780151367,55.53010177612305,-7.989175319671631,59.970462799072266,19.367074966430664,-19.169673919677734,41.1419792175293,43.81610870361328,43.80744171142578,-68.1146469116211,-14.27834415435791,10.317879676818848,10.404882431030273,8.014317512512207,6.910876274108887,28.722267150878906,31.08672523498535,29.90178871154785,26.779705047607422,-5.348584175109863,31.967514038085938,-8.535009384155273,12.170611381530762,-35.92302703857422,-45.6818962097168,-45.74971389770508,-31.072086334228516,-34.80759811401367,-37.555091857910156,64.04827880859375,35.52357482910156,2.418264389038086,65.51226043701172,65.54346466064453,11.280981063842773,25.294391632080078,-9.804597854614258,-41.60673522949219,-1.6763452291488647,-38.73106002807617,1.4518959522247314,3.380516529083252,2.6147186756134033,34.219112396240234,34.859004974365234,35.47816467285156,36.14406204223633,37.55618667602539,38.41194152832031,38.78651428222656,40.48016357421875,40.6867790222168,-4.199936389923096,-17.589353561401367,-17.5170955657959,-20.107616424560547,64.509521484375,64.32760620117188,-55.8543701171875,-55.64296340942383,-54.78713607788086,-51.36265563964844,11.580310821533203,-22.50408935546875,-22.85088539123535,-23.264944076538086,-23.498384475708008,-23.669580459594727,-23.603031158447266,-23.49319076538086,-23.308507919311523,-23.22821807861328,-23.036664962768555,-22.826129913330078,-22.312957763671875,-21.730680465698242,-21.503631591796875,-22.835668563842773,18.624486923217773,18.845304489135742,19.080615997314453,-66.49435424804688,-66.18933868408203,-65.0927734375,-64.11238098144531,-64.18257141113281,4.832387924194336,2.6470158100128174,2.840701103210449,36.32469177246094,36.3558349609375,-8.355462074279785,13.62325382232666,12.850218772888184,11.355067253112793,10.971388816833496,10.284162521362305,-3.585355043411255,-3.379131317138672,-2.649629592895508,-1.8145619630813599,0.02947860211133957,0.25057509541511536,2.5958914756774902,12.656723976135254,12.788788795471191,13.303345680236816,14.155726432800293,15.568739891052246,16.76506233215332,17.8786678314209,18.823997497558594,-12.043041229248047,-11.665609359741211,-11.118851661682129,-9.061055183410645,-31.161352157592773,-31.51118278503418,-31.504375457763672,-31.06815528869629,18.11412811279297,18.197996139526367,18.29692840576172,18.368087768554688,41.08476257324219,41.313385009765625,42.34014892578125,43.31320571899414,7.788947105407715,7.94310188293457,-12.967369079589844,-13.98491382598877,-14.295124053955078,-15.037894248962402,-15.504511833190918,-59.1904296875,-58.38632583618164,-57.928985595703125,-57.65571975708008,-57.38118362426758,-57.05183792114258,-55.509765625,-54.96782302856445,-54.60101318359375,-54.05946350097656,-38.75697326660156,-38.58894729614258,-37.72621536254883,-37.568912506103516,-36.66886520385742,-35.83808898925781,-35.70986557006836,-34.92142868041992,-34.73073959350586,-34.118133544921875,-9.463787078857422,-10.088419914245605,-11.025617599487305,-11.7488374710083,-12.352476119995117,-12.836578369140625,-13.20664119720459,13.724084854125977,15.088083267211914,15.45536994934082,34.75335693359375,34.214332580566406,33.586177825927734,32.76525115966797,30.474580764770508,39.93202590942383,41.03203201293945,41.624141693115234,42.11722183227539,43.04335021972656,50.898887634277344,51.34384536743164,52.40576934814453,54.772647857666016,55.09700012207031,56.11283874511719,1.452247977256775,0.47240519523620605,0.01934736780822277,-1.2289966344833374,-50.12776184082031,-49.76310729980469,-50.261375427246094,-50.366878509521484,-50.84938049316406,-51.98413848876953,-52.29613494873047,-52.566070556640625,-52.68787384033203,-52.58985137939453,-52.198768615722656,-52.08977508544922,-8.605621337890625,-8.592286109924316,31.109554290771484,31.17896842956543,-43.05564880371094,-42.945396423339844,-42.37900161743164,-40.880794525146484,-45.68360137939453,-46.02446746826172,-6.6872968673706055,-6.233532428741455,-6.091744899749756,-5.4219512939453125,-4.90231466293335,-4.420133113861084,-3.8101375102996826,-3.2883591651916504,-2.1399831771850586,-0.8269556164741516,-0.40141937136650085,0.06716457009315491,-24.606651306152344,-24.138490676879883,-23.885026931762695,-21.065763473510742,-20.61881446838379,-20.177492141723633,43.37554168701172,43.11905288696289,42.749534606933594,37.165306091308594,36.94917297363281,37.00569534301758,33.04503631591797,31.515851974487305,31.160478591918945,29.2276668548584,29.098880767822266,28.324934005737305,-8.888402938842773,-8.593841552734375,-9.005701065063477,-8.3776216506958,-7.124544143676758,-6.529514312744141,-5.721319198608398,-5.276710033416748,-4.517563819885254,-4.151829719543457,-3.285295009613037,-2.4029414653778076,-1.0428649187088013,-0.01463985163718462,0.39896658062934875,1.3437541723251343,1.0731877088546753,1.9241290092468262,2.70391583442688,2.5370428562164307,3.4263272285461426,3.1256446838378906,3.9863555431365967,3.1839120388031006,4.0472493171691895,3.625596523284912,3.3076295852661133,4.1839165687561035,3.4353091716766357,3.853095293045044,0.22000108659267426,-0.18299168348312378,-0.9443115592002869,-1.2024779319763184,-1.914153814315796,-2.8954591751098633,-3.657148599624634,-4.776853561401367,-4.633642673492432,-5.472978115081787,-6.2587385177612305,-6.805364608764648,-7.817718982696533,-8.501876831054688,-9.292425155639648,-10.079739570617676,-11.993826866149902,-13.039582252502441,-13.806660652160645,-13.926103591918945,-14.881965637207031,-14.533503532409668,-15.426410675048828,-15.613436698913574,-16.051860809326172,-15.50732707977295,-16.295146942138672,-15.972402572631836,-15.271024703979492,-15.751313209533691,-14.708687782287598,-14.99162769317627,20.29075813293457,21.1123046875,21.254915237426758,22.064844131469727,22.13304328918457,23.004743576049805,23.817031860351562,24.067691802978516,-20.069412231445312,-20.87528419494629,-20.24072265625,-19.887950897216797,-21.005773544311523,-20.1320858001709,-20.90015983581543,-20.04724884033203,-21.484891891479492,-20.525480270385742,-21.18819808959961,-22.190387725830078,-22.601119995117188,-22.2349853515625,-21.782976150512695,14.313425064086914,13.590391159057617,13.809175491333008,12.758951187133789,13.005523681640625,12.11703109741211,11.38906478881836,10.72451114654541,10.37755012512207,10.116039276123047,9.57275676727295,9.462651252746582,8.951069831848145,3.7314460277557373,3.606914758682251,3.5702381134033203,24.758180618286133,26.101177215576172,26.572011947631836,28.327468872070312,28.869165420532227,29.272348403930664,30.210771560668945,36.18781280517578,35.95088195800781,35.8176383972168,-10.108635902404785,10.10245418548584,-1.3332809209823608,-5.986161708831787,53.94173812866211,53.59175491333008,52.848480224609375,53.11244583129883,52.20161819458008,51.473636627197266,49.60075759887695,47.5928840637207,47.65493392944336,46.63717269897461,46.962806701660156,46.255332946777344,45.43182373046875,45.68962478637695,44.588375091552734,44.12245178222656,43.240535736083984,42.91420364379883,3.1069347858428955,3.882091760635376,7.1168060302734375,7.393754959106445,7.7897796630859375,-23.593246459960938,-22.94120979309082,-22.8627872467041,-22.306180953979492,-21.60066795349121,-20.763444900512695,39.048988342285156,39.47051239013672,39.94773483276367,40.41396713256836,25.60724449157715,26.06655502319336,26.271230697631836,27.496885299682617,-12.302048683166504,-12.939790725708008,-13.107569694519043,-13.575349807739258,61.509010314941406,-34.45786666870117,-34.64276123046875,-32.10873031616211,-31.6610164642334,-30.735782623291016,-30.13277244567871,-28.88566780090332,-28.052759170532227,16.74005699157715,16.20400047302246,15.750985145568848,-19.35245132446289,-17.703065872192383,-17.727298736572266,23.470962524414062,11.084077835083008,11.013969421386719,-43.23487854003906,-21.086305618286133,-24.042043685913086,-24.234893798828125,-28.553627014160156,16.756608963012695,17.125988006591797,16.743181228637695,17.490190505981445,17.661312103271484,17.149803161621094,17.499711990356445,18.48882293701172,-8.296525955200195,-8.699837684631348,-9.334322929382324,-10.3515043258667,-11.074201583862305,-11.418011665344238,53.44483947753906,55.968318939208984,56.42750549316406,56.508522033691406,56.41117858886719,-27.400787353515625,-27.021303176879883,22.169387817382812,22.524396896362305,22.116989135742188,22.186561584472656,22.4704647064209,22.822185516357422,24.989015579223633,21.023509979248047,-19.80423355102539,-19.39457893371582,-18.865083694458008,-18.712751388549805,59.965965270996094,21.5684757232666,21.364887237548828,43.56820297241211,43.1812744140625,41.9693717956543,41.596675872802734,40.22058868408203,39.97072982788086,39.8790397644043,-3.6923348903656006,7.501469612121582,7.515814304351807,0.06536650657653809,-0.1030416265130043,-0.093610018491745,0.6209850907325745,0.346348375082016,1.08151113986969,4.1766510009765625,5.087657928466797,5.7537007331848145,7.636375904083252,7.904116630554199,11.39384937286377,27.792945861816406,28.354991912841797,28.2012882232666,28.86509132385254,27.065937042236328,26.702341079711914,26.516590118408203,30.668075561523438,30.298112869262695,30.152576446533203,28.88465690612793,29.169206619262695,29.181119918823242,29.338449478149414,-5.523481369018555,-4.960355281829834,-5.359882831573486,-4.399374961853027,-4.92123556137085,-4.473524570465088,-3.691378116607666,31.894336700439453,-9.320493698120117,-9.365911483764648,-14.476388931274414,-14.548519134521484,-2.4430668354034424,-3.0128586292266846,-5.081746578216553,-5.121663570404053,-8.941956520080566,-9.030460357666016,-54.03804397583008,-53.670997619628906,-52.90652847290039,18.316530227661133,18.112680435180664,18.185409545898438,17.63074493408203,15.617240905761719,15.263121604919434,12.561920166015625,9.21158504486084,-46.9595947265625,-46.41592788696289,-27.460050582885742,-27.428295135498047,-9.930045127868652,-9.919384002685547,-39.63945388793945,-39.07463836669922,-38.4096565246582,-38.55842208862305,-37.58511734008789,-36.405826568603516,-34.874813079833984,-34.62869644165039,-7.832374572753906,-35.440731048583984,-35.86314392089844,-36.45852279663086,-37.139610290527344,-40.41944122314453,-40.86799621582031,-41.14359664916992,-24.685077667236328,-24.701034545898438,47.40262985229492,47.59185028076172,48.11178970336914,48.753623962402344,49.133033752441406,-15.091721534729004,-15.095948219299316,10.27020263671875,15.73873519897461,15.769611358642578,-2.8518002033233643,-2.690018653869629,-2.570490837097168,-2.1830921173095703,-21.98853302001953,-21.328535079956055,-20.743242263793945,-20.333017349243164,-19.82485008239746,-19.681808471679688,12.802210807800293,12.504840850830078,11.64894962310791,10.869736671447754,10.075972557067871,9.43925666809082,8.473079681396484,8.293622970581055,63.71601486206055,63.71592330932617,63.852500915527344,63.40700912475586,62.90176773071289,62.70528793334961,62.873779296875,63.4398307800293,32.945892333984375,33.55216979980469,34.131404876708984,34.635841369628906,-33.81595993041992,-34.54598617553711,-34.759765625,-29.45767593383789,-29.521926879882812,-29.676298141479492,-30.51722526550293,-31.376262664794922,-31.716461181640625,-36.37004089355469,-36.57427215576172,-36.82424545288086,-41.51178741455078,-41.37002944946289,21.268686294555664,21.51447105407715,22.399158477783203,53.69929504394531,54.255943298339844,54.78369903564453,54.74906539916992,-35.404170989990234,-36.04229736328125,-36.30594253540039,-43.3929328918457,-43.0303955078125,-1.9451512098312378,-1.7490065097808838,-6.449236869812012,-36.40458297729492,-38.026458740234375,-38.152137756347656,-38.31578063964844,-38.27975845336914,-37.9840087890625,-37.36503982543945,-36.86797332763672,-18.028322219848633,-17.676414489746094,-17.27266502380371,-17.019662857055664,8.096783638000488,9.105225563049316,9.333889961242676,2.102792263031006,-1.7338213920593262,-2.1167004108428955,44.9341926574707,44.9808349609375,-22.660184860229492,-23.1468448638916,-23.617101669311523,-23.822662353515625,48.52155685424805,48.225189208984375,47.94559860229492,47.72063446044922,47.4315185546875,6.234084606170654,6.215696811676025,5.396050930023193,5.384110450744629,20.538238525390625,21.120025634765625,21.781484603881836,21.705795288085938,21.62902069091797,21.4060115814209,-1.681213140487671,19.735595703125,20.282238006591797,20.455747604370117,31.197021484375,31.35994529724121,31.59738540649414,32.26344299316406,32.6725959777832,33.47050857543945,34.14902877807617,35.44226837158203,35.55647277832031,36.15869140625,41.726558685302734,27.733299255371094,27.744606018066406,26.957569122314453,26.955297470092773,26.977710723876953,27.044878005981445,-9.34844970703125,-9.241573333740234,-8.965276718139648,-8.691412925720215],\"y\":[-20.33327865600586,-13.073128700256348,-19.55938720703125,60.47072982788086,47.81904220581055,-4.82770299911499,-2.4412477016448975,39.67792892456055,6.956753253936768,34.23240661621094,25.55634117126465,55.29383850097656,-47.59785842895508,-48.626468658447266,60.49358367919922,10.29100513458252,1.8623846769332886,25.008663177490234,23.258039474487305,23.68698501586914,8.897111892700195,24.368101119995117,-46.95784378051758,25.809911727905273,2.136629343032837,51.67524719238281,18.060354232788086,-4.310009002685547,-17.10449981689453,-22.30906867980957,29.954362869262695,-6.812912464141846,17.483795166015625,-56.22911071777344,-31.664636611938477,-38.4085693359375,-31.22883415222168,59.76206588745117,33.36186981201172,10.326488494873047,3.214020013809204,-12.869155883789062,15.547616958618164,2.63797926902771,-52.453372955322266,4.2753586769104,3.6011757850646973,-67.25835418701172,17.046463012695312,17.12913703918457,-15.736654281616211,-52.48308181762695,-34.16654586791992,33.80454635620117,-30.611719131469727,-7.057061672210693,-5.52574348449707,-76.70429229736328,42.41215515136719,66.5841293334961,11.748272895812988,-13.29063606262207,-25.665864944458008,-46.666046142578125,-36.342628479003906,8.119850158691406,-68.16997528076172,-69.02127075195312,57.469234466552734,-1.0852142572402954,-50.49758529663086,-51.5738410949707,-36.68837356567383,33.089691162109375,-41.519596099853516,41.10020065307617,7.581446170806885,-22.16362762451172,-17.044771194458008,40.166255950927734,7.135157108306885,-1.0983296632766724,41.77000045776367,-4.66619873046875,34.27693176269531,-20.317127227783203,-54.46937561035156,-48.630428314208984,-48.484378814697266,-12.958836555480957,-47.72700119018555,-49.74051284790039,14.35400390625,29.333524703979492,-4.985231876373291,15.169319152832031,57.95978546142578,5.462652206420898,59.17566680908203,-70.54461669921875,24.788766860961914,-29.707483291625977,36.29443359375,-34.45509338378906,-26.00684356689453,0.804448664188385,17.383665084838867,16.719558715820312,-23.843994140625,-17.576372146606445,7.009406566619873,38.97718811035156,-35.578163146972656,-35.52269744873047,-22.28374671936035,9.91331958770752,-38.926292419433594,-41.45833969116211,-43.601043701171875,-42.83530044555664,49.36540222167969,-21.01756477355957,-27.519954681396484,8.564478874206543,15.154809951782227,8.827116966247559,-51.991756439208984,-10.282318115234375,39.29670333862305,31.194204330444336,-0.11436792463064194,23.6568603515625,64.46818542480469,11.879902839660645,-58.66536331176758,-2.880507230758667,19.758275985717773,-42.639564514160156,24.024166107177734,-14.655556678771973,-10.91192626953125,1.0591875314712524,-23.537200927734375,-47.242610931396484,-17.21955108642578,-40.56956481933594,-44.1464958190918,-25.91139793395996,-5.515817642211914,-9.633066177368164,-24.309133529663086,-47.75157928466797,-36.284515380859375,30.850936889648438,11.18394660949707,-36.15914535522461,31.133174896240234,-9.485489845275879,-8.805726051330566,-2.5919687747955322,7.220200538635254,60.947410583496094,7.763546943664551,22.5557861328125,-37.64619827270508,24.32206916809082,43.12159729003906,-16.884084701538086,65.43196105957031,-0.9702684879302979,64.35155487060547,-22.120494842529297,50.035457611083984,-11.810182571411133,-59.120452880859375,-2.429555892944336,8.621232032775879,23.297914505004883,-8.019745826721191,-42.865631103515625,41.316688537597656,57.24058151245117,56.45096969604492,-9.087888717651367,44.290802001953125,-3.0625245571136475,24.580860137939453,8.485932350158691,-15.459070205688477,-14.977685928344727,-14.496877670288086,-23.35127830505371,-25.212636947631836,-53.590003967285156,-53.252967834472656,-52.421504974365234,-52.03191375732422,-13.664349555969238,-18.787303924560547,-18.920406341552734,-19.479604721069336,-19.90875816345215,-20.838972091674805,-21.461721420288086,-21.736555099487305,-48.17265701293945,-48.26105880737305,-48.77217102050781,-51.18559646606445,-51.82729721069336,-51.20983123779297,-50.86254119873047,-50.11941909790039,-36.608150482177734,-36.0161018371582,-35.351749420166016,-35.242713928222656,-34.63958740234375,-40.760440826416016,-69.18424224853516,-69.16719055175781,-35.435699462890625,-34.842411041259766,-52.587066650390625,-58.43435287475586,-17.390872955322266,8.640462875366211,8.300026893615723,4.756646633148193,14.556473731994629,40.05033874511719,-71.90459442138672,-31.653566360473633,-36.43950271606445,-9.27027416229248,30.033123016357422,58.74629211425781,49.36359405517578,-22.78354263305664,11.270973205566406,57.594886779785156,67.87430572509766,37.71320343017578,-6.148850440979004,-2.3615946769714355,4.224102973937988,-22.6844482421875,47.04039764404297,9.10393238067627,-19.68866729736328,1.0260834693908691,12.887889862060547,12.899628639221191,31.416013717651367,-58.926517486572266,-58.91548538208008,36.82511901855469,8.825258255004883,8.811447143554688,1.417548418045044,3.309690237045288,12.289495468139648,-49.12381362915039,19.25555992126465,64.90792083740234,12.39413070678711,63.43278503417969,-7.743023872375488,33.74651336669922,29.677030563354492,27.886838912963867,56.46714401245117,60.29658508300781,61.69688415527344,57.74290084838867,31.287960052490234,-14.267090797424316,-11.855135917663574,20.843961715698242,-18.03013801574707,-16.466554641723633,-15.41240406036377,-72.64865112304688,-75.51155853271484,-33.606815338134766,-8.91891860961914,-9.5936918258667,36.0325927734375,35.95933151245117,-10.565199851989746,2.697789430618286,47.116554260253906,-34.4946174621582,-2.7491869926452637,46.73398208618164,-50.16569900512695,-62.2901725769043,-62.34410858154297,68.56007385253906,-60.7287712097168,25.091594696044922,15.09635066986084,-17.52760887145996,-37.582435607910156,-46.94979476928711,-45.46992111206055,-58.48503875732422,-57.70009994506836,-57.315818786621094,-56.936458587646484,-20.662961959838867,-20.03190803527832,-19.233327865600586,-18.502361297607422,-17.846466064453125,9.71810245513916,6.740926265716553,6.201111793518066,5.653744220733643,-38.95392608642578,-39.8925895690918,-40.176944732666016,-42.90968704223633,-42.88661193847656,-42.28065872192383,-41.98192596435547,-41.7202033996582,-40.85868835449219,8.170171737670898,8.192136764526367,13.746527671813965,15.628561973571777,27.867067337036133,39.007320404052734,32.157081604003906,-20.413936614990234,35.84672546386719,-35.335994720458984,67.64916229248047,61.016029357910156,-2.4685282707214355,53.68385314941406,68.54906463623047,-26.283143997192383,39.00440979003906,32.988075256347656,-3.6269772052764893,43.1436653137207,-24.740724563598633,50.49091720581055,39.9671745300293,-15.44552993774414,-52.33066940307617,17.458398818969727,17.309476852416992,-5.407569885253906,-5.039782524108887,-25.579256057739258,-25.584394454956055,41.830291748046875,-20.31122589111328,-59.67958450317383,4.640747547149658,5.915719509124756,10.265274047851562,15.840847969055176,6.8786139488220215,39.81515884399414,21.367996215820312,-30.239763259887695,34.59613800048828,29.17942237854004,29.27239418029785,58.813350677490234,55.68372344970703,55.45566177368164,23.08294677734375,48.885833740234375,48.94089126586914,36.176490783691406,36.03167724609375,16.946849822998047,31.09812355041504,28.527849197387695,27.80362319946289,-11.733396530151367,-15.785629272460938,11.183825492858887,7.556568622589111,5.591066360473633,-16.039278030395508,48.23737716674805,-5.653188705444336,-13.372958183288574,-5.899599552154541,-5.61019229888916,-73.97711181640625,46.3502082824707,-5.4992356300354,46.63777160644531,-8.772823333740234,34.77464294433594,34.871517181396484,40.68077850341797,-21.421003341674805,-8.440478324890137,-38.33565139770508,-30.436017990112305,48.41446304321289,-8.552734375,-59.11075210571289,-47.364723205566406,-17.158931732177734,-31.776857376098633,-60.95606994628906,-16.454612731933594,-16.396499633789062,14.117015838623047,-23.05105972290039,-22.358064651489258,-25.11640167236328,-26.249181747436523,-29.514511108398438,6.965594291687012,16.750545501708984,17.70207405090332,17.712730407714844,25.396841049194336,63.66148376464844,30.640886306762695,20.585586547851562,28.630273818969727,30.11668586730957,32.30197525024414,30.10564613342285,-0.17945833504199982,0.3685379922389984,-29.57900047302246,-30.252294540405273,50.6275634765625,-13.57736587524414,23.346004486083984,-25.05611228942871,21.664323806762695,22.864471435546875,-21.758193969726562,44.70582962036133,-4.975548267364502,41.878692626953125,36.79276657104492,-7.699247360229492,-8.931638717651367,4.386478900909424,-31.87965202331543,9.290127754211426,52.11893081665039,44.08517074584961,47.09343719482422,47.0998420715332,22.624465942382812,-23.36507225036621,42.00260543823242,41.84933090209961,48.14820861816406,-4.34132194519043,38.70195007324219,10.116058349609375,57.9195556640625,57.34001922607422,-24.41320037841797,48.47129440307617,-19.86517333984375,-0.44680356979370117,31.905282974243164,14.459012031555176,12.12166976928711,39.92826843261719,29.473058700561523,-1.243286371231079,17.851613998413086,3.1850855350494385,-73.86637878417969,2.143134117126465,2.1705565452575684,14.513071060180664,-72.64263916015625,28.697345733642578,-8.48666000366211,42.96066665649414,-23.995128631591797,27.25713539123535,27.9206485748291,28.114519119262695,-27.128122329711914,-27.156782150268555,-27.046308517456055,-27.215974807739258,-27.280763626098633,-27.414051055908203,-27.222911834716797,-28.101482391357422,-28.23638916015625,12.833707809448242,32.08354568481445,32.068382263183594,37.91313171386719,-17.573434829711914,-17.681499481201172,-26.410764694213867,-25.935476303100586,-24.544376373291016,-20.796091079711914,58.187705993652344,-75.15790557861328,-74.34095001220703,-73.0886001586914,-72.3043212890625,-71.15547180175781,-70.4399642944336,-69.55266571044922,-67.9788589477539,-67.19148254394531,-66.41358947753906,-65.5262222290039,-64.75753784179688,-63.998863220214844,-63.74946594238281,-8.332051277160645,-58.55796813964844,-58.053855895996094,-57.4835319519043,5.198208332061768,4.873727798461914,4.458897590637207,3.326647996902466,2.5214648246765137,42.45058059692383,11.566873550415039,11.792927742004395,14.575516700744629,14.81624698638916,-54.75216293334961,6.804838180541992,7.366756916046143,7.4694504737854,7.375982284545898,7.331781387329102,16.825607299804688,17.054597854614258,17.682514190673828,18.370737075805664,35.43354034423828,35.24616241455078,34.81605911254883,27.69396209716797,26.650066375732422,26.147544860839844,25.857379913330078,26.20888900756836,26.6098690032959,27.001977920532227,27.3023624420166,61.31466293334961,61.44822311401367,61.076560974121094,60.251670837402344,54.15456771850586,54.35773849487305,55.11262130737305,56.59904479980469,34.23722457885742,33.409263610839844,32.82573699951172,32.461605072021484,14.23861312866211,14.948659896850586,14.849259376525879,15.52064323425293,33.65311050415039,33.646629333496094,18.26271629333496,18.936683654785156,19.44422149658203,20.261714935302734,20.486209869384766,35.608245849609375,35.15468978881836,34.44151306152344,33.76646041870117,32.81668472290039,32.049468994140625,29.524017333984375,29.064685821533203,28.59217071533203,29.069683074951172,21.175548553466797,20.537233352661133,20.77294921875,19.918718338012695,19.911157608032227,19.2820987701416,18.420433044433594,19.033048629760742,18.169221878051758,18.106569290161133,-13.778340339660645,-14.131043434143066,-14.723174095153809,-15.131407737731934,-15.658525466918945,-15.505722045898438,-16.256895065307617,-11.470076560974121,-11.26785659790039,-11.242317199707031,-16.29346466064453,-16.507061004638672,-16.608186721801758,-16.61347770690918,-16.197948455810547,10.651652336120605,10.274658203125,9.960407257080078,9.605262756347656,8.945672988891602,4.53818941116333,4.362794876098633,3.424926519393921,2.9578185081481934,2.8101630210876465,2.262484073638916,-15.151773452758789,-15.323541641235352,-15.370429992675781,-15.357809066772461,-13.996976852416992,-13.417715072631836,-13.168560028076172,-12.279257774353027,-11.697009086608887,-10.173996925354004,-9.58365249633789,-9.146697998046875,-8.413010597229004,-3.5041511058807373,-2.883477210998535,-2.6627917289733887,-10.657770156860352,-10.651285171508789,-3.1389477252960205,-2.5797958374023438,-52.50249481201172,-52.40877151489258,-51.915069580078125,-50.59023666381836,33.483299255371094,33.68385696411133,41.63142776489258,40.71025848388672,40.521514892578125,-5.07064151763916,-6.010791778564453,-6.721541881561279,-6.894622802734375,-7.190053462982178,-7.373196125030518,-7.445469379425049,-7.787408351898193,-7.420620441436768,-27.82400131225586,-28.01947593688965,-28.147645950317383,-29.18097686767578,-29.649627685546875,-30.131956100463867,-8.068632125854492,-8.664419174194336,-8.852839469909668,-5.541950702667236,-4.732184410095215,-4.386805534362793,15.556984901428223,16.203323364257812,16.339738845825195,16.820232391357422,16.875564575195312,17.031879425048828,-56.074405670166016,-56.67201614379883,-57.195518493652344,-57.78041076660156,-59.79366683959961,-60.53175354003906,-61.040382385253906,-61.789283752441406,-61.272972106933594,-62.10874557495117,-61.843692779541016,-62.01095962524414,-61.93716812133789,-61.55059814453125,-60.79534149169922,-60.810184478759766,-59.94465255737305,-59.67005920410156,-58.40424728393555,-57.60593032836914,-57.14133071899414,-56.227081298828125,-55.49169158935547,-54.96702194213867,-54.26760482788086,-53.4637336730957,-52.56486129760742,-52.25873565673828,-51.47806930541992,-50.86717987060547,-46.90781021118164,-46.127830505371094,-46.472801208496094,-45.48686218261719,-45.8144416809082,-45.00270080566406,-44.38233184814453,-44.37910079956055,-43.49997329711914,-43.131351470947266,-43.6112060546875,-42.835941314697266,-43.12338638305664,-42.61714553833008,-42.8614616394043,-42.60417175292969,-42.1545524597168,-41.46186065673828,-41.508628845214844,-40.55357360839844,-40.57756805419922,-39.68278884887695,-39.253326416015625,-38.191925048828125,-37.34672164916992,-36.54718780517578,-36.143951416015625,-35.25347137451172,-34.54389190673828,-33.779727935791016,-33.777374267578125,-33.07748031616211,-11.687918663024902,-10.712850570678711,-9.876008033752441,-10.249799728393555,-9.442970275878906,-9.774961471557617,-9.077519416809082,-8.528547286987305,16.584470748901367,16.92275047302246,17.596200942993164,18.348146438598633,18.475740432739258,19.603214263916016,20.043670654296875,20.73764991760254,20.638988494873047,21.415048599243164,21.80755615234375,21.782455444335938,22.80385971069336,23.659812927246094,24.592060089111328,-22.800310134887695,-22.78171157836914,-22.00002098083496,-21.706844329833984,-20.929868698120117,-20.801776885986328,-19.551467895507812,-19.496370315551758,-18.45998191833496,-17.676864624023438,-17.11606788635254,-16.27976417541504,-15.977090835571289,18.11222267150879,17.707523345947266,17.446155548095703,-25.380998611450195,-26.01619529724121,-26.247058868408203,-27.06499671936035,-27.209333419799805,-27.705760955810547,-28.28299903869629,-37.15945816040039,-37.441009521484375,-38.47695541381836,6.639161109924316,26.02573585510254,63.816680908203125,20.441448211669922,34.41339111328125,33.64970397949219,33.65242385864258,32.935752868652344,32.54206085205078,32.169525146484375,31.49319076538086,30.095144271850586,29.355602264404297,29.31635856628418,28.014556884765625,28.37363052368164,28.77339744567871,27.63371467590332,27.94377326965332,27.253631591796875,26.819974899291992,26.41223907470703,0.20657874643802643,1.373137354850769,2.5996367931365967,2.9390976428985596,3.097003936767578,41.6855354309082,41.65188980102539,40.75629806518555,41.036739349365234,41.12816619873047,41.693138122558594,-17.33431625366211,-16.88511848449707,-17.299095153808594,-17.036460876464844,30.716920852661133,29.936376571655273,29.500408172607422,28.41094970703125,-2.6641323566436768,-2.974557399749756,-3.5941061973571777,-3.4142825603485107,-13.72490119934082,-11.647860527038574,-11.91064167022705,-33.779632568359375,-33.826332092285156,-33.95228576660156,-33.98664093017578,-33.97041702270508,-34.20682144165039,-27.823820114135742,-27.854665756225586,-28.009851455688477,12.808987617492676,11.110973358154297,10.876021385192871,22.14042854309082,-39.596534729003906,-39.69704818725586,23.370052337646484,-21.807371139526367,57.184104919433594,57.17705535888672,45.121681213378906,-53.16007995605469,-52.32816696166992,-51.68255615234375,-51.32566452026367,-50.526283264160156,-50.08553695678711,-49.20232391357422,-48.725669860839844,34.47953414916992,34.66795349121094,34.90768051147461,35.435462951660156,35.77854537963867,36.07592010498047,-8.26305103302002,-7.9313764572143555,-7.189986228942871,-6.51028299331665,-6.110232353210449,22.150732040405273,22.844202041625977,-3.1576035022735596,-2.3062169551849365,0.8691412806510925,1.5826882123947144,2.1132659912109375,2.4925403594970703,-6.670199394226074,9.180097579956055,53.70500183105469,54.14037322998047,54.9240608215332,55.42557144165039,-31.892398834228516,15.304630279541016,15.581550598144531,42.90533447265625,42.68860626220703,42.84598922729492,42.68564987182617,38.423221588134766,37.33536148071289,36.96208572387695,26.95081329345703,42.88313293457031,42.81422805786133,53.72163391113281,53.26463317871094,52.3634033203125,52.057186126708984,51.34337615966797,51.30652618408203,49.26041793823242,48.58381652832031,48.21640396118164,46.74967956542969,46.41665267944336,40.860103607177734,43.76846694946289,43.55734634399414,42.876220703125,42.1298828125,38.32780456542969,37.97490692138672,37.563446044921875,8.721426963806152,7.800012111663818,7.4057207107543945,59.025821685791016,59.409027099609375,60.089210510253906,60.87563705444336,-28.760732650756836,-28.967819213867188,-29.73222541809082,-30.110139846801758,-30.763017654418945,-31.22787094116211,-31.15812110900879,48.894710540771484,5.108684062957764,4.675711154937744,-24.35354232788086,-24.575233459472656,-21.709484100341797,-22.068862915039062,-23.084266662597656,-22.959814071655273,-18.909631729125977,-18.775360107421875,41.39634704589844,41.513545989990234,41.72907638549805,1.5485000610351562,0.6232051253318787,0.06678758561611176,0.14047002792358398,-0.45376765727996826,-0.6391927599906921,-0.2403818666934967,-13.945444107055664,13.422249794006348,13.006346702575684,42.093017578125,42.1191520690918,46.34149932861328,46.33531188964844,35.304378509521484,35.41205596923828,35.33622741699219,34.70783615112305,34.14812088012695,32.77305221557617,31.031888961791992,30.841148376464844,18.306629180908203,10.797001838684082,10.304431915283203,9.42679214477539,9.374364852905273,9.690293312072754,9.896079063415527,10.147562026977539,28.525917053222656,28.702571868896484,15.595390319824219,16.10579490661621,15.874320983886719,15.21968936920166,14.870728492736816,14.72067928314209,14.702643394470215,-13.086198806762695,-3.3492653369903564,-3.2482924461364746,3.639883279800415,2.999929666519165,2.5082366466522217,1.052911400794983,47.32622528076172,47.292537689208984,47.78702926635742,48.32910919189453,49.25436019897461,49.66804122924805,17.320777893066406,17.1309757232666,16.474140167236328,16.01694107055664,15.499435424804688,15.092857360839844,14.431681632995605,14.369324684143066,-6.242824077606201,-5.7393622398376465,-5.2701005935668945,-3.9843688011169434,-1.8187435865402222,-0.9363049864768982,-0.4686966836452484,0.1701781451702118,1.1129063367843628,1.676871418952942,2.1782000064849854,2.571242094039917,4.062868118286133,3.6947624683380127,3.636993169784546,-1.5334043502807617,-2.2191498279571533,-2.780423641204834,-3.5771446228027344,-3.951214075088501,-3.8876256942749023,0.8427737355232239,0.4830610454082489,0.055781349539756775,-4.189627170562744,-4.160223484039307,-33.65342712402344,-33.67267990112305,-33.67548370361328,-20.661842346191406,-20.350021362304688,-20.61152458190918,-21.1091251373291,-42.539215087890625,-42.244625091552734,-41.974609375,-14.178223609924316,-14.445517539978027,40.97507095336914,41.1976203918457,34.32046890258789,-31.210126876831055,-29.92095375061035,-29.24924087524414,-28.749353408813477,-22.675825119018555,-22.184478759765625,-21.7398624420166,-21.232524871826172,4.318304061889648,3.8972408771514893,3.568204402923584,2.9882113933563232,-5.178528785705566,-5.965433120727539,-6.141481876373291,28.587923049926758,27.357614517211914,27.240324020385742,13.390989303588867,13.34250545501709,-5.580636978149414,-4.716869831085205,-4.428537845611572,-3.9023125171661377,-31.277240753173828,-31.915721893310547,-32.50926971435547,-33.157249450683594,-33.60889434814453,-29.084049224853516,-28.904911041259766,-25.68985366821289,-25.616182327270508,46.702369689941406,46.82772445678711,46.812564849853516,46.200130462646484,43.42246627807617,43.05226516723633,44.293697357177734,7.807386875152588,7.876528263092041,7.474212169647217,28.074522018432617,27.332883834838867,26.800975799560547,26.51377296447754,25.871061325073242,25.131303787231445,24.463918685913086,23.331005096435547,22.86676788330078,21.808164596557617,24.648771286010742,-38.3040657043457,-38.38492202758789,-43.810611724853516,-44.452613830566406,-45.092403411865234,-45.87306594848633,26.38912010192871,26.9796085357666,28.051538467407227,28.16790771484375]},\"selected\":{\"id\":\"1334\",\"type\":\"Selection\"},\"selection_policy\":{\"id\":\"1333\",\"type\":\"UnionRenderers\"}},\"id\":\"1309\",\"type\":\"ColumnDataSource\"},{\"attributes\":{\"fill_alpha\":{\"value\":0.3},\"line_alpha\":{\"value\":0.3},\"line_color\":{\"value\":\"white\"},\"size\":{\"units\":\"screen\",\"value\":6},\"x\":{\"field\":\"x\"},\"y\":{\"field\":\"y\"}},\"id\":\"1311\",\"type\":\"Scatter\"},{\"attributes\":{},\"id\":\"1336\",\"type\":\"Selection\"},{\"attributes\":{\"overlay\":{\"id\":\"1339\",\"type\":\"BoxAnnotation\"}},\"id\":\"1296\",\"type\":\"BoxZoomTool\"},{\"attributes\":{},\"id\":\"1298\",\"type\":\"ResetTool\"},{\"attributes\":{\"callback\":null,\"tooltips\":[[\"(x,y)\",\"($x, $y)\"],[\"entity\",\"@desc\"]]},\"id\":\"1300\",\"type\":\"HoverTool\"},{\"attributes\":{\"fill_alpha\":{\"value\":0.1},\"fill_color\":{\"value\":\"#1f77b4\"},\"line_alpha\":{\"value\":0.1},\"line_color\":{\"value\":\"#1f77b4\"},\"size\":{\"units\":\"screen\",\"value\":6},\"x\":{\"field\":\"x\"},\"y\":{\"field\":\"y\"}},\"id\":\"1318\",\"type\":\"Scatter\"},{\"attributes\":{},\"id\":\"1290\",\"type\":\"BasicTicker\"},{\"attributes\":{},\"id\":\"1297\",\"type\":\"SaveTool\"},{\"attributes\":{},\"id\":\"1295\",\"type\":\"WheelZoomTool\"},{\"attributes\":{\"formatter\":{\"id\":\"1329\",\"type\":\"BasicTickFormatter\"},\"ticker\":{\"id\":\"1285\",\"type\":\"BasicTicker\"}},\"id\":\"1284\",\"type\":\"LinearAxis\"},{\"attributes\":{\"fill_alpha\":{\"value\":0.8},\"fill_color\":{\"value\":\"blue\"},\"line_alpha\":{\"value\":0.8},\"line_color\":{\"value\":\"white\"},\"size\":{\"units\":\"screen\",\"value\":6},\"x\":{\"field\":\"x\"},\"y\":{\"field\":\"y\"}},\"id\":\"1317\",\"type\":\"Scatter\"},{\"attributes\":{\"source\":{\"id\":\"1309\",\"type\":\"ColumnDataSource\"}},\"id\":\"1314\",\"type\":\"CDSView\"},{\"attributes\":{\"bottom_units\":\"screen\",\"fill_alpha\":{\"value\":0.5},\"fill_color\":{\"value\":\"lightgrey\"},\"left_units\":\"screen\",\"level\":\"overlay\",\"line_alpha\":{\"value\":1.0},\"line_color\":{\"value\":\"black\"},\"line_dash\":[4,4],\"line_width\":{\"value\":2},\"render_mode\":\"css\",\"right_units\":\"screen\",\"top_units\":\"screen\"},\"id\":\"1339\",\"type\":\"BoxAnnotation\"},{\"attributes\":{\"fill_alpha\":{\"value\":0.1},\"fill_color\":{\"value\":\"#1f77b4\"},\"line_alpha\":{\"value\":0.1},\"line_color\":{\"value\":\"#1f77b4\"},\"size\":{\"units\":\"screen\",\"value\":6},\"x\":{\"field\":\"x\"},\"y\":{\"field\":\"y\"}},\"id\":\"1312\",\"type\":\"Scatter\"},{\"attributes\":{\"fill_alpha\":{\"value\":0.1},\"fill_color\":{\"value\":\"#1f77b4\"},\"line_alpha\":{\"value\":0.1},\"line_color\":{\"value\":\"#1f77b4\"},\"size\":{\"units\":\"screen\",\"value\":7},\"x\":{\"field\":\"x\"},\"y\":{\"field\":\"y\"}},\"id\":\"1324\",\"type\":\"Scatter\"},{\"attributes\":{\"callback\":null,\"data\":{\"desc\":[\"\\uae40\\uc815\\ud0dc\",\"\\ubc15\\uc2b9\\uc21c\",\"\\uc591\\uc544\\uce58\",\"\\uc774\\uc7a5\\uc6d0\",\"\\uc870\\ud638\\uc601\",\"\\ucd5c\\uc9c4\\ud6c8\",\"\\ucd5c\\ubcd1\\uc77c\",\"\\ud604\\ubc15\"],\"x\":[-44.990135192871094,-32.50025177001953,-19.631534576416016,-31.656890869140625,-7.123834133148193,-13.518150329589844,11.92628002166748,4.081360816955566],\"y\":[-30.847654342651367,-0.946057915687561,-33.92277908325195,-41.108375549316406,-21.97113800048828,-26.38482093811035,31.14613151550293,-7.587050437927246]},\"selected\":{\"id\":\"1338\",\"type\":\"Selection\"},\"selection_policy\":{\"id\":\"1337\",\"type\":\"UnionRenderers\"}},\"id\":\"1321\",\"type\":\"ColumnDataSource\"},{\"attributes\":{},\"id\":\"1331\",\"type\":\"BasicTickFormatter\"},{\"attributes\":{},\"id\":\"1334\",\"type\":\"Selection\"},{\"attributes\":{\"data_source\":{\"id\":\"1315\",\"type\":\"ColumnDataSource\"},\"glyph\":{\"id\":\"1317\",\"type\":\"Scatter\"},\"hover_glyph\":null,\"muted_glyph\":null,\"nonselection_glyph\":{\"id\":\"1318\",\"type\":\"Scatter\"},\"selection_glyph\":null,\"view\":{\"id\":\"1320\",\"type\":\"CDSView\"}},\"id\":\"1319\",\"type\":\"GlyphRenderer\"},{\"attributes\":{},\"id\":\"1282\",\"type\":\"LinearScale\"},{\"attributes\":{},\"id\":\"1299\",\"type\":\"HelpTool\"},{\"attributes\":{},\"id\":\"1333\",\"type\":\"UnionRenderers\"},{\"attributes\":{},\"id\":\"1294\",\"type\":\"PanTool\"},{\"attributes\":{\"dimension\":1,\"grid_line_color\":null,\"ticker\":{\"id\":\"1290\",\"type\":\"BasicTicker\"}},\"id\":\"1293\",\"type\":\"Grid\"},{\"attributes\":{\"text\":\"Joint visualization of words and docs t_sne\"},\"id\":\"1274\",\"type\":\"Title\"},{\"attributes\":{},\"id\":\"1329\",\"type\":\"BasicTickFormatter\"},{\"attributes\":{\"active_drag\":\"auto\",\"active_inspect\":\"auto\",\"active_multi\":null,\"active_scroll\":\"auto\",\"active_tap\":\"auto\",\"tools\":[{\"id\":\"1294\",\"type\":\"PanTool\"},{\"id\":\"1295\",\"type\":\"WheelZoomTool\"},{\"id\":\"1296\",\"type\":\"BoxZoomTool\"},{\"id\":\"1297\",\"type\":\"SaveTool\"},{\"id\":\"1298\",\"type\":\"ResetTool\"},{\"id\":\"1299\",\"type\":\"HelpTool\"},{\"id\":\"1300\",\"type\":\"HoverTool\"}]},\"id\":\"1301\",\"type\":\"Toolbar\"},{\"attributes\":{},\"id\":\"1338\",\"type\":\"Selection\"},{\"attributes\":{\"callback\":null,\"data\":{\"desc\":[\"Sally\",\"\\ube44 \\ub3c5\\ucc3d\\uc801 \\ube44 \\uc801\\uce35\\uc2dd \\uc561\\uc0c1 \\uc870\\ud615\\uc7a5\\uce58\",\"\\ucc3d\\uc758R&d\",\"\\ubaa8\\uba58\\ud140\",\"\\uc5e0\\uc54c\\ub7a9\",\"WILSON\",\"\\uc5b4\\ub514\\uac00 \\ud504\\ub85c\\uc81d\\ud2b8\",\"NeuroScape for Mobility(N4M)\",\"\\uc544\\ub984\\ub2e4\\uc6b4 \\ube44\\ud589\",\"ZER01NE MAGAZINE\",\"\\uc18c\\ud504\\ud2b8\\ub85c\\ubd07 \\uc5f0\\uad6c\",\"\\ud558\\uc580 \\ubc29 \",\"\\ub79c\\ub4dc\\uc2a4\\ucf00\\uc774\\ud504\\ub370\\uc774\\ud130\\ud504\\ub85c\\uc81d\\ud2b8\",\"\\ud300\\uc787\",\"Music for Vehicles\",\"Screen Screen Screen\",\"\\uc778\\ud130\\ubbf8\\ub514\\uc5b4 \\ubaa8\\ube4c\\ub9ac\\ud2f0 R&D\",\"\\uc544\\ub974\\ud0a4\\uba54\\ub370\\uc2a4 \\uad6c\\uba4d - 149,597,870,700, 2018\",\"Screen; Less is More\",\"\\uac80\\uc740\\ubc29\",\"\\uc11c\\uc6b8\\ub77c\\uc774\\ub2e4\\uc988\",\"\\ud83c\\udf10.FM, \\uc6f9, 2018\"],\"x\":[2.594386577606201,13.488293647766113,-14.117764472961426,-9.495046615600586,-29.785888671875,-30.951282501220703,-33.29592514038086,-51.942501068115234,51.59744644165039,-15.138447761535645,61.48587417602539,41.688533782958984,41.71031188964844,-56.684349060058594,-34.182891845703125,-30.537710189819336,-52.76305389404297,-30.9794921875,-34.91090393066406,-17.835973739624023,-28.862836837768555,-25.623245239257812],\"y\":[7.528001308441162,32.24089813232422,-9.992229461669922,-67.96247863769531,-56.30501174926758,-56.787513732910156,-57.63216018676758,13.424164772033691,28.068336486816406,-8.085749626159668,49.738651275634766,62.32368469238281,48.02375793457031,-4.063147068023682,40.76201629638672,-52.508827209472656,19.038236618041992,-5.826164722442627,-45.514808654785156,-0.031422145664691925,-56.022735595703125,-8.331621170043945]},\"selected\":{\"id\":\"1336\",\"type\":\"Selection\"},\"selection_policy\":{\"id\":\"1335\",\"type\":\"UnionRenderers\"}},\"id\":\"1315\",\"type\":\"ColumnDataSource\"},{\"attributes\":{\"callback\":null},\"id\":\"1276\",\"type\":\"DataRange1d\"},{\"attributes\":{\"data_source\":{\"id\":\"1321\",\"type\":\"ColumnDataSource\"},\"glyph\":{\"id\":\"1323\",\"type\":\"Scatter\"},\"hover_glyph\":null,\"muted_glyph\":null,\"nonselection_glyph\":{\"id\":\"1324\",\"type\":\"Scatter\"},\"selection_glyph\":null,\"view\":{\"id\":\"1326\",\"type\":\"CDSView\"}},\"id\":\"1325\",\"type\":\"GlyphRenderer\"},{\"attributes\":{},\"id\":\"1280\",\"type\":\"LinearScale\"},{\"attributes\":{\"data_source\":{\"id\":\"1309\",\"type\":\"ColumnDataSource\"},\"glyph\":{\"id\":\"1311\",\"type\":\"Scatter\"},\"hover_glyph\":null,\"muted_glyph\":null,\"nonselection_glyph\":{\"id\":\"1312\",\"type\":\"Scatter\"},\"selection_glyph\":null,\"view\":{\"id\":\"1314\",\"type\":\"CDSView\"}},\"id\":\"1313\",\"type\":\"GlyphRenderer\"}],\"root_ids\":[\"1273\"]},\"title\":\"Bokeh Application\",\"version\":\"1.4.0\"}};\n",
       "  var render_items = [{\"docid\":\"80161923-729e-4ffa-86a7-e3353a480a73\",\"roots\":{\"1273\":\"47e2751b-13b5-496c-ab34-a5ba8bce0dc0\"}}];\n",
       "  root.Bokeh.embed.embed_items_notebook(docs_json, render_items);\n",
       "\n",
       "  }\n",
       "  if (root.Bokeh !== undefined) {\n",
       "    embed_document(root);\n",
       "  } else {\n",
       "    var attempts = 0;\n",
       "    var timer = setInterval(function(root) {\n",
       "      if (root.Bokeh !== undefined) {\n",
       "        clearInterval(timer);\n",
       "        embed_document(root);\n",
       "      } else {\n",
       "        attempts++;\n",
       "        if (attempts > 100) {\n",
       "          clearInterval(timer);\n",
       "          console.log(\"Bokeh: ERROR: Unable to run BokehJS code because BokehJS library is missing\");\n",
       "        }\n",
       "      }\n",
       "    }, 10, root)\n",
       "  }\n",
       "})(window);"
      ],
      "application/vnd.bokehjs_exec.v0+json": ""
     },
     "metadata": {
      "application/vnd.bokehjs_exec.v0+json": {
       "id": "1273"
      }
     },
     "output_type": "display_data"
    }
   ],
   "source": [
    "# prepare visualization\n",
    "import numpy as np\n",
    "from bokeh.plotting import figure, show, ColumnDataSource\n",
    "from bokeh.plotting import output_notebook, output_file, reset_output\n",
    "\n",
    "def initialize_figure(title):\n",
    "    if title is None:\n",
    "        title = 'Untitled'\n",
    "\n",
    "    TOOLTIPS = [\n",
    "        (\"(x,y)\", \"($x, $y)\"),\n",
    "        (\"entity\", \"@desc\"),\n",
    "    ]\n",
    "\n",
    "    p = figure(title=title, tooltips=TOOLTIPS)\n",
    "    p.grid.grid_line_color = None\n",
    "    p.background_fill_color = \"black\"\n",
    "    p.width = 600\n",
    "    p.height = 600\n",
    "    return p\n",
    "\n",
    "def mtext(p, x, y, text, text_color, text_font_size, text_alpha):\n",
    "    p.text(x, y, text=[text], text_color=text_color, text_align=\"center\",\n",
    "           text_font_size=text_font_size, text_alpha=text_alpha)\n",
    "\n",
    "def annotation(p, coordinates, idx_to_text, text_shift=0.05,\n",
    "    text_font_size='15pt', text_color=\"firebrick\", text_alpha=1.0):\n",
    "\n",
    "    for idx, text in enumerate(idx_to_text):\n",
    "        if not text:\n",
    "            continue\n",
    "        x_ = coordinates[idx,0] + text_shift\n",
    "        y_ = coordinates[idx,1] + text_shift\n",
    "        text = idx_to_text[idx]\n",
    "        mtext(p, x_, y_, text, text_color, text_font_size, text_alpha)\n",
    "\n",
    "def draw(coordinates, idx_to_text, p=None, title=None, marker=\"circle\",\n",
    "         marker_color='gray', marker_size=5, marker_alpha=0.5):\n",
    "    # prepare figure\n",
    "    if p is None:\n",
    "        p = initialize_figure(title)\n",
    "\n",
    "    # prepare data source\n",
    "    source = ColumnDataSource(data=dict(\n",
    "        x = coordinates[:,0].tolist(),\n",
    "        y = coordinates[:,1].tolist(),\n",
    "        desc = idx_to_text\n",
    "    ))\n",
    "\n",
    "    # scatter plot\n",
    "    p.scatter('x', 'y', marker=marker, size=marker_size, line_color= 'white',\n",
    "              fill_color= marker_color, alpha=marker_alpha, source=source)\n",
    "    return p\n",
    "\n",
    "p = draw(z_wv, idx_to_vocab, marker_size=6, marker_alpha=0.3, marker_color='gray',\n",
    "         title='Joint visualization of words and docs t_sne')\n",
    "p = draw(z_dv, idx_to_doc, p=p, marker_size=6, marker_alpha=0.8, marker_color='blue')\n",
    "p = draw(z_av, artist, p=p, marker_size=7, marker_alpha=1, marker_color='red')\n",
    "\n",
    "reset_output()\n",
    "output_notebook()\n",
    "output_file('joint_visualization_window=10_tsne.html')\n",
    "\n",
    "p.height = 1000\n",
    "p.width = 1500\n",
    "show(p)"
   ]
  },
  {
   "cell_type": "code",
   "execution_count": 122,
   "metadata": {},
   "outputs": [
    {
     "data": {
      "text/html": [
       "<div>\n",
       "<style scoped>\n",
       "    .dataframe tbody tr th:only-of-type {\n",
       "        vertical-align: middle;\n",
       "    }\n",
       "\n",
       "    .dataframe tbody tr th {\n",
       "        vertical-align: top;\n",
       "    }\n",
       "\n",
       "    .dataframe thead th {\n",
       "        text-align: right;\n",
       "    }\n",
       "</style>\n",
       "<table border=\"1\" class=\"dataframe\">\n",
       "  <thead>\n",
       "    <tr style=\"text-align: right;\">\n",
       "      <th></th>\n",
       "      <th>key</th>\n",
       "      <th>id</th>\n",
       "      <th>x</th>\n",
       "      <th>y</th>\n",
       "      <th>Group</th>\n",
       "      <th>attritube</th>\n",
       "    </tr>\n",
       "  </thead>\n",
       "  <tbody>\n",
       "    <tr>\n",
       "      <th>0</th>\n",
       "      <td>Artist_김정태</td>\n",
       "      <td>김정태</td>\n",
       "      <td>28.607925</td>\n",
       "      <td>35.893559</td>\n",
       "      <td>artist</td>\n",
       "      <td>{'id': '김정태', 'project': ['팀잇', '어디가 프로젝트'], '...</td>\n",
       "    </tr>\n",
       "    <tr>\n",
       "      <th>1</th>\n",
       "      <td>Artist_박승순</td>\n",
       "      <td>박승순</td>\n",
       "      <td>-18.196304</td>\n",
       "      <td>25.824997</td>\n",
       "      <td>artist</td>\n",
       "      <td>{'id': '박승순', 'project': ['모멘텀', '인터미디어 모빌리티 R...</td>\n",
       "    </tr>\n",
       "    <tr>\n",
       "      <th>2</th>\n",
       "      <td>Artist_양아치</td>\n",
       "      <td>양아치</td>\n",
       "      <td>39.292217</td>\n",
       "      <td>38.183762</td>\n",
       "      <td>artist</td>\n",
       "      <td>{'id': '양아치', 'project': ['Screen Screen Scree...</td>\n",
       "    </tr>\n",
       "    <tr>\n",
       "      <th>3</th>\n",
       "      <td>Artist_이장원</td>\n",
       "      <td>이장원</td>\n",
       "      <td>33.310894</td>\n",
       "      <td>3.392206</td>\n",
       "      <td>artist</td>\n",
       "      <td>{'id': '이장원', 'project': ['아르키메데스 구멍 - 149,597...</td>\n",
       "    </tr>\n",
       "    <tr>\n",
       "      <th>4</th>\n",
       "      <td>Artist_조호영</td>\n",
       "      <td>조호영</td>\n",
       "      <td>28.625051</td>\n",
       "      <td>38.863266</td>\n",
       "      <td>artist</td>\n",
       "      <td>{'id': '조호영', 'project': ['랜드스케이프데이터프로젝트', '엠알...</td>\n",
       "    </tr>\n",
       "  </tbody>\n",
       "</table>\n",
       "</div>"
      ],
      "text/plain": [
       "          key   id          x          y   Group  \\\n",
       "0  Artist_김정태  김정태  28.607925  35.893559  artist   \n",
       "1  Artist_박승순  박승순 -18.196304  25.824997  artist   \n",
       "2  Artist_양아치  양아치  39.292217  38.183762  artist   \n",
       "3  Artist_이장원  이장원  33.310894   3.392206  artist   \n",
       "4  Artist_조호영  조호영  28.625051  38.863266  artist   \n",
       "\n",
       "                                           attritube  \n",
       "0  {'id': '김정태', 'project': ['팀잇', '어디가 프로젝트'], '...  \n",
       "1  {'id': '박승순', 'project': ['모멘텀', '인터미디어 모빌리티 R...  \n",
       "2  {'id': '양아치', 'project': ['Screen Screen Scree...  \n",
       "3  {'id': '이장원', 'project': ['아르키메데스 구멍 - 149,597...  \n",
       "4  {'id': '조호영', 'project': ['랜드스케이프데이터프로젝트', '엠알...  "
      ]
     },
     "execution_count": 122,
     "metadata": {},
     "output_type": "execute_result"
    }
   ],
   "source": [
    "total.head()"
   ]
  },
  {
   "cell_type": "code",
   "execution_count": 123,
   "metadata": {},
   "outputs": [
    {
     "data": {
      "text/plain": [
       "1154"
      ]
     },
     "execution_count": 123,
     "metadata": {},
     "output_type": "execute_result"
    }
   ],
   "source": [
    "len(total.index)"
   ]
  },
  {
   "cell_type": "code",
   "execution_count": 124,
   "metadata": {},
   "outputs": [
    {
     "data": {
      "text/plain": [
       "key                                             Project_WILSON\n",
       "id                                                      WILSON\n",
       "x                                                      46.2145\n",
       "y                                                      29.2296\n",
       "Group                                                  project\n",
       "attritube    {'id': 'WILSON', 'artist': '양아치', 'descrtibe':...\n",
       "Name: 5, dtype: object"
      ]
     },
     "execution_count": 124,
     "metadata": {},
     "output_type": "execute_result"
    }
   ],
   "source": [
    "total.iloc[13]"
   ]
  },
  {
   "cell_type": "code",
   "execution_count": 125,
   "metadata": {},
   "outputs": [
    {
     "data": {
      "text/plain": [
       "['최진훈', '조호영', '박승순', '김정태']"
      ]
     },
     "execution_count": 125,
     "metadata": {},
     "output_type": "execute_result"
    }
   ],
   "source": [
    "total.iloc[32]['attritube']['use_artist']"
   ]
  },
  {
   "cell_type": "code",
   "execution_count": 126,
   "metadata": {},
   "outputs": [],
   "source": [
    "main_link = []\n",
    "sub_link = []\n",
    "for i in range(len(total)):\n",
    "    key = total.iloc[i]['key']\n",
    "    attribute = total.iloc[i]['attritube']\n",
    "    if key in new_art:\n",
    "        for j in attribute['project']:\n",
    "            documents = {}\n",
    "            documents['source'] = key\n",
    "            documents['target'] = 'Project_'+j\n",
    "            documents['strength'] = 1\n",
    "            documents['Type'] = 'main'\n",
    "            main_link.append(documents)\n",
    "        if type(attribute['inside']) is list:\n",
    "            try:\n",
    "                inlist = attribute['inside'][0].split(', ')\n",
    "                for k in inlist:\n",
    "                    documents = {}\n",
    "                    documents['source'] = key\n",
    "                    documents['target'] = 'Artist_'+k\n",
    "                    documents['strength'] = 0.5\n",
    "                    documents['Type'] = 'main'\n",
    "                    main_link.append(documents)\n",
    "            except:\n",
    "                continue\n",
    "    elif key in new_doc:\n",
    "        documents = {}\n",
    "        documents['source'] = key\n",
    "        documents['target'] = 'Artist_'+ attribute['artist']\n",
    "        documents['strength'] = 1\n",
    "        documents['Type'] = 'main'\n",
    "        main_link.append(documents)\n",
    "        \n",
    "    elif key in idx_to_vocab:\n",
    "        for a in attribute['use_artist']:\n",
    "            documents = {}\n",
    "            documents['source'] = key\n",
    "            documents['target'] = 'Artist_'+ a\n",
    "            documents['strength'] = 0.3\n",
    "            documents['Type'] = 'sub'\n",
    "            main_link.append(documents)\n",
    "        for b in attribute['use_project']:\n",
    "            documents = {}\n",
    "            documents['source'] = key\n",
    "            documents['target'] = 'Project_'+ b\n",
    "            documents['Type'] = 'sub'\n",
    "            documents['strength'] = 0.3\n",
    "            main_link.append(documents)"
   ]
  },
  {
   "cell_type": "code",
   "execution_count": 127,
   "metadata": {},
   "outputs": [
    {
     "data": {
      "text/plain": [
       "4068"
      ]
     },
     "execution_count": 127,
     "metadata": {},
     "output_type": "execute_result"
    }
   ],
   "source": [
    "len(main_link)"
   ]
  },
  {
   "cell_type": "code",
   "execution_count": 128,
   "metadata": {},
   "outputs": [
    {
     "data": {
      "text/plain": [
       "[{'source': 'Artist_김정태',\n",
       "  'target': 'Project_팀잇',\n",
       "  'strength': 1,\n",
       "  'Type': 'main'},\n",
       " {'source': 'Artist_김정태',\n",
       "  'target': 'Project_어디가 프로젝트',\n",
       "  'strength': 1,\n",
       "  'Type': 'main'},\n",
       " {'source': 'Artist_김정태',\n",
       "  'target': 'Artist_김정태',\n",
       "  'strength': 0.5,\n",
       "  'Type': 'main'},\n",
       " {'source': 'Artist_김정태',\n",
       "  'target': 'Artist_최영준',\n",
       "  'strength': 0.5,\n",
       "  'Type': 'main'},\n",
       " {'source': 'Artist_박승순',\n",
       "  'target': 'Project_모멘텀',\n",
       "  'strength': 1,\n",
       "  'Type': 'main'},\n",
       " {'source': 'Artist_박승순',\n",
       "  'target': 'Project_인터미디어 모빌리티 R&D',\n",
       "  'strength': 1,\n",
       "  'Type': 'main'},\n",
       " {'source': 'Artist_박승순',\n",
       "  'target': 'Project_창의R&d',\n",
       "  'strength': 1,\n",
       "  'Type': 'main'},\n",
       " {'source': 'Artist_박승순',\n",
       "  'target': 'Project_NeuroScape for Mobility(N4M)',\n",
       "  'strength': 1,\n",
       "  'Type': 'main'},\n",
       " {'source': 'Artist_박승순',\n",
       "  'target': 'Project_Music for Vehicles',\n",
       "  'strength': 1,\n",
       "  'Type': 'main'},\n",
       " {'source': 'Artist_박승순',\n",
       "  'target': 'Artist_박승순',\n",
       "  'strength': 0.5,\n",
       "  'Type': 'main'}]"
      ]
     },
     "execution_count": 128,
     "metadata": {},
     "output_type": "execute_result"
    }
   ],
   "source": [
    "main_link[0:10]"
   ]
  },
  {
   "cell_type": "code",
   "execution_count": 129,
   "metadata": {},
   "outputs": [],
   "source": [
    "# Your codes .... \n",
    "with open('main_link.json', 'w', encoding='UTF-8') as outfile:\n",
    "    outfile.write(json.dumps(main_link, cls=NpEncoder, ensure_ascii=False, indent=4))"
   ]
  },
  {
   "cell_type": "code",
   "execution_count": 147,
   "metadata": {},
   "outputs": [
    {
     "data": {
      "text/plain": [
       "4000"
      ]
     },
     "execution_count": 147,
     "metadata": {},
     "output_type": "execute_result"
    }
   ],
   "source": [
    "len(sub_link)"
   ]
  },
  {
   "cell_type": "code",
   "execution_count": 152,
   "metadata": {},
   "outputs": [],
   "source": [
    "# Your codes .... \n",
    "with open('sub_link.json', 'w', encoding='UTF-8') as outfile:\n",
    "    outfile.write(json.dumps(sub_link, cls=NpEncoder, ensure_ascii=False))"
   ]
  },
  {
   "cell_type": "code",
   "execution_count": null,
   "metadata": {},
   "outputs": [],
   "source": []
  },
  {
   "cell_type": "code",
   "execution_count": null,
   "metadata": {},
   "outputs": [],
   "source": []
  },
  {
   "cell_type": "code",
   "execution_count": null,
   "metadata": {},
   "outputs": [],
   "source": [
    "\n",
    "\n",
    "\n"
   ]
  }
 ],
 "metadata": {
  "kernelspec": {
   "display_name": "python3.7",
   "language": "python",
   "name": "python3.7"
  },
  "language_info": {
   "codemirror_mode": {
    "name": "ipython",
    "version": 3
   },
   "file_extension": ".py",
   "mimetype": "text/x-python",
   "name": "python",
   "nbconvert_exporter": "python",
   "pygments_lexer": "ipython3",
   "version": "3.7.4"
  }
 },
 "nbformat": 4,
 "nbformat_minor": 2
}
